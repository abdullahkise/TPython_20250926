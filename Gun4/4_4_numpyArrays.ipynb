{
 "cells": [
  {
   "cell_type": "markdown",
   "id": "5e3e2d25",
   "metadata": {},
   "source": [
    "# Numpy Kütüphanesi\n",
    "![alt text](NumpyGiris.png)"
   ]
  },
  {
   "cell_type": "code",
   "execution_count": 7,
   "id": "1755ec91",
   "metadata": {},
   "outputs": [
    {
     "data": {
      "text/plain": [
       "[6, 7, 8]"
      ]
     },
     "execution_count": 7,
     "metadata": {},
     "output_type": "execute_result"
    }
   ],
   "source": [
    "lst = [1,2,3]\n",
    "#lst * 5\n",
    "#lst + 5\n",
    "\n",
    "#\n",
    "[l+5 for l in lst] #yapay broadcast #map fonksyionu da bunu sağlar.\n",
    "list(map( lambda l: l+5, lst)) #map ile broadcast"
   ]
  },
  {
   "cell_type": "code",
   "execution_count": 8,
   "id": "6da430af",
   "metadata": {},
   "outputs": [],
   "source": [
    "import numpy as np"
   ]
  },
  {
   "cell_type": "code",
   "execution_count": 12,
   "id": "0f2ca784",
   "metadata": {},
   "outputs": [
    {
     "data": {
      "text/plain": [
       "array([6, 7, 8])"
      ]
     },
     "execution_count": 12,
     "metadata": {},
     "output_type": "execute_result"
    }
   ],
   "source": [
    "np.array(lst) + 5 #broadcast özelliği mevcut."
   ]
  },
  {
   "cell_type": "code",
   "execution_count": null,
   "id": "036dbaa8",
   "metadata": {},
   "outputs": [
    {
     "data": {
      "text/plain": [
       "1"
      ]
     },
     "execution_count": 14,
     "metadata": {},
     "output_type": "execute_result"
    }
   ],
   "source": [
    "a = np.array([1,2,3,4,5,6,7])\n",
    "a.shape #(7,)\n",
    "a.ndim #boyut."
   ]
  },
  {
   "cell_type": "code",
   "execution_count": 17,
   "id": "ab0bda4f",
   "metadata": {},
   "outputs": [
    {
     "data": {
      "text/plain": [
       "array([False,  True,  True, False])"
      ]
     },
     "execution_count": 17,
     "metadata": {},
     "output_type": "execute_result"
    }
   ],
   "source": [
    "a = np.array([0,1,\"metin\"]) #ortak tip str olduğu tek tipe çevirdi.\n",
    "a\n",
    "#\n",
    "\n",
    "b = np.array([0,1,1,0],dtype=bool) #tipini belirtebiliriz.\n",
    "b.astype(bool) #sonradan da tipi değiştirilebilir.\n",
    "\n",
    "b"
   ]
  },
  {
   "cell_type": "markdown",
   "id": "3f292fbf",
   "metadata": {},
   "source": [
    "## Farklı Boyutlarda Dizi"
   ]
  },
  {
   "cell_type": "code",
   "execution_count": 22,
   "id": "74fb64f6",
   "metadata": {},
   "outputs": [
    {
     "name": "stdout",
     "output_type": "stream",
     "text": [
      "[[1 2 3]\n",
      " [4 5 6]]\n"
     ]
    },
    {
     "data": {
      "text/plain": [
       "dtype('int32')"
      ]
     },
     "execution_count": 22,
     "metadata": {},
     "output_type": "execute_result"
    }
   ],
   "source": [
    "ikiBoyutluDizi=np.array([\n",
    "                            (1,2,3),\n",
    "                            (4,5,6)\n",
    "                        ])\n",
    "\n",
    "print(ikiBoyutluDizi)\n",
    "\n",
    "ikiBoyutluDizi.shape #(2, 3)\n",
    "ikiBoyutluDizi.ndim  #2\n",
    "ikiBoyutluDizi.dtype #dtype('int32')"
   ]
  },
  {
   "cell_type": "code",
   "execution_count": null,
   "id": "b583e4b1",
   "metadata": {},
   "outputs": [
    {
     "data": {
      "text/plain": [
       "18"
      ]
     },
     "execution_count": 29,
     "metadata": {},
     "output_type": "execute_result"
    }
   ],
   "source": [
    "#bu bir resim. En x boy x pikselRengi(RGB)\n",
    "ucBoyutluDizi = np.array([\n",
    "                            [(0,0,0),(0,255,255),(125,150,200)],\n",
    "                            [(255,0,0),(120,12,67),(14,56,76)]\n",
    "                        ])\n",
    "\n",
    "\n",
    "ucBoyutluDizi.shape #(2, 3, 3) #1. boyut 2 elemanlı, 2.boyut 3 elemanlı, 3. boyut 3 elemanlı\n",
    "ucBoyutluDizi.ndim  #3 boyutlu\n",
    "ucBoyutluDizi.size  #18 eleman var"
   ]
  },
  {
   "cell_type": "code",
   "execution_count": 28,
   "id": "47a78e50",
   "metadata": {},
   "outputs": [
    {
     "data": {
      "image/png": "[encoded data removed]",
      "text/plain": [
       "<Figure size 640x480 with 1 Axes>"
      ]
     },
     "metadata": {},
     "output_type": "display_data"
    }
   ],
   "source": [
    "import matplotlib.pyplot as plt\n",
    "plt.imshow(ucBoyutluDizi)\n",
    "plt.show()"
   ]
  },
  {
   "cell_type": "code",
   "execution_count": null,
   "id": "1ceb1618",
   "metadata": {},
   "outputs": [
    {
     "data": {
      "text/plain": [
       "array([  0,   0,   0,   0, 255, 255, 125, 150, 200, 255,   0,   0, 120,\n",
       "        12,  67,  14,  56,  76])"
      ]
     },
     "execution_count": 34,
     "metadata": {},
     "output_type": "execute_result"
    }
   ],
   "source": [
    "ucBoyutluDizi.reshape((3,6)) #shape (3,6) #eleman saıyısını gözetelim\n",
    "ucBoyutluDizi.ravel() #tek boyuta indirger."
   ]
  },
  {
   "cell_type": "markdown",
   "id": "9215ac27",
   "metadata": {},
   "source": [
    "## Array Üretme Yöntemleri"
   ]
  },
  {
   "cell_type": "code",
   "execution_count": null,
   "id": "4468ec62",
   "metadata": {},
   "outputs": [
    {
     "data": {
      "text/plain": [
       "array([[9, 9, 9],\n",
       "       [9, 9, 9],\n",
       "       [9, 9, 9]])"
      ]
     },
     "execution_count": 41,
     "metadata": {},
     "output_type": "execute_result"
    }
   ],
   "source": [
    "np.arange(10) #range gibi fakat array üretiyor.\n",
    "np.ones((3,3)) #3,3'lük 1'lerden oluşan matris\n",
    "np.eye(3,3)   #3x3 köşegeni 1 olan matris. birim matris.\n",
    "\n",
    "np.zeros((3,3)) #0'lardan\n",
    "np.full((3,3), 9) #9'lardan oluşsun."
   ]
  },
  {
   "cell_type": "markdown",
   "id": "63983a39",
   "metadata": {},
   "source": [
    "## Bazı Fonksiyonlar"
   ]
  },
  {
   "cell_type": "code",
   "execution_count": 49,
   "id": "1731a012",
   "metadata": {},
   "outputs": [
    {
     "data": {
      "text/plain": [
       "array([ 4, 16, 36])"
      ]
     },
     "execution_count": 49,
     "metadata": {},
     "output_type": "execute_result"
    }
   ],
   "source": [
    "x = np.array([2,4,6])\n",
    "y = np.array([1,3,5])\n",
    "\n",
    "#\n",
    "np.add(x,y)\n",
    "x+y\n",
    "\n",
    "#\n",
    "np.subtract(x,y)\n",
    "x-y\n",
    "\n",
    "#\n",
    "np.multiply(x,y)\n",
    "x*y\n",
    "\n",
    "#\n",
    "np.divide(x,y)\n",
    "x/y\n",
    "\n",
    "#\n",
    "np.sqrt(x)\n",
    "x**2"
   ]
  },
  {
   "cell_type": "code",
   "execution_count": 51,
   "id": "3d692dc1",
   "metadata": {},
   "outputs": [
    {
     "data": {
      "text/plain": [
       "False"
      ]
     },
     "execution_count": 51,
     "metadata": {},
     "output_type": "execute_result"
    }
   ],
   "source": [
    "np.equal(x,y) #eleman eleman kontrol eder. aynı mı\n",
    "np.array_equal(x,y) #tek bir değer döner. aynı "
   ]
  },
  {
   "cell_type": "code",
   "execution_count": 56,
   "id": "b1a9ac6f",
   "metadata": {},
   "outputs": [
    {
     "data": {
      "text/plain": [
       "array([[ 1,  2,  3,  4,  5,  6,  7,  8],\n",
       "       [ 9, 10, 11, 12, 13, 14, 15, 16],\n",
       "       [17, 18, 19, 20, 21, 22, 23, 24]])"
      ]
     },
     "execution_count": 56,
     "metadata": {},
     "output_type": "execute_result"
    }
   ],
   "source": [
    "dizi = np.arange(1,25).reshape(3,8)\n",
    "dizi"
   ]
  },
  {
   "cell_type": "code",
   "execution_count": null,
   "id": "fc87d872",
   "metadata": {},
   "outputs": [
    {
     "data": {
      "text/plain": [
       "array([ 36, 100, 164])"
      ]
     },
     "execution_count": 59,
     "metadata": {},
     "output_type": "execute_result"
    }
   ],
   "source": [
    "#axis=0 satır axis=1 kolon boyunca\n",
    "\n",
    "dizi.sum() #tüm elemanları toplad\n",
    "\n",
    "#\n",
    "dizi.sum(axis=0) #satır boyunca topladı\n",
    "dizi.sum(axis=1) #kolon boyunca topladı\n",
    "\n",
    "#min,max, cumsum, mean, std vs."
   ]
  },
  {
   "cell_type": "code",
   "execution_count": 62,
   "id": "72c112f0",
   "metadata": {},
   "outputs": [
    {
     "data": {
      "text/plain": [
       "array([[ 1,  9, 17],\n",
       "       [ 2, 10, 18],\n",
       "       [ 3, 11, 19],\n",
       "       [ 4, 12, 20],\n",
       "       [ 5, 13, 21],\n",
       "       [ 6, 14, 22],\n",
       "       [ 7, 15, 23],\n",
       "       [ 8, 16, 24]])"
      ]
     },
     "execution_count": 62,
     "metadata": {},
     "output_type": "execute_result"
    }
   ],
   "source": [
    "dizi.T\n",
    "dizi.transpose()"
   ]
  },
  {
   "cell_type": "code",
   "execution_count": 63,
   "id": "eca1c983",
   "metadata": {},
   "outputs": [],
   "source": [
    "#np.insert\n",
    "#np.delete"
   ]
  },
  {
   "cell_type": "code",
   "execution_count": 72,
   "id": "d7b7be48",
   "metadata": {},
   "outputs": [
    {
     "data": {
      "text/plain": [
       "array([[2, 4, 6],\n",
       "       [1, 3, 5]])"
      ]
     },
     "execution_count": 72,
     "metadata": {},
     "output_type": "execute_result"
    }
   ],
   "source": [
    "np.concatenate([x,y]) #axis=0 varsayılan\n",
    "#np.concatenate([x,y],axis=1)\n",
    "\n",
    "#\n",
    "np.hstack((x,y)) #yatay birleştir\n",
    "np.vstack((x,y)) #dikey birleştir\n"
   ]
  },
  {
   "cell_type": "markdown",
   "id": "8c746bae",
   "metadata": {},
   "source": [
    "### Numpy Elemanlarına Erişmek"
   ]
  },
  {
   "cell_type": "code",
   "execution_count": 74,
   "id": "0086eb7d",
   "metadata": {},
   "outputs": [
    {
     "data": {
      "text/plain": [
       "array([[ 0,  1,  2,  3,  4,  5],\n",
       "       [ 6,  7,  8,  9, 10, 11],\n",
       "       [12, 13, 14, 15, 16, 17],\n",
       "       [18, 19, 20, 21, 22, 23],\n",
       "       [24, 25, 26, 27, 28, 29]])"
      ]
     },
     "execution_count": 74,
     "metadata": {},
     "output_type": "execute_result"
    }
   ],
   "source": [
    "a = np.arange(0,30).reshape(5,6)\n",
    "a"
   ]
  },
  {
   "cell_type": "code",
   "execution_count": null,
   "id": "8f1ca486",
   "metadata": {},
   "outputs": [
    {
     "data": {
      "text/plain": [
       "15"
      ]
     },
     "execution_count": 77,
     "metadata": {},
     "output_type": "execute_result"
    }
   ],
   "source": [
    "a[2] #2. satır yani ilk boyttan 2. indextekini getir.\n",
    "a[2][3] #2. satırın 3. kolonu\n",
    "\n",
    "#\n",
    "a[2,3] #2. satırın 3. kolonu"
   ]
  },
  {
   "cell_type": "code",
   "execution_count": null,
   "id": "c1ba0553",
   "metadata": {},
   "outputs": [
    {
     "data": {
      "text/plain": [
       "array([[ 8,  9, 10],\n",
       "       [14, 15, 16],\n",
       "       [20, 21, 22]])"
      ]
     },
     "execution_count": 78,
     "metadata": {},
     "output_type": "execute_result"
    }
   ],
   "source": [
    "#slicing\n",
    "a[1:4 ,2:5 ]\n",
    "#satır boyutunda 1-4 index arasını\n",
    "#sutun boyutta 2-5 arasını getirdi"
   ]
  },
  {
   "cell_type": "code",
   "execution_count": null,
   "id": "07ce1fc3",
   "metadata": {},
   "outputs": [
    {
     "data": {
      "text/plain": [
       "array([ 6, 12, 18])"
      ]
     },
     "execution_count": 84,
     "metadata": {},
     "output_type": "execute_result"
    }
   ],
   "source": [
    "# boolen indexten\n",
    "filtre_1=a%3==0 #eleman eleman True/False üretecek\n",
    "filtre_2=a%2==0\n",
    "filtre_3=a%24==0\n",
    "\n",
    "filtre = filtre_1 & filtre_2 & (~filtre_3) #2 ve 3'e tam bölünen fakat 24'e bölünmeyen\n",
    "#np.logical_and &\n",
    "#np.logical_or  |\n",
    "#np.logical_not ~\n",
    "\n",
    "#\n",
    "a[filtre]\n"
   ]
  },
  {
   "cell_type": "markdown",
   "id": "e08c1d4f",
   "metadata": {},
   "source": [
    "![alt text](arrayElemanBulma.png)"
   ]
  },
  {
   "cell_type": "markdown",
   "id": "88745a13",
   "metadata": {},
   "source": []
  }
 ],
 "metadata": {
  "kernelspec": {
   "display_name": "Python 3 (ipykernel)",
   "language": "python",
   "name": "python3"
  },
  "language_info": {
   "codemirror_mode": {
    "name": "ipython",
    "version": 3
   },
   "file_extension": ".py",
   "mimetype": "text/x-python",
   "name": "python",
   "nbconvert_exporter": "python",
   "pygments_lexer": "ipython3",
   "version": "3.11.3"
  }
 },
 "nbformat": 4,
 "nbformat_minor": 5
}
