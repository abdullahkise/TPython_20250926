{
 "cells": [
  {
   "cell_type": "markdown",
   "id": "61d6002e",
   "metadata": {},
   "source": [
    "# Veritabanı Bağlantı (DBAPI)\n",
    "![alt text](DBAPI.png)"
   ]
  },
  {
   "cell_type": "code",
   "execution_count": 1,
   "id": "b9ca414a",
   "metadata": {},
   "outputs": [],
   "source": [
    "import sqlite3"
   ]
  },
  {
   "cell_type": "code",
   "execution_count": null,
   "id": "e6398e57",
   "metadata": {},
   "outputs": [],
   "source": [
    "con = sqlite3.connect(\"./data/mesajDB.db\") #Data Source=c:\\mydb.db;\n",
    "#dir(con)"
   ]
  },
  {
   "cell_type": "code",
   "execution_count": 5,
   "id": "6859aea8",
   "metadata": {},
   "outputs": [
    {
     "data": {
      "text/plain": [
       "<sqlite3.Cursor at 0x1bc85cec140>"
      ]
     },
     "execution_count": 5,
     "metadata": {},
     "output_type": "execute_result"
    }
   ],
   "source": [
    "con.execute(\"\"\"\n",
    "CREATE TABLE mesajlar\n",
    "(\n",
    "    id int,\n",
    "    mesaj nvarchar(100)            \n",
    ")\n",
    "            \"\"\")"
   ]
  },
  {
   "cell_type": "code",
   "execution_count": null,
   "id": "55dc3053",
   "metadata": {},
   "outputs": [
    {
     "data": {
      "text/plain": [
       "<sqlite3.Cursor at 0x1bc85d4c240>"
      ]
     },
     "execution_count": 6,
     "metadata": {},
     "output_type": "execute_result"
    }
   ],
   "source": [
    "#con.execute(\"DROP TABLE mesajlar\")\n",
    "\n",
    "#\n",
    "con.execute(\"INSERT INTO mesajlar (id, mesaj) VALUES (1,'mesaj 1')\")\n",
    "con.execute(\"INSERT INTO mesajlar (id, mesaj) VALUES (2,'mesaj 2')\")\n",
    "con.execute(\"INSERT INTO mesajlar (id, mesaj) VALUES (3,'mesaj 3')\")\n",
    "con.execute(\"INSERT INTO mesajlar (id, mesaj) VALUES (4,'mesaj 4')\")\n",
    "con.execute(\"INSERT INTO mesajlar (id, mesaj) VALUES (5,'mesaj 5')\")\n",
    "\n",
    "#veritbaanlarına autocommit özelliği vardır.\n",
    "con.commit() #demezsek con.rollback() tetiklenmiş gibi işlemler geri alınır."
   ]
  },
  {
   "cell_type": "code",
   "execution_count": 21,
   "id": "bbcb4084",
   "metadata": {},
   "outputs": [],
   "source": [
    "imlec = con.execute(\"SELECT * FROM mesajlar\") #cursor nesnesi oluşur."
   ]
  },
  {
   "cell_type": "code",
   "execution_count": 22,
   "id": "43cf4498",
   "metadata": {},
   "outputs": [
    {
     "data": {
      "text/plain": [
       "[(1, 'mesaj 1'),\n",
       " (2, 'mesaj 2'),\n",
       " (3, 'mesaj 3'),\n",
       " (4, 'mesaj 4'),\n",
       " (5, 'mesaj 5')]"
      ]
     },
     "execution_count": 22,
     "metadata": {},
     "output_type": "execute_result"
    }
   ],
   "source": [
    "satirlar = imlec.fetchall()\n",
    "satirlar #imlec sona geldiğinde boş döner. bu sebeple satırları memorye alalım"
   ]
  },
  {
   "cell_type": "code",
   "execution_count": null,
   "id": "d74115de",
   "metadata": {},
   "outputs": [
    {
     "data": {
      "text/plain": [
       "(('id', None, None, None, None, None, None),\n",
       " ('mesaj', None, None, None, None, None, None))"
      ]
     },
     "execution_count": 10,
     "metadata": {},
     "output_type": "execute_result"
    }
   ],
   "source": [
    "imlec.description #kolonlar hakkında bilgi tutar."
   ]
  },
  {
   "cell_type": "code",
   "execution_count": 12,
   "id": "fb48824d",
   "metadata": {},
   "outputs": [
    {
     "data": {
      "text/plain": [
       "['id', 'mesaj']"
      ]
     },
     "execution_count": 12,
     "metadata": {},
     "output_type": "execute_result"
    }
   ],
   "source": [
    "kolonlar = [c[0] for c in imlec.description]\n",
    "kolonlar"
   ]
  },
  {
   "cell_type": "code",
   "execution_count": 33,
   "id": "c6b5f942",
   "metadata": {},
   "outputs": [
    {
     "name": "stdout",
     "output_type": "stream",
     "text": [
      "|    id    |                      mesaj                       |\n",
      "---------------------------------------------------------------\n",
      "|    1     |                     mesaj 1                      |\n",
      "|    2     |                     mesaj 2                      |\n",
      "|    3     |                     mesaj 3                      |\n",
      "|    4     |                     mesaj 4                      |\n",
      "|    5     |                     mesaj 5                      |\n",
      "\n"
     ]
    }
   ],
   "source": [
    "tekMetin = \"\"\n",
    "#--------------\n",
    "fmt=\"|{:^10}|{:^50}|\"\n",
    "baslik = fmt.format(*kolonlar)\n",
    "#print(baslik)\n",
    "tekMetin = baslik + \"\\n\"\n",
    "#print(\"-\"*len(baslik))\n",
    "tekMetin += \"-\"*len(baslik) +\"\\n\"\n",
    "\n",
    "#\n",
    "for satir in satirlar:\n",
    "     #print(fmt.format(*satir))\n",
    "     tekMetin +=fmt.format(*satir) +\"\\n\"\n",
    "\n",
    "\n",
    "#\n",
    "print(tekMetin)\n",
    "\n",
    "#dosyaya yazalım\n",
    "with open(\"./data/mesajTablosu.txt\", mode=\"w\", encoding=\"UTF-8\") as fh:\n",
    "     fh.write(tekMetin)"
   ]
  },
  {
   "cell_type": "markdown",
   "id": "9927e833",
   "metadata": {},
   "source": [
    "## MSSQL veya Oracle Bağlantı\n",
    "![alt text](mssqlVeyaOracleBaglanti.png)"
   ]
  },
  {
   "cell_type": "code",
   "execution_count": null,
   "id": "e786380f",
   "metadata": {},
   "outputs": [
    {
     "data": {
      "text/plain": [
       "['SQL Server',\n",
       " 'SQL Server Native Client 11.0',\n",
       " 'Oracle in OraDB19Home1',\n",
       " 'ODBC Driver 17 for SQL Server',\n",
       " 'Microsoft Access Driver (*.mdb, *.accdb)',\n",
       " 'Microsoft Excel Driver (*.xls, *.xlsx, *.xlsm, *.xlsb)',\n",
       " 'Microsoft Access Text Driver (*.txt, *.csv)',\n",
       " 'Microsoft Access dBASE Driver (*.dbf, *.ndx, *.mdx)']"
      ]
     },
     "execution_count": 35,
     "metadata": {},
     "output_type": "execute_result"
    }
   ],
   "source": [
    "import pyodbc\n",
    "\n",
    "pyodbc.drivers() #kullanılabilecek driverlar."
   ]
  },
  {
   "cell_type": "code",
   "execution_count": 37,
   "id": "8a35fa76",
   "metadata": {},
   "outputs": [],
   "source": [
    "#Driver={ODBC Driver 17 for SQL Server};Server=myServerAddress;Database=myDataBase;UID=myUsername;PWD=myPassword;\n",
    "#Driver={ODBC Driver 17 for SQL Server};Server=myServerAddress;Database=myDataBase;Trusted_Connection=yes;\n",
    "\n",
    "config = {\n",
    "            \"driver\":\"{ODBC Driver 17 for SQL Server}\",\n",
    "            \"server\":\"localhost\",\n",
    "            \"database\":\"master\"\n",
    "}\n",
    "\n",
    "#baglantı cümesini oluşturalım.\n",
    "con_str=\"Driver={driver};Server={server};Database={database};Trusted_Connection=yes;\".format_map(config)\n",
    "\n",
    "#baglantı nesnesi\n",
    "con = pyodbc.connect(con_str)"
   ]
  },
  {
   "cell_type": "code",
   "execution_count": null,
   "id": "1e4df911",
   "metadata": {},
   "outputs": [
    {
     "name": "stdout",
     "output_type": "stream",
     "text": [
      "Microsoft SQL Server 2019 (RTM-CU32-GDR) (KB5065222) - 15.0.4445.1 (X64) \n",
      "\tAug 13 2025 11:07:18 \n",
      "\tCopyright (C) 2019 Microsoft Corporation\n",
      "\tEnterprise Edition (64-bit) on Windows 10 Pro 10.0 <X64> (Build 19045: ) (Hypervisor)\n",
      "\n"
     ]
    }
   ],
   "source": [
    "imlec = con.execute(\"SELECT @@version\")\n",
    "#\n",
    "print(imlec.fetchone()[0])"
   ]
  },
  {
   "cell_type": "markdown",
   "id": "6b884458",
   "metadata": {},
   "source": [
    "## Pandas ile okuyalım"
   ]
  },
  {
   "cell_type": "code",
   "execution_count": 57,
   "id": "65b4a9e0",
   "metadata": {},
   "outputs": [
    {
     "name": "stderr",
     "output_type": "stream",
     "text": [
      "C:\\Users\\Abdullah\\AppData\\Local\\Temp\\ipykernel_6028\\129023221.py:3: UserWarning: pandas only supports SQLAlchemy connectable (engine/connection) or database string URI or sqlite3 DBAPI2 connection. Other DBAPI2 objects are not tested. Please consider using SQLAlchemy.\n",
      "  df = pd.read_sql(\"SELECT Name,Color, ListPrice FROM AdventureWorks2012.Production.Product\",con)\n"
     ]
    },
    {
     "data": {
      "text/plain": [
       "{'Black',\n",
       " 'Blue',\n",
       " 'Grey',\n",
       " 'Multi',\n",
       " None,\n",
       " 'Red',\n",
       " 'Silver',\n",
       " 'Silver/Black',\n",
       " 'White',\n",
       " 'Yellow'}"
      ]
     },
     "execution_count": 57,
     "metadata": {},
     "output_type": "execute_result"
    }
   ],
   "source": [
    "import pandas as pd\n",
    "\n",
    "df = pd.read_sql(\"SELECT Name,Color, ListPrice FROM AdventureWorks2012.Production.Product\",con)\n",
    "df\n",
    "\n",
    "#\n",
    "df.head(3)\n",
    "df.tail(2)\n",
    "df.sample(3)\n",
    "\n",
    "df.describe().T\n",
    "set(df.Color)"
   ]
  }
 ],
 "metadata": {
  "kernelspec": {
   "display_name": "Python 3",
   "language": "python",
   "name": "python3"
  },
  "language_info": {
   "codemirror_mode": {
    "name": "ipython",
    "version": 3
   },
   "file_extension": ".py",
   "mimetype": "text/x-python",
   "name": "python",
   "nbconvert_exporter": "python",
   "pygments_lexer": "ipython3",
   "version": "3.11.3"
  }
 },
 "nbformat": 4,
 "nbformat_minor": 5
}
