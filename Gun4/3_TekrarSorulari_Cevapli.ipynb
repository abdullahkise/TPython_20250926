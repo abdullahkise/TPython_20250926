{
 "cells": [
  {
   "cell_type": "code",
   "execution_count": null,
   "metadata": {},
   "outputs": [],
   "source": [
    "# Soru1:\n",
    "'''\n",
    "    Bir metin içerisindeki belirttiğimiz harfi saydıran bir kod parçası yazalım.\n",
    "'''\n",
    "metin = \"Python programlama dili, dünyada eğitim amacıyla en çok kullanılan programlama dillerinden biridir.\"\n",
    "harf = \"a\"\n",
    "\n"
   ]
  },
  {
   "cell_type": "code",
   "execution_count": null,
   "metadata": {},
   "outputs": [],
   "source": [
    "# Soru2:\n",
    "'''\n",
    "    Belirtilen sayılardan 3'e (istenen sayıya) tam bölünenlerin adedini, toplamını ve sayıların kendisini döndüren bir fonksiyon yazalım.\n",
    "'''\n"
   ]
  },
  {
   "cell_type": "code",
   "execution_count": null,
   "metadata": {},
   "outputs": [
    {
     "data": {
      "text/plain": [
       "3.141592653589793"
      ]
     },
     "execution_count": 1,
     "metadata": {},
     "output_type": "execute_result"
    }
   ],
   "source": [
    "# Soru3:\n",
    "'''\n",
    "    Dışarıdan yarıçapı girilen dairenin alanını hesaplayan bir fonksiyon yazalım.\n",
    "    hata kontrollerini de yapalım.\n",
    "    Dairenin Alanı = pi * r^2\n",
    "'''\n",
    "import math\n",
    "\n",
    "math.pi\n",
    "#r**2"
   ]
  },
  {
   "cell_type": "code",
   "execution_count": null,
   "metadata": {},
   "outputs": [],
   "source": [
    "# Soru4:\n",
    "'''\n",
    "    Verilen metni alfabe dışındaki karekterlerden temizleyelim. Metni düz ve tersten veren bir fonksiyon yazalım\n",
    "'''\n",
    "str.isalpha()\n",
    "\n",
    "#for if\n",
    "#list comhrension for if\n",
    "#filter(fnk, iter) #fnk True/False"
   ]
  },
  {
   "cell_type": "code",
   "execution_count": null,
   "metadata": {},
   "outputs": [],
   "source": [
    "# soru5:\n",
    "'''\n",
    "    Dışarıdan girilen tarih. hangi güne ait.\n",
    "'''\n",
    "\n",
    "from datetime import datetime\n",
    "\n",
    "#datetime.strptime\n",
    "#datetime.now().strftime\n",
    "#%A"
   ]
  },
  {
   "cell_type": "code",
   "execution_count": 3,
   "metadata": {},
   "outputs": [
    {
     "data": {
      "text/plain": [
       "'D'"
      ]
     },
     "execution_count": 3,
     "metadata": {},
     "output_type": "execute_result"
    }
   ],
   "source": [
    "# soru6: Sezar Şifrelemesi\n",
    "'''\n",
    "    chr(97) #ascii kod alır karakteri verir.\n",
    "    ord(\"a\") #karakter alır ascii kodu verir.\n",
    "    \n",
    "    kaydirmaMiktarı (anahtar)\n",
    "    temizMetin\n",
    "    sifreliMetin\n",
    "    \n",
    "    ord(\"a\") #97\n",
    "    ord(\"z\") #122\n",
    "    ord(\"A\") #65\n",
    "    ord(\"Z\") #90\n",
    "\n",
    "'''\n",
    "\n",
    "chr(ord(\"A\")+3)"
   ]
  },
  {
   "cell_type": "code",
   "execution_count": null,
   "metadata": {},
   "outputs": [
    {
     "data": {
      "text/plain": [
       "True"
      ]
     },
     "execution_count": 7,
     "metadata": {},
     "output_type": "execute_result"
    }
   ],
   "source": [
    "# soru7: cm olarak girilen boy bilgisine bakılarak ideal kilo hesabı yapalım.\n",
    "# Boy bilgisini floata dönüşecek mi diye kontrol edelim.\n",
    "#idealkilo  = boy-100-(boy-150)/4\n",
    "\n",
    "#type hint\n",
    "def fnk(p1:int) -> str:\n",
    "    pass\n",
    "\n",
    "#\n",
    "degisken = 12\n",
    "type(degisken) == int\n",
    "\n",
    "#\n",
    "isinstance(degisken,int)\n",
    "isinstance(degisken,(int, float)) #int veya float mı?"
   ]
  },
  {
   "cell_type": "code",
   "execution_count": 21,
   "metadata": {},
   "outputs": [
    {
     "data": {
      "text/plain": [
       "'İstanbul'"
      ]
     },
     "execution_count": 21,
     "metadata": {},
     "output_type": "execute_result"
    }
   ],
   "source": [
    "# soru8:\n",
    "'''\n",
    "    Aşağıdaki metni dict'e çevirelim. plaka kodu verildiğinde ili getiren fonksiyonu yazalım\n",
    "'''\n",
    "\n",
    "plakaKodlar = \"\"\"\n",
    "İstanbul 34\n",
    "Ankara 06\n",
    "\n",
    "Adana 01\n",
    "Çorum 19\n",
    "Sakarya 54\n",
    "\"\"\"\n",
    "\n",
    "plakaKodlar.split(\"\\n\")  #varsayılan (whitespace) boşluüa göre veya belirtilen karaktere göre\n",
    "plakaKodlar.splitlines() #newline karakterilerine\n",
    "\n",
    "#\n",
    "dict_plaka = dict([p.split()[::-1] for p in plakaKodlar.splitlines() if p]) #p!=\"\"] #None False olarak değerlendirilir.\n",
    "dict_plaka[\"34\"]\n"
   ]
  },
  {
   "cell_type": "code",
   "execution_count": 29,
   "metadata": {},
   "outputs": [
    {
     "data": {
      "text/plain": [
       "{1, 2, 4, 7}"
      ]
     },
     "execution_count": 29,
     "metadata": {},
     "output_type": "execute_result"
    }
   ],
   "source": [
    "# Soru 9:\n",
    "# fonksiyona verilen sayılardan sadece tekrar edenleri bulalım.\n",
    "def tekrarligetir(*sayilar):\n",
    "    tekrarEdenler= []\n",
    "\n",
    "    #1.for\n",
    "    for s in sayilar:\n",
    "        if sayilar.count(s)>1:\n",
    "            tekrarEdenler.append(s)\n",
    "    #2.list\n",
    "    tekrarEdenler = [s for s in sayilar if sayilar.count(s)>1]\n",
    "\n",
    "    #3.filter\n",
    "    tekrarEdenler = filter(lambda s:sayilar.count(s)>1  ,sayilar)\n",
    "\n",
    "\n",
    "    return set(tekrarEdenler)\n",
    "\n",
    "#----\n",
    "tekrarligetir(1,1,2,2,2,2,1,4,4,5,4,6,7,7,8,123,35,68)"
   ]
  },
  {
   "cell_type": "code",
   "execution_count": null,
   "metadata": {},
   "outputs": [
    {
     "data": {
      "text/plain": [
       "True"
      ]
     },
     "execution_count": 32,
     "metadata": {},
     "output_type": "execute_result"
    }
   ],
   "source": [
    "# Soru 10:\n",
    "# bir listedeki sayılara bakıp, 1-10 arasındaki sayılardan hangileri eksikmiş bulalım.\n",
    "range(1,11)\n",
    "list(range(1,11))\n",
    "\n",
    "3 in list(range(1,11))"
   ]
  },
  {
   "cell_type": "code",
   "execution_count": 1,
   "metadata": {},
   "outputs": [
    {
     "data": {
      "text/plain": [
       "'programlama'"
      ]
     },
     "execution_count": 1,
     "metadata": {},
     "output_type": "execute_result"
    }
   ],
   "source": [
    "#soru 11:\n",
    "# Bir cümledeki en uzun kelimeyi getiren fonksiyonu yazalım.\n",
    "cumle = \"Python programlama dili oldukça popüler bir dil haline geldi.\"\n",
    "\n",
    "#\n",
    "from functools import reduce\n",
    "reduce( lambda x,y: x if len(x)>len(y) else y ,cumle.split())"
   ]
  },
  {
   "cell_type": "code",
   "execution_count": 6,
   "metadata": {},
   "outputs": [
    {
     "data": {
      "text/plain": [
       "[1, 2, 3, 'X', 4, 5, 6]"
      ]
     },
     "execution_count": 6,
     "metadata": {},
     "output_type": "execute_result"
    }
   ],
   "source": [
    "#soru 12:\n",
    "#oyundaki oyuncunun bir sola veya sağa alalım.\n",
    "oyun = [1,2,3,4,'X',5,6 ]\n",
    "oyuncu=\"X\"\n",
    "\n",
    "#\n",
    "konum = oyun.index(oyuncu)\n",
    "\n",
    "#\n",
    "oyun[konum-1],oyun[konum] = oyun[konum],oyun[konum-1]\n",
    "\n",
    "#\n",
    "oyun"
   ]
  }
 ],
 "metadata": {
  "kernelspec": {
   "display_name": "Python 3 (ipykernel)",
   "language": "python",
   "name": "python3"
  },
  "language_info": {
   "codemirror_mode": {
    "name": "ipython",
    "version": 3
   },
   "file_extension": ".py",
   "mimetype": "text/x-python",
   "name": "python",
   "nbconvert_exporter": "python",
   "pygments_lexer": "ipython3",
   "version": "3.11.3"
  }
 },
 "nbformat": 4,
 "nbformat_minor": 4
}
