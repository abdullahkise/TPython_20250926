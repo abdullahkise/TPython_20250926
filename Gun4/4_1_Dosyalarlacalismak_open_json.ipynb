{
 "cells": [
  {
   "cell_type": "markdown",
   "id": "8c992e5f",
   "metadata": {},
   "source": [
    "# Dosyalarla Çalışmak\n",
    "![alt text](DosyalarlaCalismak.png)"
   ]
  },
  {
   "cell_type": "code",
   "execution_count": 69,
   "id": "38d56387",
   "metadata": {},
   "outputs": [
    {
     "data": {
      "text/plain": [
       "'c:\\\\Users\\\\Abdullah\\\\Documents\\\\GitHub\\\\TPython_20250926\\\\Gun4'"
      ]
     },
     "execution_count": 69,
     "metadata": {},
     "output_type": "execute_result"
    }
   ],
   "source": [
    "import os\n",
    "\n",
    "os.makedirs(\"data\",exist_ok=True)\n",
    "os.getcwd()"
   ]
  },
  {
   "cell_type": "code",
   "execution_count": 70,
   "id": "97fe30e9",
   "metadata": {},
   "outputs": [
    {
     "data": {
      "text/plain": [
       "True"
      ]
     },
     "execution_count": 70,
     "metadata": {},
     "output_type": "execute_result"
    }
   ],
   "source": [
    "os.path.exists(\"./data\")\n",
    "os.path.isdir(\"./data\") #isfile ve idir ile klasor mu? dosya mı?\n",
    "os.listdir()\n",
    "\n",
    "\"data\" in os.listdir() #True"
   ]
  },
  {
   "cell_type": "code",
   "execution_count": 71,
   "id": "db654953",
   "metadata": {},
   "outputs": [
    {
     "name": "stdout",
     "output_type": "stream",
     "text": [
      "data\n"
     ]
    }
   ],
   "source": [
    "for sc in os.scandir(\".\"): #DirEntry \n",
    "    #print(s)\n",
    "    if not sc.is_file(): #dosya değilse adını ver.\n",
    "        print(sc.name)"
   ]
  },
  {
   "cell_type": "markdown",
   "id": "61defd53",
   "metadata": {},
   "source": [
    "## Ham Dosyalarla Çalışalım"
   ]
  },
  {
   "cell_type": "code",
   "execution_count": 72,
   "id": "0717f3e9",
   "metadata": {},
   "outputs": [],
   "source": [
    "#filehandle\n",
    "fh = open(\"./data/notlarim.txt\",mode=\"w\", encoding=\"UTF-8\")\n",
    "#w ile yazmak amacıyla açtık. a append, w üzerine yaz, r okur + ile mesela a+ ekle ve oku\n",
    "#\n",
    "fh.write(\"Merhaba dünyalı nasılsın?\")\n",
    "\n",
    "fh.close() #bu şekilde dosya kapanır.\n",
    "#dosya flush olur. yani yazdıklarımız görünür."
   ]
  },
  {
   "cell_type": "markdown",
   "id": "da227e93",
   "metadata": {},
   "source": [
    "### Dosyaya Yazmak"
   ]
  },
  {
   "cell_type": "code",
   "execution_count": 73,
   "id": "f73c2091",
   "metadata": {},
   "outputs": [],
   "source": [
    "try:\n",
    "    fh = open(\"./data/mesajlar.txt\", mode=\"a+\", encoding=\"UTF-8\")\n",
    "    fh.writelines(\"Mesaj var.\\n\")\n",
    "finally:\n",
    "    fh.close() #kaynakları serbet bırakmak"
   ]
  },
  {
   "cell_type": "code",
   "execution_count": 74,
   "id": "f1df2374",
   "metadata": {},
   "outputs": [],
   "source": [
    "#yukarıdakinin benzeridir. withden çıktıktan sonra kaynaklar dispose olur. kapanır.\n",
    "with open(\"./data/mesajlar.txt\", mode=\"a+\", encoding=\"UTF-8\") as fh:\n",
    "    fh.writelines(\"Mesaj var.\\n\")"
   ]
  },
  {
   "cell_type": "markdown",
   "id": "f363fa24",
   "metadata": {},
   "source": [
    "### Dosya Okumak\n",
    "![alt text](HamDosyalarlaCalismak.png)"
   ]
  },
  {
   "cell_type": "code",
   "execution_count": 75,
   "id": "4eef23a0",
   "metadata": {},
   "outputs": [],
   "source": [
    "fh = open(\"./data/mesajlar.txt\", mode=\"r\", encoding=\"UTF-8\")"
   ]
  },
  {
   "cell_type": "code",
   "execution_count": 76,
   "id": "9eeedbd9",
   "metadata": {},
   "outputs": [
    {
     "data": {
      "text/plain": [
       "'Mesaj'"
      ]
     },
     "execution_count": 76,
     "metadata": {},
     "output_type": "execute_result"
    }
   ],
   "source": [
    "fh.read(5) #5 karakter oku. normalde sona kadar okur"
   ]
  },
  {
   "cell_type": "code",
   "execution_count": 77,
   "id": "9eef6674",
   "metadata": {},
   "outputs": [
    {
     "data": {
      "text/plain": [
       "' var.\\n'"
      ]
     },
     "execution_count": 77,
     "metadata": {},
     "output_type": "execute_result"
    }
   ],
   "source": [
    "fh.readline() #kaldığı yerden satır sonuna kadar okur."
   ]
  },
  {
   "cell_type": "code",
   "execution_count": 78,
   "id": "1d8920bb",
   "metadata": {},
   "outputs": [
    {
     "data": {
      "text/plain": [
       "['Mesaj var.\\n',\n",
       " 'Mesaj var.\\n',\n",
       " 'Mesaj var.\\n',\n",
       " 'Mesaj var.\\n',\n",
       " 'Mesaj var.\\n']"
      ]
     },
     "execution_count": 78,
     "metadata": {},
     "output_type": "execute_result"
    }
   ],
   "source": [
    "fh.readlines() #geriye kalan tüm satırları liste olarak verir."
   ]
  },
  {
   "cell_type": "code",
   "execution_count": null,
   "id": "df672c61",
   "metadata": {},
   "outputs": [
    {
     "data": {
      "text/plain": [
       "72"
      ]
     },
     "execution_count": 79,
     "metadata": {},
     "output_type": "execute_result"
    }
   ],
   "source": [
    "fh.tell() #72. karakter imlecimiz."
   ]
  },
  {
   "cell_type": "code",
   "execution_count": null,
   "id": "7687fbdf",
   "metadata": {},
   "outputs": [
    {
     "data": {
      "text/plain": [
       "10"
      ]
     },
     "execution_count": 80,
     "metadata": {},
     "output_type": "execute_result"
    }
   ],
   "source": [
    "fh.seek(10) #10.karaktere sar."
   ]
  },
  {
   "cell_type": "code",
   "execution_count": null,
   "id": "df5f17f0",
   "metadata": {},
   "outputs": [
    {
     "data": {
      "text/plain": [
       "'\\nMe'"
      ]
     },
     "execution_count": 81,
     "metadata": {},
     "output_type": "execute_result"
    }
   ],
   "source": [
    "fh.read(3) #10.karekter sonra 3 karakter oku."
   ]
  },
  {
   "cell_type": "markdown",
   "id": "159ff9f9",
   "metadata": {},
   "source": [
    "## Json Formatını Okumak"
   ]
  },
  {
   "cell_type": "code",
   "execution_count": 84,
   "id": "83a2e567",
   "metadata": {},
   "outputs": [],
   "source": [
    "#json formatında bir metin\n",
    "str_json = \"\"\"\n",
    "{\n",
    "    \"ad\":\"Ali\",\n",
    "    \"yas\":33,\n",
    "    \"aktifMi\":true\n",
    "}\n",
    "\"\"\""
   ]
  },
  {
   "cell_type": "code",
   "execution_count": 86,
   "id": "c6dfe4ad",
   "metadata": {},
   "outputs": [
    {
     "data": {
      "text/plain": [
       "dict"
      ]
     },
     "execution_count": 86,
     "metadata": {},
     "output_type": "execute_result"
    }
   ],
   "source": [
    "import json\n",
    "\n",
    "#loads: json metni python nesnesi olur.\n",
    "#dump: python nesnesini json metni yapar\n",
    "\n",
    "py_nesnesi = json.loads(str_json)\n",
    "type(py_nesnesi)"
   ]
  },
  {
   "cell_type": "code",
   "execution_count": 88,
   "id": "4e9c82ef",
   "metadata": {},
   "outputs": [
    {
     "data": {
      "text/plain": [
       "'Ali'"
      ]
     },
     "execution_count": 88,
     "metadata": {},
     "output_type": "execute_result"
    }
   ],
   "source": [
    "py_nesnesi\n",
    "py_nesnesi[\"ad\"]"
   ]
  },
  {
   "cell_type": "code",
   "execution_count": 89,
   "id": "0459b1fc",
   "metadata": {},
   "outputs": [],
   "source": [
    "py_nesnesi[\"ehliyetler\"]=[\"A\",\"B\",\"C\"]"
   ]
  },
  {
   "cell_type": "code",
   "execution_count": 90,
   "id": "31a1dd4b",
   "metadata": {},
   "outputs": [
    {
     "data": {
      "text/plain": [
       "{'ad': 'Ali', 'yas': 33, 'aktifMi': True, 'ehliyetler': ['A', 'B', 'C']}"
      ]
     },
     "execution_count": 90,
     "metadata": {},
     "output_type": "execute_result"
    }
   ],
   "source": [
    "py_nesnesi"
   ]
  },
  {
   "cell_type": "code",
   "execution_count": null,
   "id": "5bb58c74",
   "metadata": {},
   "outputs": [
    {
     "data": {
      "text/plain": [
       "'{\"ad\": \"Ali\", \"yas\": 33, \"aktifMi\": true, \"ehliyetler\": [\"A\", \"B\", \"C\"]}'"
      ]
     },
     "execution_count": 94,
     "metadata": {},
     "output_type": "execute_result"
    }
   ],
   "source": [
    "str_jsonMetni = json.dumps(py_nesnesi)\n",
    "type(str_jsonMetni) #str\n",
    "\n",
    "str_jsonMetni"
   ]
  }
 ],
 "metadata": {
  "kernelspec": {
   "display_name": "Python 3 (ipykernel)",
   "language": "python",
   "name": "python3"
  },
  "language_info": {
   "codemirror_mode": {
    "name": "ipython",
    "version": 3
   },
   "file_extension": ".py",
   "mimetype": "text/x-python",
   "name": "python",
   "nbconvert_exporter": "python",
   "pygments_lexer": "ipython3",
   "version": "3.11.3"
  }
 },
 "nbformat": 4,
 "nbformat_minor": 5
}
