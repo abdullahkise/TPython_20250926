{
 "cells": [
  {
   "cell_type": "markdown",
   "id": "a0ede1aa",
   "metadata": {},
   "source": [
    "# Hata Yönetimi\n",
    "![alt text](HataYonetimiveHataTurleri.png)"
   ]
  },
  {
   "cell_type": "code",
   "execution_count": null,
   "id": "32a867a7",
   "metadata": {},
   "outputs": [
    {
     "ename": "SyntaxError",
     "evalue": "cannot assign to expression here. Maybe you meant '==' instead of '='? (557263306.py, line 5)",
     "output_type": "error",
     "traceback": [
      "\u001b[1;36m  Cell \u001b[1;32mIn[1], line 5\u001b[1;36m\u001b[0m\n\u001b[1;33m    if x%2=0:\u001b[0m\n\u001b[1;37m       ^\u001b[0m\n\u001b[1;31mSyntaxError\u001b[0m\u001b[1;31m:\u001b[0m cannot assign to expression here. Maybe you meant '==' instead of '='?\n"
     ]
    }
   ],
   "source": [
    "#2.syntacx hatası\n",
    "\n",
    "x = 4\n",
    "\n",
    "if x%2=0: # = atama , == karşılaştırma operatorudur.\n",
    "    print(\"kod hata verir.\")"
   ]
  },
  {
   "cell_type": "code",
   "execution_count": 21,
   "id": "ab7c157d",
   "metadata": {},
   "outputs": [
    {
     "name": "stdout",
     "output_type": "stream",
     "text": [
      "Program başarıyla tamamlandı.\n",
      "Cevap :  6.0\n"
     ]
    }
   ],
   "source": [
    "#3.run-time\n",
    "x = 12\n",
    "y = 2#\"yedi\" #0\n",
    "\n",
    "try:\n",
    "    sonuc = x/y\n",
    "\n",
    "    #buraya kadar geldiyse başarılıdır.\n",
    "    #print(sonuc)\n",
    "except ZeroDivisionError:\n",
    "    sonuc = \"\\u221E\"\n",
    "except TypeError:\n",
    "    sonuc = \"Tip Hatası\"    \n",
    "except Exception as ex: #except:\n",
    "    print(\"Beklenmedik bir hata ile karşılaşıldı\")\n",
    "    print(\"Sistem hata mesjaı :\",ex)\n",
    "else:\n",
    "    #hata olmadğıında devreye girer.\n",
    "    #\n",
    "    print(\"Program başarıyla tamamlandı.\")\n",
    "finally:\n",
    "    #hata olsa da olmasa da çalışır. veritabanı bağlantısını kapatmak veya kaynaklarını serbest bırakmak için\n",
    "    print(\"Cevap : \", sonuc)\n",
    "\n",
    "#"
   ]
  },
  {
   "cell_type": "code",
   "execution_count": 22,
   "id": "9504a51f",
   "metadata": {},
   "outputs": [
    {
     "ename": "TypeError",
     "evalue": "Uygun tipte girmediniz....",
     "output_type": "error",
     "traceback": [
      "\u001b[1;31m---------------------------------------------------------------------------\u001b[0m",
      "\u001b[1;31mTypeError\u001b[0m                                 Traceback (most recent call last)",
      "Cell \u001b[1;32mIn[22], line 2\u001b[0m\n\u001b[0;32m      1\u001b[0m \u001b[38;5;66;03m#hata üretmek için kullanılabilir.\u001b[39;00m\n\u001b[1;32m----> 2\u001b[0m \u001b[38;5;28;01mraise\u001b[39;00m \u001b[38;5;167;01mTypeError\u001b[39;00m(\u001b[38;5;124m\"\u001b[39m\u001b[38;5;124mUygun tipte girmediniz....\u001b[39m\u001b[38;5;124m\"\u001b[39m)\n",
      "\u001b[1;31mTypeError\u001b[0m: Uygun tipte girmediniz...."
     ]
    }
   ],
   "source": [
    "#hata üretmek için kullanılabilir.\n",
    "raise TypeError(\"Uygun tipte girmediniz....\")"
   ]
  },
  {
   "cell_type": "code",
   "execution_count": 29,
   "id": "7eace64b",
   "metadata": {},
   "outputs": [],
   "source": [
    "class negatifsayilariDesteklemiyorError(Exception):\n",
    "    pass\n",
    "#kalıtım yaptık. Exception nesnesinden kalıtıldı\n",
    "#bu class ssitem tarafından hata nesnesi olarak kabul edilecekö"
   ]
  },
  {
   "cell_type": "code",
   "execution_count": 34,
   "id": "8f91b2ab",
   "metadata": {},
   "outputs": [
    {
     "name": "stdout",
     "output_type": "stream",
     "text": [
      "Sistem hata mesjaı :  Negatif sayılar girilmez\n"
     ]
    }
   ],
   "source": [
    "c = -12\n",
    "\n",
    "try:\n",
    "    if c<0:\n",
    "        raise negatifsayilariDesteklemiyorError(\"Negatif sayılar girilmez\") #kendi hata tipimi ürettriyoruz.\n",
    "    f  = c*1.8 + 32\n",
    "except negatifsayilariDesteklemiyorError as ex:\n",
    "    print(\"Sistem hata mesjaı : \",ex)\n",
    "else:\n",
    "    print(f)"
   ]
  }
 ],
 "metadata": {
  "kernelspec": {
   "display_name": "Python 3",
   "language": "python",
   "name": "python3"
  },
  "language_info": {
   "codemirror_mode": {
    "name": "ipython",
    "version": 3
   },
   "file_extension": ".py",
   "mimetype": "text/x-python",
   "name": "python",
   "nbconvert_exporter": "python",
   "pygments_lexer": "ipython3",
   "version": "3.11.3"
  }
 },
 "nbformat": 4,
 "nbformat_minor": 5
}
