{
 "cells": [
  {
   "cell_type": "markdown",
   "id": "496c51be",
   "metadata": {},
   "source": [
    "# Str Tipi ve Bazı Str Fonksiyonları"
   ]
  },
  {
   "cell_type": "code",
   "execution_count": 5,
   "id": "e262fa99",
   "metadata": {},
   "outputs": [
    {
     "name": "stdout",
     "output_type": "stream",
     "text": [
      "str(object='') -> str\n",
      "str(bytes_or_buffer[, encoding[, errors]]) -> str\n",
      "\n",
      "Create a new string object from the given object. If encoding or\n",
      "errors is specified, then the object must expose a data buffer\n",
      "that will be decoded using the given encoding and error handler.\n",
      "Otherwise, returns the result of object.__str__() (if defined)\n",
      "or repr(object).\n",
      "encoding defaults to sys.getdefaultencoding().\n",
      "errors defaults to 'strict'.\n"
     ]
    },
    {
     "data": {
      "text/plain": [
       "'Return a copy of the string converted to uppercase.'"
      ]
     },
     "execution_count": 5,
     "metadata": {},
     "output_type": "execute_result"
    }
   ],
   "source": [
    "dir(str)\n",
    "\n",
    "#\n",
    "#help(str)\n",
    "print(str.__doc__) #magic method\n",
    "str.upper.__doc__"
   ]
  },
  {
   "cell_type": "code",
   "execution_count": 7,
   "id": "415b3e71",
   "metadata": {},
   "outputs": [],
   "source": [
    "metin = \"MerHAbA dÜnyAlı_\""
   ]
  },
  {
   "cell_type": "markdown",
   "id": "322c577f",
   "metadata": {},
   "source": [
    "## fonksiyon kullanım şekilleri"
   ]
  },
  {
   "cell_type": "code",
   "execution_count": null,
   "id": "d2af2015",
   "metadata": {},
   "outputs": [
    {
     "data": {
      "text/plain": [
       "16"
      ]
     },
     "execution_count": 19,
     "metadata": {},
     "output_type": "execute_result"
    }
   ],
   "source": [
    "#1.\n",
    "str.title(metin)\n",
    "\n",
    "#2.\n",
    "metin.title()\n",
    "\n",
    "#3.\n",
    "metin.strip(\"_\").upper()\n",
    "\n",
    "#4.\n",
    "str.upper(metin.strip(\"_\"))\n",
    "\n",
    "#5.\n",
    "str.__len__(metin) #harici fonksiyonların işlevini içerebilir.\n",
    "len(metin)"
   ]
  },
  {
   "cell_type": "markdown",
   "id": "a0f5c580",
   "metadata": {},
   "source": [
    "## Bazı Str Fonksiyonları"
   ]
  },
  {
   "cell_type": "code",
   "execution_count": null,
   "id": "b3d905a2",
   "metadata": {},
   "outputs": [
    {
     "data": {
      "text/plain": [
       "3"
      ]
     },
     "execution_count": 30,
     "metadata": {},
     "output_type": "execute_result"
    }
   ],
   "source": [
    "metin.rstrip(\"_\") #belirtilen karakteri siler. r ile sağdan sildi.\n",
    "\n",
    "#\n",
    "metin.lower() #küçük harf\n",
    "metin.find(\"A\") #A harfi en yakında 4. indexte yer alır. \n",
    "metin.lower().find(\"a\")\n",
    "\n",
    "#\n",
    "metin[4] #str containerlerden\n",
    "\n",
    "#\n",
    "metin.center(30,\"/\") #30 karakter içerisinde ortalasın kalan karakterlere / bassın.\n",
    "\n",
    "#\n",
    "metin.replace(\"HAbA\",\"X\") #bir ifadeyik  komple diğer ifade ile değiştir.\n",
    "\n",
    "#\n",
    "metin.count(\"A\") #kaç tane A var."
   ]
  },
  {
   "cell_type": "code",
   "execution_count": null,
   "id": "8e3647e5",
   "metadata": {},
   "outputs": [
    {
     "data": {
      "text/plain": [
       "2"
      ]
     },
     "execution_count": 32,
     "metadata": {},
     "output_type": "execute_result"
    }
   ],
   "source": [
    "#soru:\n",
    "#metin değişkeni kaç kelimedir.\n",
    "metin.strip().count(\" \")+1"
   ]
  },
  {
   "cell_type": "markdown",
   "id": "17d803f6",
   "metadata": {},
   "source": [
    "### Split ve Join"
   ]
  },
  {
   "cell_type": "code",
   "execution_count": 43,
   "id": "9a673ec5",
   "metadata": {},
   "outputs": [
    {
     "data": {
      "text/plain": [
       "'Dünyalı'"
      ]
     },
     "execution_count": 43,
     "metadata": {},
     "output_type": "execute_result"
    }
   ],
   "source": [
    "#split\n",
    "metin.split() #beşlirtilen karaktere göre parcaladı ve liste olarak getirdi. varsayılan whitespace\n",
    "\n",
    "#soru:\n",
    "#son kelimeyi ilk harfi büyük şekilde getrelim.\n",
    "#son kelimeyi bulalım.\n",
    "#split\n",
    "#strip\n",
    "#Title, capitalize\n",
    "\n",
    "#1.\n",
    "metin.split()[-1].rstrip(\"_\").capitalize()\n",
    "\n",
    "#2.\n",
    "str.capitalize(str.rstrip(metin.split()[-1],\"_\"))"
   ]
  },
  {
   "cell_type": "code",
   "execution_count": null,
   "id": "ede074e5",
   "metadata": {},
   "outputs": [
    {
     "data": {
      "text/plain": [
       "'Ali;Uçan;33'"
      ]
     },
     "execution_count": 46,
     "metadata": {},
     "output_type": "execute_result"
    }
   ],
   "source": [
    "#join\n",
    "lst = [\"Ali\",\"Uçan\",str(33)] #container elemanarı str olmalıdır.\n",
    "\n",
    "#1.\n",
    "\";\".join(lst) \n",
    "\n",
    "#2.\n",
    "str.join(\";\" , lst)"
   ]
  },
  {
   "cell_type": "code",
   "execution_count": null,
   "id": "bb215ee7",
   "metadata": {},
   "outputs": [
    {
     "data": {
      "text/plain": [
       "'m;e;r;h;a;b;a'"
      ]
     },
     "execution_count": 47,
     "metadata": {},
     "output_type": "execute_result"
    }
   ],
   "source": [
    "\";\".join(\"merhaba\") #str containerdır."
   ]
  },
  {
   "cell_type": "markdown",
   "id": "a40c04f8",
   "metadata": {},
   "source": [
    "### is... fonksiyonları"
   ]
  },
  {
   "cell_type": "code",
   "execution_count": 51,
   "id": "a8d5dedf",
   "metadata": {},
   "outputs": [
    {
     "data": {
      "text/plain": [
       "True"
      ]
     },
     "execution_count": 51,
     "metadata": {},
     "output_type": "execute_result"
    }
   ],
   "source": [
    "\"2024\".isdigit() #karakterler sayı mı?\n",
    "\"2024\".isnumeric() #sayılari unicode vs. numericler.\n",
    "\n",
    "#\n",
    "\"pil@v\".isalpha() #alfabedeki harflerden mi oluştu. False, @ var.\n",
    "\n",
    "#\n",
    "\"one2\".isalnum() #alfabedek harfler veya sayı var mı?"
   ]
  },
  {
   "cell_type": "markdown",
   "id": "f43dbdca",
   "metadata": {},
   "source": [
    "### Kaçış Karakterleri"
   ]
  },
  {
   "cell_type": "code",
   "execution_count": 60,
   "id": "0b436cd3",
   "metadata": {},
   "outputs": [
    {
     "name": "stdout",
     "output_type": "stream",
     "text": [
      "İstanbul'un taşı toprağı altındır.\n",
      "Bir şair der ki: \"İstanbul'un taşı toprağı altındır.\" der.\n",
      "C:\n",
      "albur\n",
      "C:\\nalbur\n",
      "C:\\nalbur\n",
      "'C:\\nalbur'\n"
     ]
    }
   ],
   "source": [
    "print(\"İstanbul'un taşı toprağı altındır.\") #tırnak makul şekilde kullanırız.\n",
    "\n",
    "#\"\"\" veya kaçış ifadesi kullanılır. \\ ile sağındaki karekteir olduğu gibi yaz deriz.\n",
    "print(\"Bir şair der ki: \\\"İstanbul'un taşı toprağı altındır.\\\" der.\")\n",
    "\n",
    "#\\n, \\r, \\t bunlar özel karakterlerdir.\n",
    "print(\"C:\\nalbur\")\n",
    "print(\"C:\\\\nalbur\") #\\\\ ile sağdaki \\'a özeli anlam yüklenmedi doğrudan yazdı.\n",
    "\n",
    "#\n",
    "print(r\"C:\\nalbur\") #raw string. olduğu str yi kullan\n",
    "\n",
    "#\n",
    "yol = \"C:\\nalbur\"\n",
    "print(repr(yol)) #repr fonkisyonu da raw string üretir."
   ]
  },
  {
   "cell_type": "markdown",
   "id": "391af155",
   "metadata": {},
   "source": [
    "### ASCII, UNICODE"
   ]
  },
  {
   "cell_type": "code",
   "execution_count": null,
   "id": "fae70a9b",
   "metadata": {},
   "outputs": [
    {
     "data": {
      "text/plain": [
       "13"
      ]
     },
     "execution_count": 65,
     "metadata": {},
     "output_type": "execute_result"
    }
   ],
   "source": [
    "ord(\"A\") #ASCII kod karşlığı 65\n",
    "ord(\"a\") #97\n",
    "\n",
    "#whitespaceler\n",
    "ord(\" \") #32\n",
    "ord(\"\\n\")#10\n",
    "ord(\"\\r\")#13"
   ]
  },
  {
   "cell_type": "code",
   "execution_count": null,
   "id": "ff5bc23e",
   "metadata": {},
   "outputs": [
    {
     "data": {
      "text/plain": [
       "'A'"
      ]
     },
     "execution_count": 66,
     "metadata": {},
     "output_type": "execute_result"
    }
   ],
   "source": [
    "chr(65) #A ascii/unicode alır karekter verir."
   ]
  },
  {
   "cell_type": "code",
   "execution_count": 69,
   "id": "d0a87ee6",
   "metadata": {},
   "outputs": [
    {
     "data": {
      "text/plain": [
       "'䮻'"
      ]
     },
     "execution_count": 69,
     "metadata": {},
     "output_type": "execute_result"
    }
   ],
   "source": [
    "ord(\"䮻\")  #19387\n",
    "chr(19387) #䮻"
   ]
  },
  {
   "cell_type": "code",
   "execution_count": null,
   "id": "7774dfe9",
   "metadata": {},
   "outputs": [
    {
     "data": {
      "text/plain": [
       "'∞'"
      ]
     },
     "execution_count": 72,
     "metadata": {},
     "output_type": "execute_result"
    }
   ],
   "source": [
    "\"\\u221E\" #sonsuz işareti\n",
    "\n",
    "ord('∞')\n",
    "chr(8734)"
   ]
  },
  {
   "cell_type": "code",
   "execution_count": 73,
   "id": "0c2fa98e",
   "metadata": {},
   "outputs": [
    {
     "data": {
      "text/plain": [
       "'😊'"
      ]
     },
     "execution_count": 73,
     "metadata": {},
     "output_type": "execute_result"
    }
   ],
   "source": [
    "\"\\U0001F60A\""
   ]
  },
  {
   "cell_type": "markdown",
   "id": "1986bdee",
   "metadata": {},
   "source": [
    "### Encode, Decode"
   ]
  },
  {
   "cell_type": "code",
   "execution_count": 76,
   "id": "d3cd67cf",
   "metadata": {},
   "outputs": [
    {
     "data": {
      "text/plain": [
       "'kârlı değerli bir iş'"
      ]
     },
     "execution_count": 76,
     "metadata": {},
     "output_type": "execute_result"
    }
   ],
   "source": [
    "byteStr = \"kârlı değerli bir iş\".encode() #varsayılan UTF-8\n",
    "\n",
    "byteStr.decode() #varsayılan UTF-8"
   ]
  },
  {
   "cell_type": "code",
   "execution_count": 82,
   "id": "1363f32b",
   "metadata": {},
   "outputs": [
    {
     "name": "stdout",
     "output_type": "stream",
     "text": [
      "b'krl deerli bir i'\n",
      "krl deerli bir i\n"
     ]
    }
   ],
   "source": [
    "\"\"\"\n",
    "    windows-1252\n",
    "    windows-1254\n",
    "    ANSI\n",
    "    ISO\n",
    "    UTF-8\n",
    "    UTF-16\n",
    "    ASCII\n",
    "\"\"\"\n",
    "byteStr = \"kârlı değerli bir iş\".encode(\"ASCII\",errors=\"ignore\") #varsayılan UTF-8\n",
    "print(byteStr)\n",
    "\n",
    "#\n",
    "dStr = byteStr.decode(\"UTF-8\") #varsayılan UTF-8\n",
    "print(dStr)"
   ]
  },
  {
   "cell_type": "markdown",
   "id": "4a37dc8a",
   "metadata": {},
   "source": [
    "### Karakter bazlı dönüşüm"
   ]
  },
  {
   "cell_type": "code",
   "execution_count": 85,
   "id": "2db91d87",
   "metadata": {},
   "outputs": [
    {
     "name": "stdout",
     "output_type": "stream",
     "text": [
      "{33: 101, 63: 104, 64: 97}\n"
     ]
    },
    {
     "data": {
      "text/plain": [
       "'Merhaba'"
      ]
     },
     "execution_count": 85,
     "metadata": {},
     "output_type": "execute_result"
    }
   ],
   "source": [
    "metin = \"M!r?@b@\"\n",
    "\n",
    "#\n",
    "#metin.replace\n",
    "\n",
    "tbl=str.maketrans(\"!?@\",\"eha\") #! - e , ? - h, @ - a eşleştiriyor\n",
    "print(tbl)\n",
    "\n",
    "#\n",
    "metin.translate(tbl)"
   ]
  },
  {
   "cell_type": "markdown",
   "id": "c4a7b986",
   "metadata": {},
   "source": [
    "### Str Formatlama"
   ]
  },
  {
   "cell_type": "code",
   "execution_count": 86,
   "id": "36dca1c1",
   "metadata": {},
   "outputs": [],
   "source": [
    "ad = \"Mehmet\"\n",
    "maas = 123321.49"
   ]
  },
  {
   "cell_type": "markdown",
   "id": "503e2cd5",
   "metadata": {},
   "source": [
    "#### 1. % ve () kullanımı (eski)\n",
    "* Tip zorunluğu oluşturur."
   ]
  },
  {
   "cell_type": "code",
   "execution_count": 89,
   "id": "5cc419c5",
   "metadata": {},
   "outputs": [
    {
     "name": "stdout",
     "output_type": "stream",
     "text": [
      "Ad:Mehmet \n",
      "Maaş:123321.5\n"
     ]
    }
   ],
   "source": [
    "\"\"\"\n",
    "    %s : str\n",
    "    %f : float\n",
    "    %d : int\n",
    "\n",
    "    %.1f\n",
    "\n",
    "\"\"\"\n",
    "fmt = \"Ad:%s \\nMaaş:%f\"%(ad,maas)\n",
    "fmt = \"Ad:%s \\nMaaş:%.1f\"%(ad,maas) #ondalık kısım 1 basamak olsun\n",
    "\n",
    "print(fmt)"
   ]
  },
  {
   "cell_type": "markdown",
   "id": "0b96bd6b",
   "metadata": {},
   "source": [
    "#### `str.format` ile formatlamak"
   ]
  },
  {
   "cell_type": "code",
   "execution_count": null,
   "id": "8291fdc8",
   "metadata": {},
   "outputs": [
    {
     "name": "stdout",
     "output_type": "stream",
     "text": [
      "Ad:Meh***\n",
      "Maaş://////////123,321.5///////////\n"
     ]
    }
   ],
   "source": [
    "\"\"\"\n",
    "    {} placeholder\n",
    "    {IndexVeyaAlias : formatString}\n",
    "\n",
    "    formatString\n",
    "    ----------------\n",
    "    f: float\n",
    "    s: str\n",
    "    d: int\n",
    "\n",
    "    formatString kalıbı\n",
    "    kalanBoşlukİçinKarakter | Hizalama (<>^) | HizalamaMiktari | bindlikAyrac (_,) | basamakSayisi | Tip\n",
    "\n",
    "\n",
    "\"\"\"\n",
    "fmt = \"Ad:{}\\nMaaş:{}\".format(ad, maas) #parametre sırasıyla değer atanır.\n",
    "fmt = \"Ad:{1}\\nMaaş:{0}\".format(maas,ad) #placegolderlar index alabilir.\n",
    "fmt = \"Ad:{adi}\\nMaaş:{maasi}\".format(maasi = maas,adi = ad) #alias verebilirim\n",
    "\n",
    "#\n",
    "fmt = \"Ad:{:.3s}\\nMaaş:{:.1f}\".format(ad, maas) #.1f ile ondalık kısım 1 basamaklı, .3s ile 3 karakter.\n",
    "fmt = \"Ad:{:.3s}\\nMaaş:{:,.1f}\".format(ad, maas) #,.1f daki , ile binlik ayraç koyduk\n",
    "fmt = \"Ad:{:.3s}\\nMaaş:{:^30,.1f}\".format(ad, maas) #^30 ile 30 karakter içerisine ortala\n",
    "fmt = \"Ad:{:.3s}***\\nMaaş:{:/^30,.1f}\".format(ad, maas) #boşluklara / ekle\n",
    "\n",
    "#\"*\"*(len(\"Mehmet\")-3)\n",
    "#\n",
    "print(fmt)"
   ]
  },
  {
   "cell_type": "markdown",
   "id": "32bf3a98",
   "metadata": {},
   "source": [
    "### f string\n",
    "* metin başındaki f\"metin\" placeholder {} içinde değişken veya değer kullanmamızı sağlar."
   ]
  },
  {
   "cell_type": "code",
   "execution_count": 108,
   "id": "9b29a88d",
   "metadata": {},
   "outputs": [
    {
     "name": "stdout",
     "output_type": "stream",
     "text": [
      "Ad:Meh***\n",
      "Maaş://////////123,321.5///////////\n"
     ]
    }
   ],
   "source": [
    "#fmt = \"Ad:{:.3s}***\\nMaaş:{:/^30,.1f}\".format(ad, maas)\n",
    "fmt = f\"Ad:{ad:.3s}***\\nMaaş:{maas:/^30,.1f}\"\n",
    "\n",
    "print(fmt)"
   ]
  },
  {
   "cell_type": "markdown",
   "id": "9913708c",
   "metadata": {},
   "source": [
    "### Gömülü format fonksiyonu"
   ]
  },
  {
   "cell_type": "code",
   "execution_count": 110,
   "id": "2117ee71",
   "metadata": {},
   "outputs": [
    {
     "data": {
      "text/plain": [
       "'**********************32,131.2'"
      ]
     },
     "execution_count": 110,
     "metadata": {},
     "output_type": "execute_result"
    }
   ],
   "source": [
    "format(32131.23,\"*>30,.1f\")"
   ]
  },
  {
   "cell_type": "markdown",
   "id": "fee3631b",
   "metadata": {},
   "source": [
    "#### str.format_map\n",
    "* key gördüğünde metinde ilgili yere valuları basar."
   ]
  },
  {
   "cell_type": "code",
   "execution_count": 114,
   "id": "164f61d7",
   "metadata": {},
   "outputs": [
    {
     "name": "stdout",
     "output_type": "stream",
     "text": [
      "Sayın Ali, üyeliğiniz aktif edilmiştir. Bakiyeniz 2131.5 ₺'dir\n"
     ]
    }
   ],
   "source": [
    "dict_p = {\"adi\":\"Ali\",\n",
    "          \"bakiyesi\":2131.49}\n",
    "\n",
    "fmt = \"Sayın {adi}, üyeliğiniz aktif edilmiştir. Bakiyeniz {bakiyesi:.1f} ₺'dir\".format_map(dict_p)\n",
    "\n",
    "print(fmt)"
   ]
  },
  {
   "cell_type": "code",
   "execution_count": null,
   "id": "3752f48b",
   "metadata": {},
   "outputs": [
    {
     "name": "stdout",
     "output_type": "stream",
     "text": [
      "------------------------------\n",
      "-------Merhaba Dünyalı--------\n",
      "------------------------------\n"
     ]
    }
   ],
   "source": [
    "#soru:\n",
    "\"\"\"\n",
    "    Metin kullanıcıdan alınsın.\n",
    "    Karakter sayısı da kullanıcıdan alınsın\n",
    "    kalan boşluklara - basılsın.\n",
    "\"\"\"\n",
    "\"\"\"\n",
    "------------------------\n",
    "----Merhaba Dünyalı-----\n",
    "------------------------\n",
    "\"\"\"\n",
    "\n",
    "\"-\"*10 #contanerlarda * işlemi eleman sayısını tekrarlar.\n",
    "\n",
    "#çözüm:\n",
    "mesaj = \"Merhaba Dünyalı\" #input(\"Mesajınızı Giriniz\")\n",
    "karakterSayisi = int(\"30\")#int(input(\"Karakter sayısını giriniz:\"))\n",
    "\n",
    "#\n",
    "print(\"-\"*karakterSayisi)\n",
    "print(mesaj.center(karakterSayisi, \"-\")) #center ile\n",
    "print(\"-\"*karakterSayisi)\n"
   ]
  },
  {
   "cell_type": "code",
   "execution_count": null,
   "id": "62dd7817",
   "metadata": {},
   "outputs": [
    {
     "name": "stdout",
     "output_type": "stream",
     "text": [
      "-------Merhaba Dünyalı--------\n"
     ]
    }
   ],
   "source": [
    "#2. yöntem\n",
    "#fmt = \"{:-^30}\".format(mesaj)\n",
    "fmt = \"{:-^{}}\".format(mesaj,karakterSayisi)\n",
    "fmt = f\"{mesaj:-^{karakterSayisi}}\"\n",
    "\n",
    "print(fmt)"
   ]
  },
  {
   "cell_type": "code",
   "execution_count": null,
   "id": "a5ac6af4",
   "metadata": {},
   "outputs": [],
   "source": [
    "#soru: Yazar kasa fişi oluşturalım\n",
    "'''\n",
    "==============================\n",
    "Item                     Price\n",
    "------------------------------\n",
    "Elma                      0.40\n",
    "Karpus                    0.50\n",
    "Üzüm                      1.92\n",
    "Havuc (16 oz.)            8.00\n",
    "Prasa (4 lbs.)           12.00\n",
    "==============================\n",
    "'''"
   ]
  }
 ],
 "metadata": {
  "kernelspec": {
   "display_name": "Python 3",
   "language": "python",
   "name": "python3"
  },
  "language_info": {
   "codemirror_mode": {
    "name": "ipython",
    "version": 3
   },
   "file_extension": ".py",
   "mimetype": "text/x-python",
   "name": "python",
   "nbconvert_exporter": "python",
   "pygments_lexer": "ipython3",
   "version": "3.11.3"
  }
 },
 "nbformat": 4,
 "nbformat_minor": 5
}
