{
 "cells": [
  {
   "cell_type": "markdown",
   "id": "7d8afae8",
   "metadata": {},
   "source": [
    "# Karar Yapıları ve Döngüler\n",
    "### Karar Yapıları\n",
    "* if-elif-elif...-else\n",
    "```python\n",
    "if şart:\n",
    "    #şart True olursa çalışacak kodlar.\n",
    "elif şart2:\n",
    "    #şart2 True oldğunda\n",
    "elif şart3:\n",
    "    #şart3 True\n",
    "else:\n",
    "    #tüm şartlara uymadığında çalışır.\n",
    "```\n",
    "* ternary: tek satırda if yazabiliriz.\n",
    "```python\n",
    "şartTrueUretirse if şart else şartFalseUretirse\n",
    "```"
   ]
  },
  {
   "cell_type": "code",
   "execution_count": 12,
   "id": "8ee50462",
   "metadata": {},
   "outputs": [
    {
     "name": "stdout",
     "output_type": "stream",
     "text": [
      "Sayılal Notunuz 90 harf karşılı A\n",
      "Programın sonuna gelindi\n"
     ]
    }
   ],
   "source": [
    "#dışarında sayısal not isteyelim harf notuna çevirelim.\n",
    "sayisalNot = \"90\" #input(\"Notunuzu giriniz:\")\n",
    "sayisalNot = int(sayisalNot)\n",
    "\n",
    "#\n",
    "harfNotu = \"\"\n",
    "\n",
    "#\n",
    "if 0<=sayisalNot<=100: #sayisalNot>=0 and sayisalNot<=100:\n",
    "    #pass #kodlar için yer tutucudur. kod yok diye hata verme demiş olduk.\n",
    "    #... #kodlar için yer tutucudur\n",
    "    if sayisalNot>=85:\n",
    "        harfNotu = \"A\"\n",
    "    elif sayisalNot>=70:\n",
    "        harfNotu = \"B\"\n",
    "    elif sayisalNot>=50:\n",
    "        harfNotu = \"C\"\n",
    "    elif sayisalNot>=30:\n",
    "        harfNotu = \"D\"\n",
    "    else:\n",
    "        harfNotu = \"F\"\n",
    "\n",
    "    #\n",
    "    print(f\"Sayılal Notunuz {sayisalNot} harf karşılı {harfNotu}\")\n",
    "else:\n",
    "    print(\"notunuz 0-100 arasında olmalı.\")\n",
    "\n",
    "#\n",
    "print(\"Programın sonuna gelindi\")"
   ]
  },
  {
   "cell_type": "code",
   "execution_count": null,
   "id": "0080c225",
   "metadata": {},
   "outputs": [
    {
     "data": {
      "text/plain": [
       "'Çiftsayi'"
      ]
     },
     "execution_count": 19,
     "metadata": {},
     "output_type": "execute_result"
    }
   ],
   "source": [
    "#ternary\n",
    "x = 6\n",
    "\n",
    "#\n",
    "\"Çift Sayı\" if x%2==0 else \"Tek Sayı\"\n",
    "\n",
    "#eski yöntem\n",
    "(\"TekSayi\",\"Çiftsayi\")[x%2==0]"
   ]
  },
  {
   "cell_type": "markdown",
   "id": "828a7cdc",
   "metadata": {},
   "source": [
    "### Döngüler\n",
    "* for: iterasyon yapılabilecek bir nesnenin (container) elemanlarına tek tek ulaşmamızı sağlar.\n",
    "```python\n",
    "for eleman in grup:\n",
    "    #elemanlara tek tek ulaşırız.\n",
    "```\n",
    "* while-else\n",
    "```python\n",
    "while şart:\n",
    "    #şart True olduğu sürece çalışır.\n",
    "else:\n",
    "    #şart ilk False ürettiğinde devreye girer.\n",
    "```\n",
    "* `break` ile donguden çıkılır, `continue` ile o noktadan itibaren devam etmez sonraki iterasyona atlar."
   ]
  },
  {
   "cell_type": "markdown",
   "id": "d4b050cf",
   "metadata": {},
   "source": [
    "### for"
   ]
  },
  {
   "cell_type": "code",
   "execution_count": 22,
   "id": "71fbe8b4",
   "metadata": {},
   "outputs": [
    {
     "name": "stdout",
     "output_type": "stream",
     "text": [
      "M-E-R-H-A-B-A-"
     ]
    }
   ],
   "source": [
    "metin = \"merhaba\" #str container\n",
    "\n",
    "#\n",
    "for m in metin:\n",
    "    print(m.upper(), end=\"-\") #her yazdığında alt satıra geçmesin."
   ]
  },
  {
   "cell_type": "code",
   "execution_count": null,
   "id": "ebfd4045",
   "metadata": {},
   "outputs": [
    {
     "name": "stdout",
     "output_type": "stream",
     "text": [
      "0 karesi 0\n",
      "2 karesi 4\n",
      "4 karesi 16\n",
      "6 karesi 36\n",
      "8 karesi 64\n"
     ]
    }
   ],
   "source": [
    "#soru: 0-9 arasındaki çift sayıları yazdıralım. karesi ile.\n",
    "for s in [0,1,2,3,4,5,6,7,8,9]:\n",
    "    if s%2==0:\n",
    "        print(f\"{s} karesi {s**2}\")"
   ]
  },
  {
   "cell_type": "code",
   "execution_count": 31,
   "id": "788068dc",
   "metadata": {},
   "outputs": [
    {
     "data": {
      "text/plain": [
       "[0, 1, 2, 3, 4, 5, 6, 7, 8, 9]"
      ]
     },
     "execution_count": 31,
     "metadata": {},
     "output_type": "execute_result"
    }
   ],
   "source": [
    "#range(start:stop:step) satı containieri döndürür.\n",
    "range(10) #[0,1,2,3,4,5,6,7,8,9]\n",
    "\n",
    "#tip dönüşümü\n",
    "list(range(10))\n",
    "#-------------------------"
   ]
  },
  {
   "cell_type": "code",
   "execution_count": 32,
   "id": "a9a929f1",
   "metadata": {},
   "outputs": [
    {
     "data": {
      "text/plain": [
       "['0 karesi 0', '2 karesi 4', '4 karesi 16', '6 karesi 36', '8 karesi 64']"
      ]
     },
     "execution_count": 32,
     "metadata": {},
     "output_type": "execute_result"
    }
   ],
   "source": [
    "#sonuçları bir listede toplayalım. tekrar tekrar hesap yapammaış oluruz.\n",
    "\n",
    "lst = []\n",
    "#\n",
    "for s in range(10):\n",
    "    if s%2==0:\n",
    "        lst.append(f\"{s} karesi {s**2}\")\n",
    "\n",
    "#\n",
    "lst"
   ]
  },
  {
   "cell_type": "markdown",
   "id": "29fa01b6",
   "metadata": {},
   "source": [
    "#### List Comprehension"
   ]
  },
  {
   "cell_type": "code",
   "execution_count": 35,
   "id": "d0b7b979",
   "metadata": {},
   "outputs": [
    {
     "data": {
      "text/plain": [
       "['0 karesi 0', '2 karesi 4', '4 karesi 16', '6 karesi 36', '8 karesi 64']"
      ]
     },
     "execution_count": 35,
     "metadata": {},
     "output_type": "execute_result"
    }
   ],
   "source": [
    "[f\"{s} karesi {s**2}\" for s in range(10) if s%2==0]"
   ]
  },
  {
   "cell_type": "code",
   "execution_count": 51,
   "id": "595bb0d3",
   "metadata": {},
   "outputs": [
    {
     "name": "stdout",
     "output_type": "stream",
     "text": [
      "3 X 1 = 3\t5 X 1 = 5\t7 X 1 = 7\t\n",
      "3 X 2 = 6\t5 X 2 = 10\t7 X 2 = 14\t\n",
      "3 X 3 = 9\t5 X 3 = 15\t7 X 3 = 21\t\n",
      "3 X 4 = 12\t5 X 4 = 20\t7 X 4 = 28\t\n",
      "3 X 5 = 15\t5 X 5 = 25\t7 X 5 = 35\t\n",
      "3 X 6 = 18\t5 X 6 = 30\t7 X 6 = 42\t\n",
      "3 X 7 = 21\t5 X 7 = 35\t7 X 7 = 49\t\n",
      "3 X 8 = 24\t5 X 8 = 40\t7 X 8 = 56\t\n",
      "3 X 9 = 27\t5 X 9 = 45\t7 X 9 = 63\t\n",
      "3 X 10 = 30\t5 X 10 = 50\t7 X 10 = 70\t\n"
     ]
    }
   ],
   "source": [
    "#soru: Çarpım tablosu yapalım.\n",
    "hangileri = [3,5,7]\n",
    "\n",
    "#\n",
    "for x in range(1,11):\n",
    "    for y in range(2,11):\n",
    "        if y in hangileri:\n",
    "            print(f\"{y} X {x} = {x*y}\",end=\"\\t\")\n",
    "    #\n",
    "    #print(\"-\"*15) #her x değiştiğinde çizgi çek.\n",
    "    print()"
   ]
  },
  {
   "cell_type": "markdown",
   "id": "d1c8c4ef",
   "metadata": {},
   "source": [
    "### while-else\n"
   ]
  },
  {
   "cell_type": "code",
   "execution_count": null,
   "id": "57c81089",
   "metadata": {},
   "outputs": [
    {
     "name": "stdout",
     "output_type": "stream",
     "text": [
      "1\n",
      "3\n",
      "5\n"
     ]
    }
   ],
   "source": [
    "sayac = 0\n",
    "\n",
    "while sayac < 10:\n",
    "    sayac +=1\n",
    "    #----------------  \n",
    "    if sayac == 7:\n",
    "        break   #döngüyü sonlandırır.\n",
    "    #\n",
    "    if sayac %2==0:\n",
    "        continue #sonraki iterasyona atlar.\n",
    "    #----------------\n",
    "    #\n",
    "    print(sayac)\n",
    "    \n",
    "else:\n",
    "    print(f\"Şarta uymayan bir durumla karşılaşıldı. Sayaç : {sayac}\")\n"
   ]
  },
  {
   "cell_type": "code",
   "execution_count": null,
   "id": "5c54cdd4",
   "metadata": {},
   "outputs": [
    {
     "name": "stdout",
     "output_type": "stream",
     "text": [
      "hoş geldiniz admin\n"
     ]
    }
   ],
   "source": [
    "#soru: Kullanıcı adı ve şifre isteyelim 3 hak olsun. Giriş başarılı olduğunda hoş geldin kadi diyelim.\n",
    "kadi = ksifre = \"\"\n",
    "denemeHakki = 3\n",
    "\n",
    "#\n",
    "while not(kadi==\"admin\" and ksifre==\"123\"): #giriş başarısız ise döngü çalışır.\n",
    "    if denemeHakki <=0:\n",
    "        print(\"Deneme hakkınız bitti\")\n",
    "        break\n",
    "    \n",
    "    #--------\n",
    "    kadi= input(\"Kullanıcı adınız: \")\n",
    "    ksifre = input(\"Şifreniz:\")\n",
    "\n",
    "    #deneme hakkı düşsün.\n",
    "    denemeHakki -=1\n",
    "else:\n",
    "    print(f\"hoş geldiniz {kadi}\")"
   ]
  },
  {
   "cell_type": "code",
   "execution_count": null,
   "id": "f1a56926",
   "metadata": {},
   "outputs": [],
   "source": [
    "#soru:\n",
    "#aşağıdaki metni temizleyelim.\n",
    "#@ harfinden önceki kısmı getirelim.\n",
    "#kaç adet sayı var.\n",
    "mailadresi = \"mai!la?dr0esi2m@domin.com\"\n",
    "#mailadresim\n",
    "#2 adet sayı var."
   ]
  },
  {
   "cell_type": "code",
   "execution_count": null,
   "id": "2caa26d7",
   "metadata": {},
   "outputs": [],
   "source": [
    "#soru:\n",
    "#Bilgisayar rastgele bir sayı tutsun bu sayıyı tahmin etmeye çalışalım.\n",
    "#sayı 0-10 arasında, 3 deneme hakkı verilsin. tahmin etmek yönlendirsin yukarı aşağıda diyerek"
   ]
  },
  {
   "cell_type": "code",
   "execution_count": null,
   "id": "55381cd7",
   "metadata": {},
   "outputs": [
    {
     "data": {
      "text/plain": [
       "4"
      ]
     },
     "execution_count": 93,
     "metadata": {},
     "output_type": "execute_result"
    }
   ],
   "source": [
    "import random\n",
    "\n",
    "#dir(random)\n",
    "random.randint(0,10) #belirtilen aralıkta tam sayı üretir.\n",
    "random.random() #0-1 arasında rastgele sayı\n",
    "\n",
    "#\n",
    "l = [1,2,3,4]\n",
    "random.shuffle(l) #listeyi rastgele karıştırır.\n",
    "l\n",
    "\n",
    "#\n",
    "random.choice(l) #listeden rastgele eleman seçer."
   ]
  }
 ],
 "metadata": {
  "kernelspec": {
   "display_name": "Python 3",
   "language": "python",
   "name": "python3"
  },
  "language_info": {
   "codemirror_mode": {
    "name": "ipython",
    "version": 3
   },
   "file_extension": ".py",
   "mimetype": "text/x-python",
   "name": "python",
   "nbconvert_exporter": "python",
   "pygments_lexer": "ipython3",
   "version": "3.11.3"
  }
 },
 "nbformat": 4,
 "nbformat_minor": 5
}
