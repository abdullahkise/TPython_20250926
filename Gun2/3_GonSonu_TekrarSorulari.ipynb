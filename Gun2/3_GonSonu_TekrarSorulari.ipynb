{
 "cells": [
  {
   "cell_type": "code",
   "execution_count": null,
   "metadata": {},
   "outputs": [
    {
     "data": {
      "text/plain": [
       "13"
      ]
     },
     "execution_count": 1,
     "metadata": {},
     "output_type": "execute_result"
    }
   ],
   "source": [
    "# Soru1:\n",
    "'''\n",
    "    Bir metin içerisindeki belirttiğimiz harfi saydıran bir kod parçası yazalım.\n",
    "'''\n",
    "metin = \"Python programlama dili, dünyada eğitim amacıyla en çok kullanılan programlama dillerinden biridir.\"\n",
    "harf = \"a\""
   ]
  },
  {
   "cell_type": "code",
   "execution_count": null,
   "metadata": {},
   "outputs": [
    {
     "data": {
      "text/plain": [
       "{'toplam': 60, 'adet': 5, 'liste': [4, 8, 12, 16, 20]}"
      ]
     },
     "execution_count": 13,
     "metadata": {},
     "output_type": "execute_result"
    }
   ],
   "source": [
    "# Soru2:\n",
    "'''\n",
    "    Belirtilen sayılardan 3'e (istenen sayıya) tam bölünenlerin adedini, toplamını ve sayıların kendisini döndüren bir fonksiyon yazalım.\n",
    "'''"
   ]
  },
  {
   "cell_type": "code",
   "execution_count": null,
   "metadata": {},
   "outputs": [
    {
     "data": {
      "text/plain": [
       "'78.54'"
      ]
     },
     "execution_count": 20,
     "metadata": {},
     "output_type": "execute_result"
    }
   ],
   "source": [
    "# Soru3:\n",
    "'''\n",
    "    Dışarıdan yarıçapı girilen dairenin alanını hesaplayan bir fonksiyon yazalım.\n",
    "    hata kontrollerini de yapalım.\n",
    "    Dairenin Alanı = pi * r^2\n",
    "'''"
   ]
  },
  {
   "cell_type": "code",
   "execution_count": null,
   "metadata": {},
   "outputs": [
    {
     "data": {
      "text/plain": [
       "('snalubma', 'ambulans')"
      ]
     },
     "execution_count": 23,
     "metadata": {},
     "output_type": "execute_result"
    }
   ],
   "source": [
    "# Soru4:\n",
    "'''\n",
    "    Verilen metni alfabe dışındaki karekterlerden temizleyelim. Metni düz ve tersten veren bir fonksiyon yazalım\n",
    "'''"
   ]
  },
  {
   "cell_type": "code",
   "execution_count": null,
   "metadata": {},
   "outputs": [
    {
     "data": {
      "text/plain": [
       "'Wednesday'"
      ]
     },
     "execution_count": 29,
     "metadata": {},
     "output_type": "execute_result"
    }
   ],
   "source": [
    "# soru5:\n",
    "'''\n",
    "    Dışarıdan girilen tarih. hangi güne ait.\n",
    "'''"
   ]
  },
  {
   "cell_type": "code",
   "execution_count": null,
   "metadata": {},
   "outputs": [
    {
     "data": {
      "text/plain": [
       "'<]_pgg\\\\c'"
      ]
     },
     "execution_count": 46,
     "metadata": {},
     "output_type": "execute_result"
    }
   ],
   "source": [
    "# soru6: Sezar Şifrelemesi\n",
    "'''\n",
    "    chr(97) #ascii kod alır karakteri verir.\n",
    "    ord(\"a\") #karakter alır ascii kodu verir.\n",
    "    \n",
    "    kaydirmaMiktarı (anahtar)\n",
    "    temizMetin\n",
    "    sifreliMetin\n",
    "    \n",
    "    ord(\"a\") #97\n",
    "    ord(\"z\") #122\n",
    "    ord(\"A\") #65\n",
    "    ord(\"Z\") #90\n",
    "\n",
    "'''"
   ]
  },
  {
   "cell_type": "code",
   "execution_count": null,
   "metadata": {},
   "outputs": [
    {
     "data": {
      "text/plain": [
       "'Boy bilgisi sayısal olmalıdır.'"
      ]
     },
     "execution_count": 50,
     "metadata": {},
     "output_type": "execute_result"
    }
   ],
   "source": [
    "# soru7: cm olarak girilen boy bilgisine bakılarak ideal kilo hesabı yapalım.\n",
    "# Boy bilgisini floata dönüşecek mi diye kontrol edelim.\n",
    "#idealkilo  = boy-100-(boy-150)/4"
   ]
  },
  {
   "cell_type": "code",
   "execution_count": null,
   "metadata": {},
   "outputs": [
    {
     "data": {
      "text/plain": [
       "'Bu plaka mevcut değil.'"
      ]
     },
     "execution_count": 65,
     "metadata": {},
     "output_type": "execute_result"
    }
   ],
   "source": [
    "# soru8:\n",
    "'''\n",
    "    Aşağıdaki metni dict'e çevirelim. plaka kodu verildiğinde ili getiren fonksiyonu yazalım\n",
    "'''\n",
    "\n",
    "plakaKodlar = \"\"\"\n",
    "İstanbul 34\n",
    "Ankara 06\n",
    "\n",
    "Adana 01\n",
    "Çorum 19\n",
    "Sakarya 54\n",
    "\"\"\"\n"
   ]
  },
  {
   "cell_type": "code",
   "execution_count": null,
   "metadata": {},
   "outputs": [
    {
     "data": {
      "text/plain": [
       "{2, 9}"
      ]
     },
     "execution_count": 70,
     "metadata": {},
     "output_type": "execute_result"
    }
   ],
   "source": [
    "# Soru 9:\n",
    "# fonksiyona verilen sayılardan sadece tekrar edenleri bulalım."
   ]
  },
  {
   "cell_type": "code",
   "execution_count": null,
   "metadata": {},
   "outputs": [
    {
     "data": {
      "text/plain": [
       "[5, 6, 7, 8]"
      ]
     },
     "execution_count": 84,
     "metadata": {},
     "output_type": "execute_result"
    }
   ],
   "source": [
    "# Soru 10:\n",
    "# bir listedeki sayılara bakıp, 1-10 arasındaki sayılardan hangileri eksikmiş bulalım."
   ]
  },
  {
   "cell_type": "code",
   "execution_count": null,
   "metadata": {},
   "outputs": [
    {
     "data": {
      "text/plain": [
       "'programlama'"
      ]
     },
     "execution_count": 5,
     "metadata": {},
     "output_type": "execute_result"
    }
   ],
   "source": [
    "#soru 11:\n",
    "# Bir cümledeki en uzun kelimeyi getiren fonksiyonu yazalım.\n",
    "cumle = \"Python programlama dili oldukça popüler bir dil haline geldi.\""
   ]
  },
  {
   "cell_type": "code",
   "execution_count": null,
   "metadata": {},
   "outputs": [],
   "source": [
    "#soru 12:\n",
    "#oyundaki oyuncunun bir sola veya sağa alalım.\n",
    "oyun = [1,2,3,4,'X',5,6 ]\n",
    "oyuncu=\"X\""
   ]
  }
 ],
 "metadata": {
  "kernelspec": {
   "display_name": "Python 3",
   "language": "python",
   "name": "python3"
  },
  "language_info": {
   "codemirror_mode": {
    "name": "ipython",
    "version": 3
   },
   "file_extension": ".py",
   "mimetype": "text/x-python",
   "name": "python",
   "nbconvert_exporter": "python",
   "pygments_lexer": "ipython3",
   "version": "3.11.3"
  }
 },
 "nbformat": 4,
 "nbformat_minor": 2
}
