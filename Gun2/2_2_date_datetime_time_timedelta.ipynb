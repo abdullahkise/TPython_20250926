{
 "cells": [
  {
   "cell_type": "markdown",
   "id": "1e792270",
   "metadata": {},
   "source": [
    "# Tarihsel Tipler\n",
    "datetime kütüphanesi satndart kütüphaneler arasındadır. Zamansal tipleri barındır.\n",
    "\n",
    "* **date**: sadece tarih\n",
    "* **datetime**: tarih ve zaman\n",
    "* **time**: zaman\n",
    "* **timdelta**: iki tarih arasındaki farkı temsil eder."
   ]
  },
  {
   "cell_type": "code",
   "execution_count": 1,
   "id": "e936a820",
   "metadata": {},
   "outputs": [],
   "source": [
    "from datetime import date, datetime, time, timedelta"
   ]
  },
  {
   "cell_type": "markdown",
   "id": "893f5b8a",
   "metadata": {},
   "source": [
    "## date"
   ]
  },
  {
   "cell_type": "code",
   "execution_count": null,
   "id": "26c78d21",
   "metadata": {},
   "outputs": [
    {
     "name": "stdout",
     "output_type": "stream",
     "text": [
      "2025-09-27\n"
     ]
    },
    {
     "data": {
      "text/plain": [
       "27"
      ]
     },
     "execution_count": 6,
     "metadata": {},
     "output_type": "execute_result"
    }
   ],
   "source": [
    "dir(date)\n",
    "\n",
    "#\n",
    "bugun = date.today()\n",
    "\n",
    "type(bugun) #datetime.date\n",
    "bugun #datetime.date(2025, 9, 27)\n",
    "print(bugun) #2025-09-27 ISO formatında yazılmış. __str__ fonksiyonunda ISO formatında görünecek şekilde tanımlamışlar.\n",
    "\n",
    "#attributeler. date'in parçaları.\n",
    "bugun.year\n",
    "bugun.month\n",
    "bugun.day"
   ]
  },
  {
   "cell_type": "markdown",
   "id": "fd4859a0",
   "metadata": {},
   "source": [
    "## datetime"
   ]
  },
  {
   "cell_type": "code",
   "execution_count": null,
   "id": "2c68d8ee",
   "metadata": {},
   "outputs": [
    {
     "name": "stdout",
     "output_type": "stream",
     "text": [
      "2025-09-27 14:08:53.944826\n"
     ]
    },
    {
     "data": {
      "text/plain": [
       "8"
      ]
     },
     "execution_count": 12,
     "metadata": {},
     "output_type": "execute_result"
    }
   ],
   "source": [
    "dir(datetime)\n",
    "\n",
    "simdi = datetime.now() #datetime.today()\n",
    "\n",
    "print(simdi)\n",
    "\n",
    "#\n",
    "simdi.year\n",
    "simdi.hour\n",
    "\n",
    "#\n",
    "simdi.date().year\n",
    "simdi.date().month\n",
    "\n",
    "#\n",
    "simdi.time().hour\n",
    "simdi.time().minute"
   ]
  },
  {
   "cell_type": "code",
   "execution_count": 15,
   "id": "6a51bbfb",
   "metadata": {},
   "outputs": [
    {
     "data": {
      "text/plain": [
       "5"
      ]
     },
     "execution_count": 15,
     "metadata": {},
     "output_type": "execute_result"
    }
   ],
   "source": [
    "bugun.weekday() #haftanın kaçıncı günü 0'dan başlar."
   ]
  },
  {
   "cell_type": "markdown",
   "id": "8c1e203a",
   "metadata": {},
   "source": [
    "## Tarih Üretmek"
   ]
  },
  {
   "cell_type": "code",
   "execution_count": null,
   "id": "22dc0dc6",
   "metadata": {},
   "outputs": [
    {
     "name": "stdout",
     "output_type": "stream",
     "text": [
      "2025-09-27 14:10:00\n"
     ]
    }
   ],
   "source": [
    "#1.yöntem\n",
    "tarih = date(2025,9,27)\n",
    "tarih = datetime(2025,9,27,14,10)\n",
    "\n",
    "#\n",
    "print(tarih)"
   ]
  },
  {
   "cell_type": "markdown",
   "id": "989b80d3",
   "metadata": {},
   "source": [
    "### `strptime` ile metni tarihe çevirmek\n",
    "* bir metni format stringler vererek tarihe parse edebiliriz.\n",
    "* %y, %A, %H. notlarda mevcut"
   ]
  },
  {
   "cell_type": "code",
   "execution_count": 20,
   "id": "fdd618ba",
   "metadata": {},
   "outputs": [
    {
     "name": "stdout",
     "output_type": "stream",
     "text": [
      "<class 'datetime.datetime'>\n",
      "2025-09-01 00:00:00\n"
     ]
    }
   ],
   "source": [
    "str_tarih = \"2025-09-01\"\n",
    "dtarih = datetime.strptime(str_tarih,\"%Y-%m-%d\")\n",
    "\n",
    "print(type(dtarih))\n",
    "print(dtarih)"
   ]
  },
  {
   "cell_type": "markdown",
   "id": "d62d9e9b",
   "metadata": {},
   "source": [
    "### `strftime` tarihten ile belli formatta metin üretmek"
   ]
  },
  {
   "cell_type": "code",
   "execution_count": 26,
   "id": "6a128d3f",
   "metadata": {},
   "outputs": [
    {
     "name": "stdout",
     "output_type": "stream",
     "text": [
      "2025-05-01 00:00:00\n"
     ]
    },
    {
     "data": {
      "text/plain": [
       "'20250501'"
      ]
     },
     "execution_count": 26,
     "metadata": {},
     "output_type": "execute_result"
    }
   ],
   "source": [
    "str_tarih = \"01/05/2025\"\n",
    "dt_tarih = datetime.strptime(str_tarih, \"%d/%m/%Y\")\n",
    "\n",
    "print(dt_tarih) #tanımladığımn bağımsız olarak ISO formatında yazar.\n",
    "\n",
    "#istenen formatta yazmak için strftime kullanırız.\n",
    "dt_tarih.strftime(\"%B %Y - %A\")\n",
    "dt_tarih.strftime(\"%Y%m%d\")"
   ]
  },
  {
   "cell_type": "markdown",
   "id": "2af8328a",
   "metadata": {},
   "source": [
    "### Tarihin bir bölümünü güncellemek için `replace` kullanırız."
   ]
  },
  {
   "cell_type": "code",
   "execution_count": 27,
   "id": "ad4e7491",
   "metadata": {},
   "outputs": [
    {
     "name": "stdout",
     "output_type": "stream",
     "text": [
      "2025-09-28 00:00:00\n"
     ]
    }
   ],
   "source": [
    "dt_tarih =dt_tarih.replace(month=9, day=28) #orjinalini değiştirmez. kendisi üstüne atayalım.\n",
    "\n",
    "print(dt_tarih)"
   ]
  },
  {
   "cell_type": "markdown",
   "id": "10f35037",
   "metadata": {},
   "source": [
    "### timedelta"
   ]
  },
  {
   "cell_type": "code",
   "execution_count": null,
   "id": "3ff5c142",
   "metadata": {},
   "outputs": [
    {
     "data": {
      "text/plain": [
       "datetime.date(2025, 10, 18)"
      ]
     },
     "execution_count": 30,
     "metadata": {},
     "output_type": "execute_result"
    }
   ],
   "source": [
    "hafta = timedelta(days=7) #7 günlük fark tanımlamış olduk. - işareti de kullanılabilir.\n",
    "\n",
    "date.today() + hafta * 3 #bugunun tarihine 3 tane 7 gün ekledik."
   ]
  },
  {
   "cell_type": "code",
   "execution_count": 37,
   "id": "9e591af5",
   "metadata": {},
   "outputs": [
    {
     "data": {
      "text/plain": [
       "8208000.0"
      ]
     },
     "execution_count": 37,
     "metadata": {},
     "output_type": "execute_result"
    }
   ],
   "source": [
    "#iki tarih arasındaki fark.\n",
    "yilSonunaKadar = date(2025, 12, 31) - date.today() #timedelta\n",
    "\n",
    "#\n",
    "yilSonunaKadar.days\n",
    "yilSonunaKadar.seconds #dönen farkın secondunu verir. 0 olur.\n",
    "\n",
    "#\n",
    "yilSonunaKadar.total_seconds()"
   ]
  },
  {
   "cell_type": "code",
   "execution_count": 49,
   "id": "e781f67a",
   "metadata": {},
   "outputs": [
    {
     "name": "stdout",
     "output_type": "stream",
     "text": [
      "Siz doğalı toplamda  919,003,235 saniye geçti.\n"
     ]
    }
   ],
   "source": [
    "#soru:\n",
    "#kullanıcıdan doğum tarihini isteyelim. \n",
    "#hangi gün doğmuş. Monday vs.\n",
    "#doğalı kaç saniye, kaç gün ve toplamda kaç saniye olmuş.\n",
    "#input, datetime.strptime, tarih.strftime, %A, %Y, %d, %m\n",
    "\n",
    "#\n",
    "str_tarih = \"14/08/1996\" #input(\"Doğum tarihini giriniz: (gün / ay / yil)\")\n",
    "\n",
    "#\n",
    "dtarih = datetime.strptime(str_tarih, \"%d/%m/%Y\")\n",
    "\n",
    "#1.\n",
    "dtarih.strftime(\"%A\")\n",
    "\n",
    "#calendar kütüphanesi\n",
    "gunler = {\"Monday\":\"Pazartesi\",\n",
    "          \"Tuesday\":\"Salı\", \n",
    "          \"Wednesday\":\"Çarşamba\",\n",
    "          \"Thursday\":\"Perşembe\",\n",
    "          \"Friday\":\"Cuma\",\n",
    "          \"Saturday\":\"Cumartesi\",\n",
    "          \"Sunday\":\"Pazar\"}\n",
    "\n",
    "#\n",
    "gunler[dtarih.strftime(\"%A\")] #key:value\n",
    "\n",
    "\n",
    "#2.\n",
    "fark = datetime.now() - dtarih\n",
    "fark #datetime.timedelta(days=10636, seconds=52769, microseconds=525463)\n",
    "fark.days\n",
    "fark.seconds\n",
    "\n",
    "#\n",
    "fark.total_seconds()\n",
    "\n",
    "#\n",
    "print(f\"Siz doğalı toplamda {fark.total_seconds() : ,.0f} saniye geçti.\")"
   ]
  }
 ],
 "metadata": {
  "kernelspec": {
   "display_name": "Python 3",
   "language": "python",
   "name": "python3"
  },
  "language_info": {
   "codemirror_mode": {
    "name": "ipython",
    "version": 3
   },
   "file_extension": ".py",
   "mimetype": "text/x-python",
   "name": "python",
   "nbconvert_exporter": "python",
   "pygments_lexer": "ipython3",
   "version": "3.11.3"
  }
 },
 "nbformat": 4,
 "nbformat_minor": 5
}
