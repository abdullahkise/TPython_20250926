{
 "cells": [
  {
   "cell_type": "markdown",
   "id": "1e792270",
   "metadata": {},
   "source": [
    "# Tarihsel Tipler\n",
    "datetime kütüphanesi satndart kütüphaneler arasındadır. Zamansal tipleri barındır.\n",
    "\n",
    "* **date**: sadece tarih\n",
    "* **datetime**: tarih ve zaman\n",
    "* **time**: zaman\n",
    "* **timdelta**: iki tarih arasındaki farkı temsil eder."
   ]
  },
  {
   "cell_type": "code",
   "execution_count": null,
   "id": "e936a820",
   "metadata": {},
   "outputs": [],
   "source": []
  }
 ],
 "metadata": {
  "kernelspec": {
   "display_name": "Python 3",
   "language": "python",
   "name": "python3"
  },
  "language_info": {
   "name": "python",
   "version": "3.11.3"
  }
 },
 "nbformat": 4,
 "nbformat_minor": 5
}
