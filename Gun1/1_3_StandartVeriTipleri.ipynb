{
 "cells": [
  {
   "cell_type": "markdown",
   "id": "adeba48c",
   "metadata": {},
   "source": [
    "# Standart Veri Tipleri\n",
    "![alt text](PythonVeriTipleri.png)"
   ]
  },
  {
   "cell_type": "markdown",
   "id": "123ddf42",
   "metadata": {},
   "source": [
    "## Değişken Tanımlama"
   ]
  },
  {
   "cell_type": "code",
   "execution_count": null,
   "id": "760b6057",
   "metadata": {},
   "outputs": [
    {
     "name": "stdout",
     "output_type": "stream",
     "text": [
      "1\n",
      "2\n",
      "3\n"
     ]
    }
   ],
   "source": [
    "#python dynamic type özelliğine shaiptir. veriye göre memoryde yer ayırır.\n",
    "\n",
    "#klasik atama\n",
    "degisken = 10\n",
    "degisken = \"metin\"\n",
    "\n",
    "#zincir atama\n",
    "a = b = 10\n",
    "\n",
    "#unpacking: desen uyumlu ise değerler değişkenlere atanır.\n",
    "a,b,c = 1,2,3\n",
    "\n",
    "\n",
    "print(a,b,c,sep=\"\\n\") #\\n ile new line karakteri valuler arasına eklendi."
   ]
  },
  {
   "cell_type": "markdown",
   "id": "a4cbc9fb",
   "metadata": {},
   "source": [
    "## Primitive Types\n",
    "### NoneType"
   ]
  },
  {
   "cell_type": "code",
   "execution_count": null,
   "id": "9df8e8c4",
   "metadata": {},
   "outputs": [
    {
     "data": {
      "text/plain": [
       "NoneType"
      ]
     },
     "execution_count": 6,
     "metadata": {},
     "output_type": "execute_result"
    }
   ],
   "source": [
    "n = None\n",
    "\n",
    "#tip kontrolü \n",
    "type(n)"
   ]
  },
  {
   "cell_type": "markdown",
   "id": "1dfd5544",
   "metadata": {},
   "source": [
    "### Numeric"
   ]
  },
  {
   "cell_type": "code",
   "execution_count": 7,
   "id": "49206912",
   "metadata": {},
   "outputs": [],
   "source": [
    "i = 1    #int(1)\n",
    "f = 1.23 #float(1.23)\n",
    "c = 3+4j #complex(3,4)"
   ]
  },
  {
   "cell_type": "markdown",
   "id": "2fb735d4",
   "metadata": {},
   "source": [
    "### Bool"
   ]
  },
  {
   "cell_type": "code",
   "execution_count": 10,
   "id": "c8e09b65",
   "metadata": {},
   "outputs": [
    {
     "data": {
      "text/plain": [
       "False"
      ]
     },
     "execution_count": 10,
     "metadata": {},
     "output_type": "execute_result"
    }
   ],
   "source": [
    "b = True #bool(True)\n",
    "\n",
    "#bool tipine özel durum\n",
    "#0,None veya boş containerlar ([],(),{}) vs. pytonda genel olarak False kabul edilir. İstisna olan yerler var.\n",
    "bool(12) #True\n",
    "bool(-199) #True\n",
    "bool(0)\n"
   ]
  },
  {
   "cell_type": "markdown",
   "id": "13cc5e47",
   "metadata": {},
   "source": [
    "## Container Types\n",
    "### Sequence\n",
    "* Sıralıdır. Index yani sıra numarası ile elemanlara erişilebilir."
   ]
  },
  {
   "cell_type": "markdown",
   "id": "c6e5c3e6",
   "metadata": {},
   "source": [
    "#### str"
   ]
  },
  {
   "cell_type": "code",
   "execution_count": 12,
   "id": "9cd57a88",
   "metadata": {},
   "outputs": [
    {
     "name": "stdout",
     "output_type": "stream",
     "text": [
      "SELECT\n",
      "    kolon1,\n",
      "    kolon2\n",
      "FROM TabloAdi\n"
     ]
    }
   ],
   "source": [
    "#tek satırlı metinler için \" veya ' kullanılabilir.\n",
    "metin = \"merhaba\"\n",
    "metin = 'merhaba'\n",
    "\n",
    "#çok satırlı metin tutmak için tırnaklardan 3'er tane kullanmam gerekir.\n",
    "sorgu =\"\"\"SELECT\n",
    "    kolon1,\n",
    "    kolon2\n",
    "FROM TabloAdi\"\"\"\n",
    "\n",
    "print(sorgu)"
   ]
  },
  {
   "cell_type": "markdown",
   "id": "fdf16640",
   "metadata": {},
   "source": [
    "#### Tuple\n",
    "* Farklı tipten veriler tutabilir.\n",
    "* immutable yani elemnaları değiştirilezdir.\n",
    "* (,,,,) ile tanımlanır. ,,,, ile tuple tanımlanabilir."
   ]
  },
  {
   "cell_type": "code",
   "execution_count": null,
   "id": "f52871ae",
   "metadata": {},
   "outputs": [
    {
     "data": {
      "text/plain": [
       "(1, 2, 3, 'metin', True, None)"
      ]
     },
     "execution_count": 13,
     "metadata": {},
     "output_type": "execute_result"
    }
   ],
   "source": [
    "t = (1,2,3,\"metin\",True,None)\n",
    "t = 1,2,3,\"metin\",True,None\n",
    "\n",
    "#\n",
    "t"
   ]
  },
  {
   "cell_type": "markdown",
   "id": "f9be62f4",
   "metadata": {},
   "source": [
    "#### List\n",
    "* Farklı tipteki verileri tutabilir.\n",
    "* mutabledır. Yani eleman eklenebilir, silinebilir vs.\n",
    "* [,,,,] ile tanımlanır."
   ]
  },
  {
   "cell_type": "code",
   "execution_count": 14,
   "id": "ea51aa31",
   "metadata": {},
   "outputs": [
    {
     "data": {
      "text/plain": [
       "[1, 2, 3, 'metin', True, None]"
      ]
     },
     "execution_count": 14,
     "metadata": {},
     "output_type": "execute_result"
    }
   ],
   "source": [
    "l = [1,2,3,\"metin\",True,None]\n",
    "\n",
    "l"
   ]
  },
  {
   "cell_type": "markdown",
   "id": "983dec2e",
   "metadata": {},
   "source": [
    "#### sequence tiplerin elemanlarına erişmek\n",
    "1. **index:**\n",
    "   * `nesne[index]` \n",
    "     * index yani sıramuarsı 0'dan başlar\n",
    "     * indexler negatif olabilir. Bu tersten sondan anlamına gelir.\n",
    "2. **slicer:**\n",
    "   * `nesne[start:stop:step]`\n",
    "   * start belirtilmezse en baştan\n",
    "   * stop belirtilmezse en sona\n",
    "   * step belirtilmezse 1 olarak kabul edilir."
   ]
  },
  {
   "cell_type": "code",
   "execution_count": 29,
   "id": "441775c2",
   "metadata": {},
   "outputs": [
    {
     "data": {
      "text/plain": [
       "'a'"
      ]
     },
     "execution_count": 29,
     "metadata": {},
     "output_type": "execute_result"
    }
   ],
   "source": [
    "#index\n",
    "m = \"merhaba\" \n",
    "\n",
    "m[0] #ilk\n",
    "m[-1]#son\n",
    "\n",
    "#\n",
    "#m[100] #hata. bu index mevcut değil.!!!"
   ]
  },
  {
   "cell_type": "code",
   "execution_count": null,
   "id": "a90c0b63",
   "metadata": {},
   "outputs": [
    {
     "data": {
      "text/plain": [
       "[10, 9, 8, 7, 6, 5, 4, 3, 2, 1, 0]"
      ]
     },
     "execution_count": 34,
     "metadata": {},
     "output_type": "execute_result"
    }
   ],
   "source": [
    "#slicer\n",
    "l = [0,1,2,3,4,5,6,7,8,9,10]\n",
    "\n",
    "#l[start:stop:step]\n",
    "l[::] #tüm liste gelir. en baştan en sona birer adımla gelir. l ile aynı sonuç\n",
    "l[:]  #step zaten opsiyonel\n",
    "\n",
    "#\n",
    "l[2:8:2] #2. indexten 8.index(dahil değil) 2 şer atla getir.\n",
    "\n",
    "#\n",
    "l[::-1] #step -1 olursa tersten getirir."
   ]
  },
  {
   "cell_type": "markdown",
   "id": "634c2e2a",
   "metadata": {},
   "source": [
    "### Set Types\n",
    "* matematikteki kümemler gibi çalışır.\n",
    "* Benzersiz eleman tutar. Kesişim, bileşim gibi işlemleri destekler."
   ]
  },
  {
   "cell_type": "markdown",
   "id": "a065beb0",
   "metadata": {},
   "source": [
    "#### set\n",
    "* mutabledır. elemanları güncellenebilir.\n",
    "* setin elemanların immutable olmak zorundadır. mesela setin elemanı bir set olamaz. O yüznde frozenset var.\n",
    "* {,,,} ile tanımlanır"
   ]
  },
  {
   "cell_type": "code",
   "execution_count": null,
   "id": "c04acf16",
   "metadata": {},
   "outputs": [
    {
     "data": {
      "text/plain": [
       "{0, 1, 2, 3, None, 'metin'}"
      ]
     },
     "execution_count": 16,
     "metadata": {},
     "output_type": "execute_result"
    }
   ],
   "source": [
    "s = {0,1,2,3,\"metin\",\"metin\",False,True,None} #0 False, 1 True olarak değerlendirildi.\n",
    "\n",
    "#tekil tuttu\n",
    "s"
   ]
  },
  {
   "cell_type": "code",
   "execution_count": 17,
   "id": "287deda8",
   "metadata": {},
   "outputs": [
    {
     "data": {
      "text/plain": [
       "{'A', 'B', 'I', 'K', 'L'}"
      ]
     },
     "execution_count": 17,
     "metadata": {},
     "output_type": "execute_result"
    }
   ],
   "source": [
    "s = {\"K\",\"A\",\"L\",\"A\",\"B\",\"A\",\"L\",\"I\",\"K\"}\n",
    "s"
   ]
  },
  {
   "cell_type": "markdown",
   "id": "7216720d",
   "metadata": {},
   "source": [
    "#### frozenset"
   ]
  },
  {
   "cell_type": "code",
   "execution_count": 20,
   "id": "e1d60138",
   "metadata": {},
   "outputs": [
    {
     "data": {
      "text/plain": [
       "{frozenset({'domates', 'marul'}), frozenset({'elma'})}"
      ]
     },
     "execution_count": 20,
     "metadata": {},
     "output_type": "execute_result"
    }
   ],
   "source": [
    "# unhashable type: 'set' ile immutable göndermemiz gerekitğini anlarız.\n",
    "sebze = frozenset({\"domates\",\"marul\"})\n",
    "meyve = frozenset({\"elma\"})\n",
    "\n",
    "#\n",
    "bitkiler = {sebze, meyve}\n",
    "\n",
    "bitkiler"
   ]
  },
  {
   "cell_type": "markdown",
   "id": "6e9cc272",
   "metadata": {},
   "source": [
    "### Mapping Type\n",
    "#### dict\n",
    "* `{key:value , key:value}` şeklinde tanımlanır.\n",
    "* {} boş set anlamına gelir. `dict({})` ile boş dict tanımlanır.\n",
    "* keyler immutable olmak zorunda\n",
    "* dict mutabledır."
   ]
  },
  {
   "cell_type": "code",
   "execution_count": 24,
   "id": "786b8cdd",
   "metadata": {},
   "outputs": [
    {
     "data": {
      "text/plain": [
       "{'ad': 'Abdullah',\n",
       " 'kardeşler': ('ali', 'veli'),\n",
       " 'telefonlar': {'ev': '3213-3213', 'iş': ['1321-5', '2131-4']},\n",
       " 'aktfiMi': True,\n",
       " 'ehliyetler': ['A', 'B'],\n",
       " (2025, 'maaş'): 54554.46}"
      ]
     },
     "execution_count": 24,
     "metadata": {},
     "output_type": "execute_result"
    }
   ],
   "source": [
    "personel = {\"ad\":\"Abdullah\",\n",
    "            \"kardeşler\":(\"ali\",\"veli\"),\n",
    "            \"telefonlar\":{\"ev\":\"3213-3213\" , \"iş\":[\"1321-5\",\"2131-4\"]},\n",
    "            \"aktfiMi\":True,\n",
    "            \"ehliyetler\":[\"A\",\"B\"],\n",
    "            #[2025,\"maaş\"]: 54554.46 #keyler immutable olmalıdır. list mutable tiptir.\n",
    "            (2025,\"maaş\"): 54554.46\n",
    "            }\n",
    "\n",
    "#\n",
    "personel"
   ]
  },
  {
   "cell_type": "markdown",
   "id": "a6b40c1b",
   "metadata": {},
   "source": [
    "#### Dict elemanlarına erişmek\n",
    "* `nesne[key]` ile erişiriz.\n",
    "  * key yoksa hata verir.\n",
    "* `nesne.get(key)` key yoksa hata vermez. varsayılan değer None dır. farklı bir değer gösterilebilir.\n"
   ]
  },
  {
   "cell_type": "code",
   "execution_count": 40,
   "id": "05a433fe",
   "metadata": {},
   "outputs": [
    {
     "data": {
      "text/plain": [
       "'2131-4'"
      ]
     },
     "execution_count": 40,
     "metadata": {},
     "output_type": "execute_result"
    }
   ],
   "source": [
    "personel[\"ad\"]\n",
    "\n",
    "#\n",
    "personel[\"telefonlar\"] #{'ev': '3213-3213', 'iş': ['1321-5', '2131-4']}\n",
    "personel[\"telefonlar\"][\"iş\"] #['1321-5', '2131-4']\n",
    "\n",
    "#\n",
    "#type(personel[\"telefonlar\"][\"iş\"] ) #list\n",
    "personel[\"telefonlar\"][\"iş\"][-1] #son numarası"
   ]
  },
  {
   "cell_type": "code",
   "execution_count": 43,
   "id": "d827e36e",
   "metadata": {},
   "outputs": [
    {
     "data": {
      "text/plain": [
       "'böyle bir key yok!'"
      ]
     },
     "execution_count": 43,
     "metadata": {},
     "output_type": "execute_result"
    }
   ],
   "source": [
    "#personel[\"olmayanKey\"] #KeyError hatası verir.\n",
    "personel.get(\"olmayanKey\",\"böyle bir key yok!\")"
   ]
  },
  {
   "cell_type": "markdown",
   "id": "283ab0d2",
   "metadata": {},
   "source": [
    "### Mutable vs Immtable\n",
    "* elemanları güncellenebilir mi?\n",
    "* atama işlemlerinde orjinalini etkileyebilir?\n",
    "* setlerin elemanı, dictleri keyi olabilir mi?\n",
    "\n"
   ]
  },
  {
   "cell_type": "code",
   "execution_count": null,
   "id": "83856632",
   "metadata": {},
   "outputs": [
    {
     "data": {
      "text/plain": [
       "[10, 2, 3]"
      ]
     },
     "execution_count": 48,
     "metadata": {},
     "output_type": "execute_result"
    }
   ],
   "source": [
    "#elemanların güncelleneiblir mi?\n",
    "t = 1,2,3\n",
    "t[0] \n",
    "\n",
    "#\n",
    "#t[0] = 10 #'tuple' object does not support item assignment #immutabledır.\n",
    "\n",
    "l = [1,2,3]\n",
    "l[0]\n",
    "\n",
    "l[0] = 10 #mutabledır.\n",
    "\n",
    "l"
   ]
  },
  {
   "cell_type": "code",
   "execution_count": null,
   "id": "270df277",
   "metadata": {},
   "outputs": [
    {
     "name": "stdout",
     "output_type": "stream",
     "text": [
      "1 1\n",
      "1 2\n"
     ]
    }
   ],
   "source": [
    "#orjinalini etkiler mi?\n",
    "a = 1\n",
    "b = a #atama işlemi yaptık.\n",
    "\n",
    "#\n",
    "print(a,b)\n",
    "\n",
    "#b değerini değiştirelim\n",
    "b = 2\n",
    "print(a,b)"
   ]
  },
  {
   "cell_type": "code",
   "execution_count": null,
   "id": "06119de5",
   "metadata": {},
   "outputs": [
    {
     "name": "stdout",
     "output_type": "stream",
     "text": [
      "['A', 'B'] ['A', 'B']\n",
      "['A', 'B'] ['X', 'B']\n"
     ]
    }
   ],
   "source": [
    "la = [\"A\",\"B\"]\n",
    "#lb = la #mutable tiplerde referansı kopyaladığı için memoryde aynı yeri gösterir.\n",
    "lb = la.copy() #referansı değil değerini kopyalar. mutable olanları bu şekilde atamaya dikkat edelim.\n",
    "\n",
    "print(la, lb)\n",
    "\n",
    "#\n",
    "lb[0]=\"X\"\n",
    "\n",
    "print(la,lb)"
   ]
  }
 ],
 "metadata": {
  "kernelspec": {
   "display_name": "Python 3",
   "language": "python",
   "name": "python3"
  },
  "language_info": {
   "codemirror_mode": {
    "name": "ipython",
    "version": 3
   },
   "file_extension": ".py",
   "mimetype": "text/x-python",
   "name": "python",
   "nbconvert_exporter": "python",
   "pygments_lexer": "ipython3",
   "version": "3.11.3"
  }
 },
 "nbformat": 4,
 "nbformat_minor": 5
}
