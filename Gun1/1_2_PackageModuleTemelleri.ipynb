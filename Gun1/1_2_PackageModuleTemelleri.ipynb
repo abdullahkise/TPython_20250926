{
 "cells": [
  {
   "cell_type": "markdown",
   "id": "0f95c8f6",
   "metadata": {},
   "source": [
    "# Package ve Module Kavramları Temelleri\n",
    "* **Package = Folder** ve **Module = .py**\n",
    "* Python başlangıçta builtins modulunu yükler ve buradaki nesleri direkt destekler. Gömülü nesneler.\n",
    "* Python yüklendiğinde bazı standart kütphaneler gelir. math, datetime, json, csv, re, random vs.\n",
    "* Farklı kütüphanaler için [pypi](https://pypi.org/) repositoryden pip aracı ile paketleri indirebiliriz.\n",
    "* Paketleri yüklemek ve silmek için\n",
    "```bash\n",
    "pip install paketAdi\n",
    "pip uninstall paketAdi\n",
    "```\n",
    "* yüklü paketleri görmek için\n",
    "```bash\n",
    "pip list\n",
    "pip show paketAdi\n",
    "```\n",
    "* Çalışma ortamına paket veya module çağırmak için\n",
    "```python\n",
    "import paketAd\n",
    "import paketAdi1, paket2\n",
    "import paketAdi as takmaAd\n",
    "\n",
    "from paketAdi import module\n",
    "```"
   ]
  },
  {
   "cell_type": "markdown",
   "id": "989449b0",
   "metadata": {},
   "source": [
    "## Gömülü Nesnler\n",
    "hiç bir paket yüklemeden kullanabileceğimiz nesneler"
   ]
  },
  {
   "cell_type": "code",
   "execution_count": 4,
   "id": "61251176",
   "metadata": {},
   "outputs": [
    {
     "data": {
      "text/plain": [
       "['ArithmeticError',\n",
       " 'AssertionError',\n",
       " 'AttributeError',\n",
       " 'BaseException',\n",
       " 'BaseExceptionGroup',\n",
       " 'BlockingIOError',\n",
       " 'BrokenPipeError',\n",
       " 'BufferError',\n",
       " 'BytesWarning',\n",
       " 'ChildProcessError',\n",
       " 'ConnectionAbortedError',\n",
       " 'ConnectionError',\n",
       " 'ConnectionRefusedError',\n",
       " 'ConnectionResetError',\n",
       " 'DeprecationWarning',\n",
       " 'EOFError',\n",
       " 'Ellipsis',\n",
       " 'EncodingWarning',\n",
       " 'EnvironmentError',\n",
       " 'Exception',\n",
       " 'ExceptionGroup',\n",
       " 'False',\n",
       " 'FileExistsError',\n",
       " 'FileNotFoundError',\n",
       " 'FloatingPointError',\n",
       " 'FutureWarning',\n",
       " 'GeneratorExit',\n",
       " 'IOError',\n",
       " 'ImportError',\n",
       " 'ImportWarning',\n",
       " 'IndentationError',\n",
       " 'IndexError',\n",
       " 'InterruptedError',\n",
       " 'IsADirectoryError',\n",
       " 'KeyError',\n",
       " 'KeyboardInterrupt',\n",
       " 'LookupError',\n",
       " 'MemoryError',\n",
       " 'ModuleNotFoundError',\n",
       " 'NameError',\n",
       " 'None',\n",
       " 'NotADirectoryError',\n",
       " 'NotImplemented',\n",
       " 'NotImplementedError',\n",
       " 'OSError',\n",
       " 'OverflowError',\n",
       " 'PendingDeprecationWarning',\n",
       " 'PermissionError',\n",
       " 'ProcessLookupError',\n",
       " 'RecursionError',\n",
       " 'ReferenceError',\n",
       " 'ResourceWarning',\n",
       " 'RuntimeError',\n",
       " 'RuntimeWarning',\n",
       " 'StopAsyncIteration',\n",
       " 'StopIteration',\n",
       " 'SyntaxError',\n",
       " 'SyntaxWarning',\n",
       " 'SystemError',\n",
       " 'SystemExit',\n",
       " 'TabError',\n",
       " 'TimeoutError',\n",
       " 'True',\n",
       " 'TypeError',\n",
       " 'UnboundLocalError',\n",
       " 'UnicodeDecodeError',\n",
       " 'UnicodeEncodeError',\n",
       " 'UnicodeError',\n",
       " 'UnicodeTranslateError',\n",
       " 'UnicodeWarning',\n",
       " 'UserWarning',\n",
       " 'ValueError',\n",
       " 'Warning',\n",
       " 'WindowsError',\n",
       " 'ZeroDivisionError',\n",
       " '__IPYTHON__',\n",
       " '__build_class__',\n",
       " '__debug__',\n",
       " '__doc__',\n",
       " '__import__',\n",
       " '__loader__',\n",
       " '__name__',\n",
       " '__package__',\n",
       " '__spec__',\n",
       " 'abs',\n",
       " 'aiter',\n",
       " 'all',\n",
       " 'anext',\n",
       " 'any',\n",
       " 'ascii',\n",
       " 'bin',\n",
       " 'bool',\n",
       " 'breakpoint',\n",
       " 'bytearray',\n",
       " 'bytes',\n",
       " 'callable',\n",
       " 'chr',\n",
       " 'classmethod',\n",
       " 'compile',\n",
       " 'complex',\n",
       " 'copyright',\n",
       " 'credits',\n",
       " 'delattr',\n",
       " 'dict',\n",
       " 'dir',\n",
       " 'display',\n",
       " 'divmod',\n",
       " 'enumerate',\n",
       " 'eval',\n",
       " 'exec',\n",
       " 'execfile',\n",
       " 'filter',\n",
       " 'float',\n",
       " 'format',\n",
       " 'frozenset',\n",
       " 'get_ipython',\n",
       " 'getattr',\n",
       " 'globals',\n",
       " 'hasattr',\n",
       " 'hash',\n",
       " 'help',\n",
       " 'hex',\n",
       " 'id',\n",
       " 'input',\n",
       " 'int',\n",
       " 'isinstance',\n",
       " 'issubclass',\n",
       " 'iter',\n",
       " 'len',\n",
       " 'license',\n",
       " 'list',\n",
       " 'locals',\n",
       " 'map',\n",
       " 'max',\n",
       " 'memoryview',\n",
       " 'min',\n",
       " 'next',\n",
       " 'object',\n",
       " 'oct',\n",
       " 'open',\n",
       " 'ord',\n",
       " 'pow',\n",
       " 'print',\n",
       " 'property',\n",
       " 'range',\n",
       " 'repr',\n",
       " 'reversed',\n",
       " 'round',\n",
       " 'runfile',\n",
       " 'set',\n",
       " 'setattr',\n",
       " 'slice',\n",
       " 'sorted',\n",
       " 'staticmethod',\n",
       " 'str',\n",
       " 'sum',\n",
       " 'super',\n",
       " 'tuple',\n",
       " 'type',\n",
       " 'vars',\n",
       " 'zip']"
      ]
     },
     "execution_count": 4,
     "metadata": {},
     "output_type": "execute_result"
    }
   ],
   "source": [
    "# gömülü nesneleri __builtins__ içerisinden listeleyebiliriz.\n",
    "dir(__builtins__) #bu nesne ile kullanılabilecekler.\n",
    "\n",
    "#print, help, dir, pow, int, float, input, open vs. gömülü nesnelerdir."
   ]
  },
  {
   "cell_type": "code",
   "execution_count": 5,
   "id": "76b0a08b",
   "metadata": {},
   "outputs": [
    {
     "name": "stdout",
     "output_type": "stream",
     "text": [
      "Help on built-in function pow in module builtins:\n",
      "\n",
      "pow(base, exp, mod=None)\n",
      "    Equivalent to base**exp with 2 arguments or base**exp % mod with 3 arguments\n",
      "    \n",
      "    Some types, such as ints, are able to use a more efficient algorithm when\n",
      "    invoked using the three argument form.\n",
      "\n"
     ]
    }
   ],
   "source": [
    "help(pow)"
   ]
  },
  {
   "cell_type": "code",
   "execution_count": 6,
   "id": "34b90e57",
   "metadata": {},
   "outputs": [
    {
     "data": {
      "text/plain": [
       "9"
      ]
     },
     "execution_count": 6,
     "metadata": {},
     "output_type": "execute_result"
    }
   ],
   "source": [
    "pow(3,2) #3'ün karesini"
   ]
  },
  {
   "cell_type": "markdown",
   "id": "06b61269",
   "metadata": {},
   "source": [
    "## Standart Kütüphaneler\n",
    "* Python kurulumuyla gelen kütüphaneler."
   ]
  },
  {
   "cell_type": "code",
   "execution_count": null,
   "id": "ab66bdf9",
   "metadata": {},
   "outputs": [
    {
     "data": {
      "text/plain": [
       "9.0"
      ]
     },
     "execution_count": 11,
     "metadata": {},
     "output_type": "execute_result"
    }
   ],
   "source": [
    "import math\n",
    "\n",
    "#\n",
    "dir(math)\n",
    "\n",
    "#help(math.pow)\n",
    "\n",
    "#pow #gömülü nesne\n",
    "math.pow(3,2) #kütüphane üzerinden"
   ]
  },
  {
   "cell_type": "code",
   "execution_count": 19,
   "id": "7733dc4d",
   "metadata": {},
   "outputs": [],
   "source": [
    "import os #işletim sistemi ilişkil işleri\n",
    "\n",
    "#\n",
    "os.makedirs(\"GordugundaSil\",exist_ok=True)\n",
    "#help(os.makedirs)\n",
    "\n",
    "#terminal komutlarının başına ! koyarız.\n",
    "!mkdir GordugundeSil2"
   ]
  },
  {
   "cell_type": "markdown",
   "id": "85e1a29f",
   "metadata": {},
   "source": [
    "## Paket indirmek ve Çalışma Ortamına Almak"
   ]
  },
  {
   "cell_type": "code",
   "execution_count": 20,
   "id": "4604a2aa",
   "metadata": {},
   "outputs": [
    {
     "name": "stdout",
     "output_type": "stream",
     "text": [
      "Collecting emoji\n",
      "  Using cached emoji-2.15.0-py3-none-any.whl.metadata (5.7 kB)\n",
      "Using cached emoji-2.15.0-py3-none-any.whl (608 kB)\n",
      "Installing collected packages: emoji\n",
      "Successfully installed emoji-2.15.0\n"
     ]
    }
   ],
   "source": [
    "#! ile paket yüklemeyelim. Çok fazla log gelir. tavsiye edilmez.\n",
    "!pip install emoji"
   ]
  },
  {
   "cell_type": "code",
   "execution_count": 27,
   "id": "7e32716a",
   "metadata": {},
   "outputs": [
    {
     "name": "stdout",
     "output_type": "stream",
     "text": [
      "Python is fun ❤️\n"
     ]
    }
   ],
   "source": [
    "import emoji as em #takmaad geçerli.\n",
    "\n",
    "#\n",
    "#help(emoji) #hata\n",
    "#help(em)\n",
    "dir(em)\n",
    "\n",
    "#\n",
    "#help(em.emojize)\n",
    "\n",
    "#\n",
    "print(em.emojize(\"Python is fun :red_heart:\", variant=\"emoji_type\"))"
   ]
  }
 ],
 "metadata": {
  "kernelspec": {
   "display_name": "Python 3",
   "language": "python",
   "name": "python3"
  },
  "language_info": {
   "codemirror_mode": {
    "name": "ipython",
    "version": 3
   },
   "file_extension": ".py",
   "mimetype": "text/x-python",
   "name": "python",
   "nbconvert_exporter": "python",
   "pygments_lexer": "ipython3",
   "version": "3.11.3"
  }
 },
 "nbformat": 4,
 "nbformat_minor": 5
}
