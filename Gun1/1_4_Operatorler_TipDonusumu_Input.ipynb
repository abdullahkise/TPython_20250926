{
 "cells": [
  {
   "cell_type": "markdown",
   "id": "8945df68",
   "metadata": {},
   "source": [
    "# Operatörler\n",
    "![alt text](Operatorler.png)"
   ]
  },
  {
   "cell_type": "markdown",
   "id": "51e58003",
   "metadata": {
    "vscode": {
     "languageId": "plaintext"
    }
   },
   "source": [
    "## Aritmatik"
   ]
  },
  {
   "cell_type": "code",
   "execution_count": null,
   "id": "c1db727d",
   "metadata": {},
   "outputs": [
    {
     "data": {
      "text/plain": [
       "15.0"
      ]
     },
     "execution_count": 1,
     "metadata": {},
     "output_type": "execute_result"
    }
   ],
   "source": [
    "8/2*(2+2)-1\n",
    "# önce parantez için\n",
    "# çarpma bölme arasında işlem önceliği yok. soldan sağa hesaplar\n",
    "# toplama ve çıkarma işlemi yapılır."
   ]
  },
  {
   "cell_type": "code",
   "execution_count": null,
   "id": "bd670b83",
   "metadata": {},
   "outputs": [
    {
     "name": "stdout",
     "output_type": "stream",
     "text": [
      "Hakedişiniz : 31500.0\n"
     ]
    }
   ],
   "source": [
    "#soru:\n",
    "\"\"\"\n",
    "   minimum 40 saat çalışılığını düşünelim.\n",
    "   çalışma saati girilsin.\n",
    "   40 saat üzeri mesai kabul edilsin. Normal saatlik ücretin 1.5 katı ile değerlendirilsin.\n",
    "   saatlik ücreti değişkenden alalım.\n",
    "   hakedişi hesaplayalım \n",
    "\"\"\"\n",
    "kacSaatCalisildi = 60\n",
    "saatlikUcret = 450\n",
    "\n",
    "#\n",
    "hakedis = 40*saatlikUcret + (kacSaatCalisildi - 40) * (saatlikUcret * 1.5)\n",
    "\n",
    "print(\"Hakedişiniz :\", hakedis)"
   ]
  },
  {
   "cell_type": "markdown",
   "id": "feb34d92",
   "metadata": {},
   "source": [
    "* $h^2 = x^2 + y^2$\n",
    "* $h = \\sqrt{x^2 + y^2}$"
   ]
  },
  {
   "cell_type": "code",
   "execution_count": null,
   "id": "9b4ba151",
   "metadata": {},
   "outputs": [
    {
     "name": "stdout",
     "output_type": "stream",
     "text": [
      "hipotenüs :  17.0\n"
     ]
    }
   ],
   "source": [
    "#soru:\n",
    "#iki kenarı dik kenarı berilen üçgenin hipotenüsünü hesaplayalım\n",
    "#h^2 = x^2 + y^2\n",
    "#h=?\n",
    "x = 8\n",
    "y = 15\n",
    "\n",
    "#pow(x,2)\n",
    "#math.pow(x,2)\n",
    "#math.sqrt\n",
    "h = (x**2 + y**2)**0.5\n",
    "\n",
    "#0.5 kuvvet kök almak anlamına gelir.\n",
    "\n",
    "#import math\n",
    "#math.sqrt(4)\n",
    "\n",
    "print(\"hipotenüs : \",h)"
   ]
  },
  {
   "cell_type": "code",
   "execution_count": null,
   "id": "69c7d1a5",
   "metadata": {},
   "outputs": [
    {
     "name": "stdout",
     "output_type": "stream",
     "text": [
      "56 aylık olan çocuğunuz doğalı 4 yil ve 8 ay oldu.\n"
     ]
    }
   ],
   "source": [
    "#soru:\n",
    "#ay olarak yaşı girilen bir çocuğun yıl ve ay olarak yaşını hesaplayalım\n",
    "#56 aylık bir çocuk doğalı 4 yıl 8 ay oldu.\n",
    "kacAylik = 56\n",
    "yil = kacAylik // 12 #// kalansız böler.\n",
    "ay  = kacAylik %12   #% ile modunu aldık. 12'ye bölümünden kalan.\n",
    "\n",
    "print(kacAylik, \"aylık olan çocuğunuz doğalı\",yil,\"yil\",\"ve\",ay,\"ay oldu.\")"
   ]
  },
  {
   "cell_type": "markdown",
   "id": "41d7b035",
   "metadata": {},
   "source": [
    "### Atama"
   ]
  },
  {
   "cell_type": "code",
   "execution_count": null,
   "id": "ab14363f",
   "metadata": {},
   "outputs": [
    {
     "data": {
      "text/plain": [
       "16"
      ]
     },
     "execution_count": 5,
     "metadata": {},
     "output_type": "execute_result"
    }
   ],
   "source": [
    "x = 5\n",
    "\n",
    "#kümlatif atama\n",
    "#x = x+3\n",
    "x +=3\n",
    "\n",
    "#\n",
    "#x = x*2\n",
    "x *=2\n",
    "\n",
    "x"
   ]
  },
  {
   "cell_type": "code",
   "execution_count": null,
   "id": "b2461fd2",
   "metadata": {},
   "outputs": [
    {
     "name": "stdout",
     "output_type": "stream",
     "text": [
      "2 1\n"
     ]
    }
   ],
   "source": [
    "x = 1\n",
    "y = 2\n",
    "\n",
    "#önce eşitliğin sağı hesaplanır. sonra sola atanır.\n",
    "x,y = y,x #değerleri yer değiştirdik\n",
    "\n",
    "print(x,y)"
   ]
  },
  {
   "cell_type": "markdown",
   "id": "3658be6c",
   "metadata": {},
   "source": [
    "### Karşılaştırma"
   ]
  },
  {
   "cell_type": "code",
   "execution_count": null,
   "id": "45603faf",
   "metadata": {},
   "outputs": [
    {
     "data": {
      "text/plain": [
       "True"
      ]
     },
     "execution_count": 7,
     "metadata": {},
     "output_type": "execute_result"
    }
   ],
   "source": [
    "x = 6\n",
    "\n",
    "x%2 == 0 #çift mi?"
   ]
  },
  {
   "cell_type": "code",
   "execution_count": null,
   "id": "2ee37b89",
   "metadata": {},
   "outputs": [
    {
     "data": {
      "text/plain": [
       "True"
      ]
     },
     "execution_count": 8,
     "metadata": {},
     "output_type": "execute_result"
    }
   ],
   "source": [
    "m = \"metin\"\n",
    "\n",
    "type(m) == str #str tipinden mi?"
   ]
  },
  {
   "cell_type": "markdown",
   "id": "0afa31fc",
   "metadata": {},
   "source": [
    "### Mantıksal\n",
    "* `and`: her iki taraf da True olursa sonuç True olur.\n",
    "* `or` :  herhangi bir taraf True olursa sonuç True\n",
    "* `not(şart)`: şartın mantıksal sonucunun tersini verir."
   ]
  },
  {
   "cell_type": "code",
   "execution_count": null,
   "id": "1965e827",
   "metadata": {},
   "outputs": [
    {
     "data": {
      "text/plain": [
       "True"
      ]
     },
     "execution_count": 9,
     "metadata": {},
     "output_type": "execute_result"
    }
   ],
   "source": [
    "kadi = \"admin\"\n",
    "ksifre = \"123\"\n",
    "\n",
    "#\n",
    "kadi == \"admin\" and ksifre==\"123\"\n",
    "\n",
    "#not kullanarak yazalım\n",
    "not(kadi != \"admin\" or ksifre!=\"123\")\n",
    "#tersinin tersi kendisidir."
   ]
  },
  {
   "cell_type": "markdown",
   "id": "5b2ca8ce",
   "metadata": {},
   "source": [
    "### identity\n",
    "* `is`: memoryde aynı yeri mi gösteriyor?\n",
    "* `is not`: tersi"
   ]
  },
  {
   "cell_type": "code",
   "execution_count": null,
   "id": "d27373e5",
   "metadata": {},
   "outputs": [
    {
     "name": "stdout",
     "output_type": "stream",
     "text": [
      "True\n",
      "False\n"
     ]
    }
   ],
   "source": [
    "a = 1\n",
    "\n",
    "#\n",
    "b=a\n",
    "print(a is b)\n",
    "\n",
    "#\n",
    "b = 2\n",
    "\n",
    "#\n",
    "print(a is b)"
   ]
  },
  {
   "cell_type": "markdown",
   "id": "ddc5c387",
   "metadata": {},
   "source": [
    "### Üyelik\n",
    "* `in` container elemanı mı?\n",
    "* `not in` elamanı değil mi?\n",
    "  "
   ]
  },
  {
   "cell_type": "code",
   "execution_count": null,
   "id": "8fe17000",
   "metadata": {},
   "outputs": [
    {
     "data": {
      "text/plain": [
       "False"
      ]
     },
     "execution_count": 11,
     "metadata": {},
     "output_type": "execute_result"
    }
   ],
   "source": [
    "\"m\" in \"merhaba\" #str containerdır.m harfi merhaba içinde var mı? True\n",
    "\n",
    "#\n",
    "10 in [1,2,3,4] #False"
   ]
  },
  {
   "cell_type": "code",
   "execution_count": null,
   "id": "788b8d60",
   "metadata": {},
   "outputs": [
    {
     "data": {
      "text/plain": [
       "False"
      ]
     },
     "execution_count": 12,
     "metadata": {},
     "output_type": "execute_result"
    }
   ],
   "source": [
    "#soru:\n",
    "# gömülü nesneler arasında sqrt var mı?\n",
    "#__builtins__ içinde sqrt fonksiyonu var mı?\n",
    "gNesne = dir(__builtins__)\n",
    "type(gNesne) #list\n",
    "\n",
    "#\n",
    "\"pow\" in gNesne #True\n",
    "\"sqrt\" in gNesne #False. math.sqrt üzerinde çalışmıştık."
   ]
  },
  {
   "cell_type": "markdown",
   "id": "85eb6ea0",
   "metadata": {},
   "source": [
    "## Tip Dönüşümü\n",
    "![alt text](TipDonusu.png)"
   ]
  },
  {
   "cell_type": "code",
   "execution_count": null,
   "id": "bea6d69b",
   "metadata": {},
   "outputs": [
    {
     "data": {
      "text/plain": [
       "2.23"
      ]
     },
     "execution_count": 13,
     "metadata": {},
     "output_type": "execute_result"
    }
   ],
   "source": [
    "#implicit\n",
    "1 + 1.23 #2.23 yan int + float = float"
   ]
  },
  {
   "cell_type": "code",
   "execution_count": null,
   "id": "b0d243e3",
   "metadata": {},
   "outputs": [
    {
     "data": {
      "text/plain": [
       "'1 kişi'"
      ]
     },
     "execution_count": 14,
     "metadata": {},
     "output_type": "execute_result"
    }
   ],
   "source": [
    "#explicit\n",
    "#1 + \"kişi\" # int + str hata verir. #HATA\n",
    "#+ operator str ve int için çalışıyor.\n",
    "\n",
    "#\n",
    "str(1) + \" kişi\" #1 str ile dönüştürdük. int str oldu"
   ]
  },
  {
   "cell_type": "code",
   "execution_count": null,
   "id": "85dbd940",
   "metadata": {},
   "outputs": [
    {
     "data": {
      "text/plain": [
       "20"
      ]
     },
     "execution_count": 15,
     "metadata": {},
     "output_type": "execute_result"
    }
   ],
   "source": [
    "int(\"7\") + 13 #\"7\" metnin int tipine çevirebiliriz."
   ]
  },
  {
   "cell_type": "code",
   "execution_count": null,
   "id": "68e5f5e3",
   "metadata": {},
   "outputs": [
    {
     "data": {
      "text/plain": [
       "{1, 2, 3, 'metin'}"
      ]
     },
     "execution_count": 16,
     "metadata": {},
     "output_type": "execute_result"
    }
   ],
   "source": [
    "##containerlardaki durum: bir conterner elemanı diğer conterner elemanı haline gelir.\n",
    "l = [1,2,3,1,True,\"metin\",\"metin\"]\n",
    "\n",
    "set(l) #set kendi özellijlerine göre elemanları tuttu."
   ]
  },
  {
   "cell_type": "code",
   "execution_count": null,
   "id": "715b3545",
   "metadata": {},
   "outputs": [
    {
     "data": {
      "text/plain": [
       "{'A', 'B', 'I', 'K', 'L'}"
      ]
     },
     "execution_count": 17,
     "metadata": {},
     "output_type": "execute_result"
    }
   ],
   "source": [
    "m = \"KALABALIK\" #str container\n",
    "\n",
    "list(m) #['K', 'A', 'L', 'A', 'B', 'A', 'L', 'I', 'K']\n",
    "set(m)  #{'A', 'B', 'I', 'K', 'L'}"
   ]
  },
  {
   "cell_type": "code",
   "execution_count": null,
   "id": "1c04fae4",
   "metadata": {},
   "outputs": [
    {
     "data": {
      "text/plain": [
       "{'ad': 'ali', 'yas': 33, 'tel': '13-321'}"
      ]
     },
     "execution_count": 18,
     "metadata": {},
     "output_type": "execute_result"
    }
   ],
   "source": [
    "#dict özel durum:\n",
    "#dict ikili geldiğinde ilkini key, ikincisini value olarak kullanır\n",
    "\n",
    "l = [ (\"ad\",\"ali\") , (\"yas\",33), [\"tel\" , \"13-321\"] ]\n",
    "\n",
    "#\n",
    "dict(l)"
   ]
  },
  {
   "cell_type": "markdown",
   "id": "611070f8",
   "metadata": {},
   "source": [
    "### Dışarıdan input değer alıyoruz.\n",
    "* input ile gelen değer metinsel tiptir."
   ]
  },
  {
   "cell_type": "code",
   "execution_count": 19,
   "id": "5b538de3",
   "metadata": {},
   "outputs": [
    {
     "name": "stdout",
     "output_type": "stream",
     "text": [
      "<class 'str'>\n",
      "1020\n",
      "30.0\n"
     ]
    }
   ],
   "source": [
    "s1 = input(\"1. sayıyı giriniz:\")\n",
    "s2 = input(\"2. sayıyı giriniz:\")\n",
    "\n",
    "#\n",
    "print(type(s1)) #<class 'str'>\n",
    "\n",
    "#\n",
    "print(s1+s2)\n",
    "\n",
    "#tip dönüşümü\n",
    "s1 = float(s1)\n",
    "s2 = float(s2)\n",
    "\n",
    "print(s1+s2)"
   ]
  },
  {
   "cell_type": "markdown",
   "id": "28d85c6e",
   "metadata": {},
   "source": [
    "### Değişkeni Memorden Kaldırmak"
   ]
  },
  {
   "cell_type": "code",
   "execution_count": 20,
   "id": "50e2892f",
   "metadata": {},
   "outputs": [
    {
     "ename": "NameError",
     "evalue": "name 'l' is not defined",
     "output_type": "error",
     "traceback": [
      "\u001b[1;31m---------------------------------------------------------------------------\u001b[0m",
      "\u001b[1;31mNameError\u001b[0m                                 Traceback (most recent call last)",
      "Cell \u001b[1;32mIn[20], line 7\u001b[0m\n\u001b[0;32m      4\u001b[0m \u001b[38;5;28;01mdel\u001b[39;00m l \u001b[38;5;66;03m#memoryden kaldırır.\u001b[39;00m\n\u001b[0;32m      6\u001b[0m \u001b[38;5;66;03m#\u001b[39;00m\n\u001b[1;32m----> 7\u001b[0m \u001b[43ml\u001b[49m \u001b[38;5;66;03m#HATA artık erişilemez.\u001b[39;00m\n",
      "\u001b[1;31mNameError\u001b[0m: name 'l' is not defined"
     ]
    }
   ],
   "source": [
    "l #[('ad', 'ali'), ('yas', 33), ['tel', '13-321']]\n",
    "\n",
    "\n",
    "del l #memoryden kaldırır.\n",
    "\n",
    "#\n",
    "l #HATA artık erişilemez."
   ]
  }
 ],
 "metadata": {
  "kernelspec": {
   "display_name": "Python 3 (ipykernel)",
   "language": "python",
   "name": "python3"
  },
  "language_info": {
   "codemirror_mode": {
    "name": "ipython",
    "version": 3
   },
   "file_extension": ".py",
   "mimetype": "text/x-python",
   "name": "python",
   "nbconvert_exporter": "python",
   "pygments_lexer": "ipython3",
   "version": "3.11.3"
  }
 },
 "nbformat": 4,
 "nbformat_minor": 5
}
