{
 "cells": [
  {
   "cell_type": "markdown",
   "id": "db608dba-5c0c-404e-a2b5-c6bc08216655",
   "metadata": {},
   "source": [
    "# Python ile Veri Analizi Eğitimi\n",
    "![pythonLog](https://www.python.org/static/img/python-logo.png)\n",
    "## Python Ortamının Hazırlanması\n",
    "\n",
    "**Python** ortamını hazırlamak için:\n",
    "1. Öncelikle [python.org](https://www.python.org/) sitesinden engine indirilir.\n",
    "2. Sonrasında temrinalden veya bir IDE ile çalışabiliriz.\n",
    "    * `Jupyter Notebook`, `Jupyter Lab`\n",
    "    * `VSCode`, `PyCharm`, `Spyder`\n",
    "3. Dilerseniz **Anaconda** kurarak. `Anaconda Navigator` üzerinden derli toplu çalışabiliriz.\n",
    "4. ~Python2~ yerine *Python3* Kullanalım.\n",
    "\n",
    "**Not:** \n",
    "* Yukarıdaki yatık tırnakları <kbd>AltGr</kbd> + <kbd>;</kbd> ile tilda(~) ise <kbd>AltGr</kbd> + <kbd>Ü</kbd> ile\n",
    "* Markdown dili html kodlarını da destekler. <font color='red'>Bu metin html ile yazıldı</font>\n",
    "\n",
    "## Çalışma Modları\n",
    "1. Interactive Mode\n",
    "2. Script Mode\n",
    "3. Setup dosyası oluşturulabilir.\n",
    "\n",
    "## Kullanacağımız Bazı Komutlara Örnekler:\n",
    "* Terminalde\n",
    "```bash\n",
    "> python\n",
    "> py\n",
    "> py --list\n",
    "> python --version\n",
    "> py -3.11\n",
    "    >>> print(\"merhaba\")\n",
    "    >>> exit()\n",
    "```\n",
    "\n",
    "* Python Kodları\n",
    "```python\n",
    "print(\"merhaba\",\"dünyalı\",sep='-')\n",
    "```\n",
    "* SQL komutları\n",
    "```sql\n",
    "SELECT\n",
    "    kolon1,\n",
    "    kolon2\n",
    "FROM tablo\n",
    "```\n",
    "\n",
    "## Matematiksel Formuller\n",
    "* $x^2$\n",
    "* $x_i$\n",
    "* $\\infty$\n",
    "* $\\frac{1-a}{3-b}$\n",
    "* $\\int_{i=1}^n x^{n-a}$\n",
    "\n",
    "## Tablo Yapmak Mümkün\n",
    "|Ad|soyad|\n",
    "|----|----|\n",
    "|ali|uçan|\n",
    "|veli|kaçan|"
   ]
  }
 ],
 "metadata": {
  "kernelspec": {
   "display_name": "Python 3 (ipykernel)",
   "language": "python",
   "name": "python3"
  },
  "language_info": {
   "codemirror_mode": {
    "name": "ipython",
    "version": 3
   },
   "file_extension": ".py",
   "mimetype": "text/x-python",
   "name": "python",
   "nbconvert_exporter": "python",
   "pygments_lexer": "ipython3",
   "version": "3.11.3"
  }
 },
 "nbformat": 4,
 "nbformat_minor": 5
}
