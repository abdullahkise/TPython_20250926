{
 "cells": [
  {
   "cell_type": "markdown",
   "id": "8945df68",
   "metadata": {},
   "source": [
    "# Operatörler\n",
    "![alt text](Gun1/Operatorler.png)"
   ]
  },
  {
   "cell_type": "markdown",
   "id": "51e58003",
   "metadata": {
    "vscode": {
     "languageId": "plaintext"
    }
   },
   "source": [
    "## Aritmatik"
   ]
  },
  {
   "cell_type": "code",
   "execution_count": null,
   "id": "c1db727d",
   "metadata": {},
   "outputs": [
    {
     "data": {
      "text/plain": [
       "15.0"
      ]
     },
     "execution_count": 1,
     "metadata": {},
     "output_type": "execute_result"
    }
   ],
   "source": [
    "8/2*(2+2)-1\n",
    "# önce parantez için\n",
    "# çarpma bölme arasında işlem önceliği yok. soldan sağa hesaplar\n",
    "# toplama ve çıkarma işlemi yapılır."
   ]
  },
  {
   "cell_type": "code",
   "execution_count": 1,
   "id": "bd670b83",
   "metadata": {},
   "outputs": [
    {
     "name": "stdout",
     "output_type": "stream",
     "text": [
      "Hakedişiniz : 31500.0\n"
     ]
    }
   ],
   "source": [
    "#soru:\n",
    "\"\"\"\n",
    "   minimum 40 saat çalışılığını düşünelim.\n",
    "   çalışma saati girilsin.\n",
    "   40 saat üzeri mesai kabul edilsin. Normal saatlik ücretin 1.5 katı ile değerlendirilsin.\n",
    "   saatlik ücreti değişkenden alalım.\n",
    "   hakedişi hesaplayalım \n",
    "\"\"\"\n",
    "kacSaatCalisildi = 60\n",
    "saatlikUcret = 450\n",
    "\n",
    "#\n",
    "hakedis = 40*saatlikUcret + (kacSaatCalisildi - 40) * (saatlikUcret * 1.5)\n",
    "\n",
    "print(\"Hakedişiniz :\", hakedis)"
   ]
  },
  {
   "cell_type": "markdown",
   "id": "feb34d92",
   "metadata": {},
   "source": [
    "* $h^2 = x^2 + y^2$\n",
    "* $h = \\sqrt{x^2 + y^2}$"
   ]
  },
  {
   "cell_type": "code",
   "execution_count": null,
   "id": "9b4ba151",
   "metadata": {},
   "outputs": [
    {
     "name": "stdout",
     "output_type": "stream",
     "text": [
      "hipotenüs :  17.0\n"
     ]
    }
   ],
   "source": [
    "#soru:\n",
    "#iki kenarı dik kenarı berilen üçgenin hipotenüsünü hesaplayalım\n",
    "#h^2 = x^2 + y^2\n",
    "#h=?\n",
    "x = 8\n",
    "y = 15\n",
    "\n",
    "#pow(x,2)\n",
    "#math.pow(x,2)\n",
    "#math.sqrt\n",
    "h = (x**2 + y**2)**0.5\n",
    "\n",
    "#0.5 kuvvet kök almak anlamına gelir.\n",
    "\n",
    "#import math\n",
    "#math.sqrt(4)\n",
    "\n",
    "print(\"hipotenüs : \",h)"
   ]
  },
  {
   "cell_type": "code",
   "execution_count": 10,
   "id": "69c7d1a5",
   "metadata": {},
   "outputs": [
    {
     "name": "stdout",
     "output_type": "stream",
     "text": [
      "56 aylık olan çocuğunuz doğalı 4 yil ve 8 ay oldu.\n"
     ]
    }
   ],
   "source": [
    "#soru:\n",
    "#ay olarak yaşı girilen bir çocuğun yıl ve ay olarak yaşını hesaplayalım\n",
    "#56 aylık bir çocuk doğalı 4 yıl 8 ay oldu.\n",
    "kacAylik = 56\n",
    "yil = kacAylik // 12 #// kalansız böler.\n",
    "ay  = kacAylik %12   #% ile modunu aldık. 12'ye bölümünden kalan.\n",
    "\n",
    "print(kacAylik, \"aylık olan çocuğunuz doğalı\",yil,\"yil\",\"ve\",ay,\"ay oldu.\")"
   ]
  },
  {
   "cell_type": "markdown",
   "id": "41d7b035",
   "metadata": {},
   "source": [
    "### Atama"
   ]
  },
  {
   "cell_type": "code",
   "execution_count": 14,
   "id": "ab14363f",
   "metadata": {},
   "outputs": [
    {
     "data": {
      "text/plain": [
       "16"
      ]
     },
     "execution_count": 14,
     "metadata": {},
     "output_type": "execute_result"
    }
   ],
   "source": [
    "x = 5\n",
    "\n",
    "#kümlatif atama\n",
    "#x = x+3\n",
    "x +=3\n",
    "\n",
    "#\n",
    "#x = x*2\n",
    "x *=2\n",
    "\n",
    "x"
   ]
  },
  {
   "cell_type": "code",
   "execution_count": null,
   "id": "b2461fd2",
   "metadata": {},
   "outputs": [
    {
     "name": "stdout",
     "output_type": "stream",
     "text": [
      "2 1\n"
     ]
    }
   ],
   "source": [
    "x = 1\n",
    "y = 2\n",
    "\n",
    "#önce eşitliğin sağı hesaplanır. sonra sola atanır.\n",
    "x,y = y,x #değerleri yer değiştirdik\n",
    "\n",
    "print(x,y)"
   ]
  },
  {
   "cell_type": "markdown",
   "id": "3658be6c",
   "metadata": {},
   "source": [
    "### Karşılaştırma"
   ]
  },
  {
   "cell_type": "code",
   "execution_count": null,
   "id": "45603faf",
   "metadata": {},
   "outputs": [
    {
     "data": {
      "text/plain": [
       "True"
      ]
     },
     "execution_count": 19,
     "metadata": {},
     "output_type": "execute_result"
    }
   ],
   "source": [
    "x = 6\n",
    "\n",
    "x%2 == 0 #çift mi?"
   ]
  },
  {
   "cell_type": "code",
   "execution_count": 20,
   "id": "2ee37b89",
   "metadata": {},
   "outputs": [
    {
     "data": {
      "text/plain": [
       "True"
      ]
     },
     "execution_count": 20,
     "metadata": {},
     "output_type": "execute_result"
    }
   ],
   "source": [
    "m = \"metin\"\n",
    "\n",
    "type(m) == str #str tipinden mi?"
   ]
  },
  {
   "cell_type": "markdown",
   "id": "0afa31fc",
   "metadata": {},
   "source": [
    "### Mantıksal\n",
    "* `and`: her iki taraf da True olursa sonuç True olur.\n",
    "* `or` :  herhangi bir taraf True olursa sonuç True\n",
    "* `not(şart)`: şartın mantıksal sonucunun tersini verir."
   ]
  },
  {
   "cell_type": "code",
   "execution_count": null,
   "id": "1965e827",
   "metadata": {},
   "outputs": [
    {
     "data": {
      "text/plain": [
       "True"
      ]
     },
     "execution_count": 26,
     "metadata": {},
     "output_type": "execute_result"
    }
   ],
   "source": [
    "kadi = \"admin\"\n",
    "ksifre = \"123\"\n",
    "\n",
    "#\n",
    "kadi == \"admin\" and ksifre==\"123\"\n",
    "\n",
    "#not kullanarak yazalım\n",
    "not(kadi != \"admin\" or ksifre!=\"123\")\n",
    "#tersinin tersi kendisidir."
   ]
  },
  {
   "cell_type": "markdown",
   "id": "5b2ca8ce",
   "metadata": {},
   "source": [
    "### identity\n",
    "* `is`: memoryde aynı yeri mi gösteriyor?\n",
    "* `is not`: tersi"
   ]
  },
  {
   "cell_type": "code",
   "execution_count": null,
   "id": "d27373e5",
   "metadata": {},
   "outputs": [
    {
     "name": "stdout",
     "output_type": "stream",
     "text": [
      "True\n",
      "False\n"
     ]
    }
   ],
   "source": [
    "a = 1\n",
    "\n",
    "#\n",
    "b=a\n",
    "print(a is b)\n",
    "\n",
    "#\n",
    "b = 2\n",
    "\n",
    "#\n",
    "print(a is b)"
   ]
  },
  {
   "cell_type": "markdown",
   "id": "ddc5c387",
   "metadata": {},
   "source": [
    "### Üyelik"
   ]
  }
 ],
 "metadata": {
  "kernelspec": {
   "display_name": "Python 3",
   "language": "python",
   "name": "python3"
  },
  "language_info": {
   "codemirror_mode": {
    "name": "ipython",
    "version": 3
   },
   "file_extension": ".py",
   "mimetype": "text/x-python",
   "name": "python",
   "nbconvert_exporter": "python",
   "pygments_lexer": "ipython3",
   "version": "3.11.3"
  }
 },
 "nbformat": 4,
 "nbformat_minor": 5
}
