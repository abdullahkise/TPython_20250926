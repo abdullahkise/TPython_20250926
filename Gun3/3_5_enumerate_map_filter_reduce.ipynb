{
 "cells": [
  {
   "cell_type": "markdown",
   "id": "9b6ac68c",
   "metadata": {},
   "source": [
    "# Hayatı Kolaylaştıran Fonksiyonlar\n",
    "![alt text](KullanisliFonksionlar.png)"
   ]
  },
  {
   "cell_type": "markdown",
   "id": "fb3eb660",
   "metadata": {},
   "source": [
    "## Enumerate"
   ]
  },
  {
   "cell_type": "code",
   "execution_count": 1,
   "id": "4b138bd8",
   "metadata": {},
   "outputs": [
    {
     "data": {
      "text/plain": [
       "{'A', 'B', 'I', 'K', 'L'}"
      ]
     },
     "execution_count": 1,
     "metadata": {},
     "output_type": "execute_result"
    }
   ],
   "source": [
    "s = set(\"KALABALIK\")\n",
    "s"
   ]
  },
  {
   "cell_type": "code",
   "execution_count": null,
   "id": "db51dd17",
   "metadata": {},
   "outputs": [
    {
     "data": {
      "text/plain": [
       "[(100, 'B'), (101, 'A'), (102, 'I'), (103, 'L'), (104, 'K')]"
      ]
     },
     "execution_count": 5,
     "metadata": {},
     "output_type": "execute_result"
    }
   ],
   "source": [
    "enumerate(s)\n",
    "list(enumerate(s,100)) #sırasız elemalara sahip nesnlere sıra numarası vermemizi sağlar."
   ]
  },
  {
   "cell_type": "code",
   "execution_count": 9,
   "id": "deef922a",
   "metadata": {},
   "outputs": [
    {
     "data": {
      "text/plain": [
       "{100: 'B', 101: 'A', 102: 'I', 103: 'L', 104: 'K'}"
      ]
     },
     "execution_count": 9,
     "metadata": {},
     "output_type": "execute_result"
    }
   ],
   "source": [
    "ds = dict(enumerate(s,100)) #dict nesnesi ikili gelirse ilki key, ikincisini value olarak tanımlar.\n",
    "#ds[100]\n",
    "ds"
   ]
  },
  {
   "cell_type": "markdown",
   "id": "070b0d85",
   "metadata": {},
   "source": [
    "## Zip"
   ]
  },
  {
   "cell_type": "code",
   "execution_count": 16,
   "id": "a9aad806",
   "metadata": {},
   "outputs": [
    {
     "data": {
      "text/plain": [
       "[(312, 342), (321, 65), (54, 79), (76, 90)]"
      ]
     },
     "execution_count": 16,
     "metadata": {},
     "output_type": "execute_result"
    }
   ],
   "source": [
    "gercek = [312,321,54,76]\n",
    "tahmin = [342,65,79,90]\n",
    "\n",
    "#listeleri birlikte görelim.\n",
    "zip(gercek, tahmin) #nesne\n",
    "\n",
    "#\n",
    "list(zip(gercek, tahmin)) #[(312, 342), (321, 65), (54, 79), (76, 90)]"
   ]
  },
  {
   "cell_type": "code",
   "execution_count": null,
   "id": "dd285973",
   "metadata": {},
   "outputs": [
    {
     "name": "stdout",
     "output_type": "stream",
     "text": [
      "Gercek : 312 Tahmin : 342\n",
      "Gercek : 321 Tahmin : 65\n",
      "Gercek : 54 Tahmin : 79\n",
      "Gercek : 76 Tahmin : 90\n"
     ]
    }
   ],
   "source": [
    "#1. alternatif\n",
    "for z in zip(gercek, tahmin):\n",
    "    #print(z)\n",
    "    #print(f\"Gercek : {z[0]} Tahmin : {z[1]}\")\n",
    "    print(\"Gercek : {} Tahmin : {}\".format(*z)) #.format(z[0],z[1])) #*z ile z ikilsini buraya açtık."
   ]
  },
  {
   "cell_type": "code",
   "execution_count": 20,
   "id": "4568447c",
   "metadata": {},
   "outputs": [
    {
     "name": "stdout",
     "output_type": "stream",
     "text": [
      "Gercek : 312 Tahmin : 342\n",
      "Gercek : 321 Tahmin : 65\n",
      "Gercek : 54 Tahmin : 79\n",
      "Gercek : 76 Tahmin : 90\n"
     ]
    }
   ],
   "source": [
    "#2. alternatif (unpacking)\n",
    "for g,t in zip(gercek, tahmin):\n",
    "    #print(z)\n",
    "    print(f\"Gercek : {g} Tahmin : {t}\")\n",
    "    "
   ]
  },
  {
   "cell_type": "markdown",
   "id": "8700f608",
   "metadata": {},
   "source": [
    "### Map"
   ]
  },
  {
   "cell_type": "code",
   "execution_count": 25,
   "id": "c174d7b5",
   "metadata": {},
   "outputs": [
    {
     "data": {
      "text/plain": [
       "[144.0, 483.59999999999997, 780.0, 912.0, 385.2]"
      ]
     },
     "execution_count": 25,
     "metadata": {},
     "output_type": "execute_result"
    }
   ],
   "source": [
    "fiyatlar = [120,403,650,760,321]\n",
    "\n",
    "#list comphrension ile\n",
    "kdvDahilFiyatlar = [f*1.20 for f in fiyatlar] #broadcast yapmışlık\n",
    "\n",
    "kdvDahilFiyatlar"
   ]
  },
  {
   "cell_type": "code",
   "execution_count": 27,
   "id": "0c803cdd",
   "metadata": {},
   "outputs": [
    {
     "data": {
      "text/plain": [
       "[144.0, 483.59999999999997, 780.0, 912.0, 385.2]"
      ]
     },
     "execution_count": 27,
     "metadata": {},
     "output_type": "execute_result"
    }
   ],
   "source": [
    "#lambda fonksyionu ürettik.\n",
    "sonuclar = map(lambda f: f*1.20 ,fiyatlar) #map nesnesi döner.\n",
    "list(sonuclar)"
   ]
  },
  {
   "cell_type": "code",
   "execution_count": 31,
   "id": "58a38b5c",
   "metadata": {},
   "outputs": [
    {
     "data": {
      "text/plain": [
       "1278.0"
      ]
     },
     "execution_count": 31,
     "metadata": {},
     "output_type": "execute_result"
    }
   ],
   "source": [
    "#soru:\n",
    "#sayıların toplamını getirelim.\n",
    "sayilar = \"133;213;56;787;89\"\n",
    "\n",
    "#metni parçalamak için\n",
    "#1.list comphrension\n",
    "elemanlar = [float(s) for s in sayilar.split(\";\")]\n",
    "\n",
    "#2.map#her bir elemana float uygulayacak. geriye map nesnesi döner.\n",
    "elemanlar = map(float ,sayilar.split(\";\"))\n",
    "\n",
    "#\n",
    "sum(elemanlar)"
   ]
  },
  {
   "cell_type": "markdown",
   "id": "d6eebc92",
   "metadata": {},
   "source": [
    "### filter"
   ]
  },
  {
   "cell_type": "code",
   "execution_count": 34,
   "id": "0fce4232",
   "metadata": {},
   "outputs": [
    {
     "data": {
      "text/plain": [
       "['abdullahkise@homail.com', 'abdullahkise@gmail.com']"
      ]
     },
     "execution_count": 34,
     "metadata": {},
     "output_type": "execute_result"
    }
   ],
   "source": [
    "metinler = [\"ali\",\"abdullahkise@homail.com\", \"2131\",\"???\",\"abdullahkise@gmail.com\"]\n",
    "\n",
    "#içinde @ işareti olanları getirmek istiyorum\n",
    "#1.\n",
    "[m for m in metinler if \"@\" in m]\n",
    "\n",
    "\n",
    "#2.filter\n",
    "sonuc = filter(lambda m: \"@\" in m ,metinler) #filter\n",
    "\n",
    "list(sonuc)"
   ]
  }
 ],
 "metadata": {
  "kernelspec": {
   "display_name": "Python 3 (ipykernel)",
   "language": "python",
   "name": "python3"
  },
  "language_info": {
   "codemirror_mode": {
    "name": "ipython",
    "version": 3
   },
   "file_extension": ".py",
   "mimetype": "text/x-python",
   "name": "python",
   "nbconvert_exporter": "python",
   "pygments_lexer": "ipython3",
   "version": "3.11.3"
  }
 },
 "nbformat": 4,
 "nbformat_minor": 5
}
