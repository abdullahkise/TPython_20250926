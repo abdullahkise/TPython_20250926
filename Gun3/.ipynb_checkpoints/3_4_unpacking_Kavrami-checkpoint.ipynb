{
 "cells": [
  {
   "cell_type": "markdown",
   "id": "d0249ab1",
   "metadata": {},
   "source": [
    "# Unpacking\n",
    "![alt text](Unpacking.png)"
   ]
  },
  {
   "cell_type": "code",
   "execution_count": 2,
   "id": "c22ba133",
   "metadata": {},
   "outputs": [
    {
     "name": "stdout",
     "output_type": "stream",
     "text": [
      "1 2 3\n"
     ]
    }
   ],
   "source": [
    "#değer desen uyumlu ise ilgili atamalar yapılır\n",
    "a = 1\n",
    "a = b =1\n",
    "a,b,c = 1,2,3 #tuple = tuple deseni var.\n",
    "\n",
    "print(a,b,c)"
   ]
  },
  {
   "cell_type": "code",
   "execution_count": null,
   "id": "9e99263f",
   "metadata": {},
   "outputs": [
    {
     "name": "stdout",
     "output_type": "stream",
     "text": [
      "Ali\n",
      "A\n",
      "B\n"
     ]
    }
   ],
   "source": [
    "ad,ehliyetler = [\"Ali\", (\"A\",\"B\")]\n",
    "\n",
    "#print(ad, ehliyetler, sep=\"\\n\")\n",
    "\n",
    "#\n",
    "ad,(e1,e2) = [\"Ali\", (\"A\",\"B\")] #desen uyumlu\n",
    "\n",
    "print(ad,e1,e2,sep=\"\\n\")\n"
   ]
  },
  {
   "cell_type": "markdown",
   "id": "0691990a",
   "metadata": {},
   "source": [
    "## Eleman sayısı ile değişken sayısı uyumlu değilse\n",
    "### Eleman atlamak"
   ]
  },
  {
   "cell_type": "code",
   "execution_count": null,
   "id": "7477526a",
   "metadata": {},
   "outputs": [
    {
     "name": "stdout",
     "output_type": "stream",
     "text": [
      "1 4\n"
     ]
    }
   ],
   "source": [
    "#a,b = [1,2,3,4,5]\n",
    "a,_,_,b,_ =  [1,2,3,4,5]\n",
    "\n",
    "\"\"\"\n",
    "    _ ile 1 eleman atladık.\n",
    "    1. eleman a\n",
    "    2. elemanı atla,\n",
    "    3. atla\n",
    "    4. b olsun.\n",
    "    5. eleman atla\n",
    "\"\"\"\n",
    "\n",
    "print(a,b)"
   ]
  },
  {
   "cell_type": "code",
   "execution_count": null,
   "id": "174a7c84",
   "metadata": {},
   "outputs": [
    {
     "name": "stdout",
     "output_type": "stream",
     "text": [
      "1 2\n"
     ]
    }
   ],
   "source": [
    " a,b,*_ = [1,2,3,4,5]\n",
    "\n",
    " \"\"\"\n",
    "    1. eleman a\n",
    "    2. eleman b\n",
    "    *_ ile geri kalanları atlıyoruz.\n",
    " \"\"\"\n",
    " print(a,b)"
   ]
  },
  {
   "cell_type": "code",
   "execution_count": null,
   "id": "720b59a2",
   "metadata": {},
   "outputs": [
    {
     "name": "stdout",
     "output_type": "stream",
     "text": [
      "1 5\n"
     ]
    }
   ],
   "source": [
    "a,*_,b,_ = [1,2,3,4,5]\n",
    "#*_ ile aradakileri atladık.\n",
    "\n",
    "\"\"\"\n",
    "    1. eleman a\n",
    "    son eleman atlasın _ ile\n",
    "    sondan 2. elema b olsun.\n",
    "    *_ geri kalanlar atlansın\n",
    "\"\"\"\n",
    "\n",
    "print(a,b)"
   ]
  },
  {
   "cell_type": "markdown",
   "id": "9ac853e3",
   "metadata": {},
   "source": [
    "### Kalan elemanları bir değişkene atamak"
   ]
  },
  {
   "cell_type": "code",
   "execution_count": null,
   "id": "90fd0507",
   "metadata": {},
   "outputs": [
    {
     "name": "stdout",
     "output_type": "stream",
     "text": [
      "1\n",
      "[2, 3, 4]\n",
      "5\n"
     ]
    }
   ],
   "source": [
    "a,*b,c=[1,2,3,4,5]\n",
    "\n",
    "\"\"\"\n",
    "    1. eleman a\n",
    "    son eleman c\n",
    "    geri kalanları b'ye atansın\n",
    "\"\"\"\n",
    "\n",
    "print(a,b,c, sep=\"\\n\")"
   ]
  },
  {
   "cell_type": "markdown",
   "id": "62fc8746",
   "metadata": {},
   "source": [
    "### Elemanları açmak için de kullanılabilir"
   ]
  },
  {
   "cell_type": "code",
   "execution_count": null,
   "id": "27d96e79",
   "metadata": {},
   "outputs": [
    {
     "data": {
      "text/plain": [
       "[1, 2, 3, 4, 5, 6, 7, 8, 9]"
      ]
     },
     "execution_count": 17,
     "metadata": {},
     "output_type": "execute_result"
    }
   ],
   "source": [
    "k = [1,2,3]\n",
    "l = [4,5,6]\n",
    "m = [7,8,9]\n",
    "\n",
    "#\n",
    "#k.append(l) #[1, 2, 3, [4, 5, 6]]\n",
    "k.extend(l) #[1, 2, 3, 4, 5, 6]\n",
    "#\n",
    "k.extend(m) #[1, 2, 3, 4, 5, 6, 7, 8, 9]\n",
    "#\n",
    "k"
   ]
  },
  {
   "cell_type": "code",
   "execution_count": null,
   "id": "dd404290",
   "metadata": {},
   "outputs": [
    {
     "data": {
      "text/plain": [
       "[1, 2, 3, 4, 5, 6, 7, 8, 9]"
      ]
     },
     "execution_count": 20,
     "metadata": {},
     "output_type": "execute_result"
    }
   ],
   "source": [
    "k = [1,2,3]\n",
    "l = [4,5,6]\n",
    "m = [7,8,9]\n",
    "\n",
    "[k,l,m] #append benzeri\n",
    "\n",
    "#\n",
    "[*k,*l,*m] #extend"
   ]
  }
 ],
 "metadata": {
  "kernelspec": {
   "display_name": "Python 3",
   "language": "python",
   "name": "python3"
  },
  "language_info": {
   "codemirror_mode": {
    "name": "ipython",
    "version": 3
   },
   "file_extension": ".py",
   "mimetype": "text/x-python",
   "name": "python",
   "nbconvert_exporter": "python",
   "pygments_lexer": "ipython3",
   "version": "3.11.3"
  }
 },
 "nbformat": 4,
 "nbformat_minor": 5
}
