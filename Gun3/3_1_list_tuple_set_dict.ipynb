{
 "cells": [
  {
   "cell_type": "markdown",
   "id": "70928e04",
   "metadata": {},
   "source": [
    "# List, Tuple, Set, Dict Tiplerine Yakından Bakış\n",
    "![alt text](ListVeTuple.png)\n",
    "\n",
    "## list\n",
    "![alt text](list.png)"
   ]
  },
  {
   "cell_type": "code",
   "execution_count": 87,
   "id": "e04974df",
   "metadata": {},
   "outputs": [
    {
     "data": {
      "text/plain": [
       "[0, 1, 2, 3, 4, 5, 6, 7, 8, 9]"
      ]
     },
     "execution_count": 87,
     "metadata": {},
     "output_type": "execute_result"
    }
   ],
   "source": [
    "#boş liste\n",
    "[]\n",
    "list()\n",
    "\n",
    "l = [1,2,3,\"metin\",\"metin\",None,True]\n",
    "\n",
    "#\n",
    "metin = \"merhaba\"\n",
    "list(metin) #tip dönüşüşümü\n",
    "\n",
    "#\n",
    "range(10)\n",
    "list(range(10))"
   ]
  },
  {
   "cell_type": "markdown",
   "id": "a9943f07",
   "metadata": {},
   "source": [
    "## Bazı Fonksiyonlar"
   ]
  },
  {
   "cell_type": "code",
   "execution_count": 88,
   "id": "63538485",
   "metadata": {},
   "outputs": [
    {
     "data": {
      "text/plain": [
       "True"
      ]
     },
     "execution_count": 88,
     "metadata": {},
     "output_type": "execute_result"
    }
   ],
   "source": [
    "dir(list)\n",
    "\n",
    "#\n",
    "sayilar = [10,4,13,350,60,46,57,10]\n",
    "\n",
    "#gömülü fonksiylar. dir(__builtins__)\n",
    "sum(sayilar)\n",
    "len(sayilar)\n",
    "min(sayilar)\n",
    "max(sayilar)\n",
    "\n",
    "#liste üzerinden erişilenler. list.fonksiyon veya listeNesnesi.fonksiyon\n",
    "sayilar.__len__()  #len ile aynı sonucu verir.\n",
    "\n",
    "#\n",
    "sayilar.count(10) #10 elemanından kaç tane var.\n",
    "\n",
    "#\n",
    "sayilar.index(13) #ilk olarak kacıncı indexte\n",
    "\n",
    "#indexi ver elemanı al\n",
    "sayilar[2]\n",
    "sayilar.__getitem__(2)\n",
    "\n",
    "#\n",
    "13 in sayilar #sayılar listesinde 13 elemanı var?\n",
    "sayilar.__contains__(13)"
   ]
  },
  {
   "cell_type": "code",
   "execution_count": 89,
   "id": "122e10fe",
   "metadata": {},
   "outputs": [
    {
     "data": {
      "text/plain": [
       "'------------------------------'"
      ]
     },
     "execution_count": 89,
     "metadata": {},
     "output_type": "execute_result"
    }
   ],
   "source": [
    "#[1,2,3] + 4 #dört işlem desteklenmez. HATA\n",
    "[1,2,3] * 4 #bu elemanları tekrarlar. listeyi 4 defa yazar\n",
    "\n",
    "\"-\"*30 #str container tiptir."
   ]
  },
  {
   "cell_type": "code",
   "execution_count": 90,
   "id": "e8019da5",
   "metadata": {},
   "outputs": [
    {
     "data": {
      "text/plain": [
       "[]"
      ]
     },
     "execution_count": 90,
     "metadata": {},
     "output_type": "execute_result"
    }
   ],
   "source": [
    "lst = [1,2,3]\n",
    "\n",
    "#\n",
    "lst.append(4) #eleman ekler.\n",
    "lst.append((10,20,30)) #olduğu gibi tek bir eleman olarak ekler.\n",
    "\n",
    "#\n",
    "lst.extend((100,200)) #elemanları açarak ekledi.\n",
    "lst += [300,400] #operatorle de extend yapılabilir.\n",
    "\n",
    "#\n",
    "lst.insert(0,-99) #0. indexe -99 ekle\n",
    "\n",
    "#sondaki veya istenen indeksteki elemanı siler.\n",
    "lst.pop() #parametre yoksa son indexteki elemanı siler.\n",
    "lst.pop(0) #0. indexi siler.\n",
    "\n",
    "#\n",
    "lst.remove((10, 20, 30)) #elemanı siler. append tersidir.\n",
    "\n",
    "#tersten sıralamak. listyi gerçekten sıraladı. farklı bir sırada tutuyor.\n",
    "lst.sort(reverse=True)\n",
    "lst.reverse()\n",
    "\n",
    "#listeyi tersten görmek için\n",
    "lst[::-1] #[300, 200, 100, 4, 3, 2, 1]\n",
    "\n",
    "#\n",
    "lst.clear() #temizler\n",
    "lst = [] #aynı şey.\n",
    "\n",
    "#\n",
    "lst"
   ]
  },
  {
   "cell_type": "markdown",
   "id": "848380d0",
   "metadata": {},
   "source": [
    "## tuple\n",
    "![alt text](tuple.png)"
   ]
  },
  {
   "cell_type": "code",
   "execution_count": 91,
   "id": "25e2f89b",
   "metadata": {},
   "outputs": [
    {
     "data": {
      "text/plain": [
       "('m', 'e', 'r', 'h', 'a', 'b', 'a')"
      ]
     },
     "execution_count": 91,
     "metadata": {},
     "output_type": "execute_result"
    }
   ],
   "source": [
    "dir(tuple)\n",
    "\n",
    "#boş tuple\n",
    "()\n",
    "tuple()\n",
    "\n",
    "#\n",
    "t = (1,2,3,\"metin\",False)\n",
    "t = 1,2,3,\"metin\",False\n",
    "\n",
    "#\n",
    "tuple(\"merhaba\")"
   ]
  },
  {
   "cell_type": "code",
   "execution_count": 92,
   "id": "e73bc0c3",
   "metadata": {},
   "outputs": [
    {
     "data": {
      "text/plain": [
       "1"
      ]
     },
     "execution_count": 92,
     "metadata": {},
     "output_type": "execute_result"
    }
   ],
   "source": [
    "t[0]\n",
    "#t[0] = \"değişmez hata verir\" #immutable tip."
   ]
  },
  {
   "cell_type": "code",
   "execution_count": 93,
   "id": "fadae2b0",
   "metadata": {},
   "outputs": [
    {
     "data": {
      "text/plain": [
       "['Veli', 'Ayşe', 'Tonguç']"
      ]
     },
     "execution_count": 93,
     "metadata": {},
     "output_type": "execute_result"
    }
   ],
   "source": [
    "#soru\n",
    "#verilen bir listedeki verilen indexlerde bulunan elemanları getirelim.\n",
    "lst = [\"Ali\",\"Veli\",\"Ayşe\",\"Fatma\",\"Hayriye\",\"Tonguç\"]\n",
    "istenenIndexler = (1,2,5) #bu indexlerde geçen elemanları isteyelim.\n",
    "\n",
    "#1.yöntem\n",
    "lst_bulunanlar = []\n",
    "for i in istenenIndexler:\n",
    "    #print(lst[i])\n",
    "    lst_bulunanlar.append(lst[i])\n",
    "\n",
    "#2. yöntem list comphrehension\n",
    "lst_bulunanlar = [lst[i] for i in istenenIndexler]\n",
    "\n",
    "#\n",
    "lst_bulunanlar"
   ]
  },
  {
   "cell_type": "code",
   "execution_count": 94,
   "id": "0413bb94",
   "metadata": {},
   "outputs": [
    {
     "data": {
      "text/plain": [
       "''"
      ]
     },
     "execution_count": 94,
     "metadata": {},
     "output_type": "execute_result"
    }
   ],
   "source": [
    "#soru:\n",
    "#Ay sırası verildiğnde ay adı gelsin. Aşağıdaki metni baz alalım.\n",
    "aylar = \"OcaŞubMarNisMayHazTemAğuEylEkiKasAra\" #aylar 3 harf şeklinde yazılmış\n",
    "kacinciAy = 15 #Şub gelsin.\n",
    "\"\"\"\n",
    "aylar[0:3] #oca 1.\n",
    "aylar[3:6] #Şub 2.\n",
    "aylar[6:9] #Mar 3.\n",
    "\"\"\"\n",
    "\n",
    "start = (kacinciAy-1)*3\n",
    "stop = start + 3\n",
    "\n",
    "aylar[start:stop]"
   ]
  },
  {
   "cell_type": "markdown",
   "id": "66a1a9c6",
   "metadata": {},
   "source": [
    "## Set ve Dict\n",
    "![alt text](set.png)"
   ]
  },
  {
   "cell_type": "code",
   "execution_count": 95,
   "id": "968a1108",
   "metadata": {},
   "outputs": [
    {
     "data": {
      "text/plain": [
       "{'A', 'B', 'I', 'K', 'L'}"
      ]
     },
     "execution_count": 95,
     "metadata": {},
     "output_type": "execute_result"
    }
   ],
   "source": [
    "#boş set\n",
    "{}\n",
    "set()\n",
    "\n",
    "#\n",
    "s = {0,1,2,3,\"metin\",\"metin\",False,True}\n",
    "\n",
    "s #0 False, 1 True olarak kabul edildi. Tekil tuttu.\n",
    "\n",
    "#\n",
    "metin = \"KALABALIK\"\n",
    "set(metin)"
   ]
  },
  {
   "cell_type": "code",
   "execution_count": 96,
   "id": "a2cefe95",
   "metadata": {},
   "outputs": [
    {
     "data": {
      "text/plain": [
       "{1, 2, 3, 4, 5}"
      ]
     },
     "execution_count": 96,
     "metadata": {},
     "output_type": "execute_result"
    }
   ],
   "source": [
    "dir(set)\n",
    "\n",
    "#\n",
    "a = {1,2,3,\"dört\"}\n",
    "b = {4,5,6,7,8}\n",
    "\n",
    "#\n",
    "a.add(4) #eleman ekler. append gibi.\n",
    "a.remove(\"dört\") #eleman siler.\n",
    "\n",
    "#\n",
    "a.update([4,5]) #extend gibi elemanları tek tek ekler.\n",
    "\n",
    "a"
   ]
  },
  {
   "cell_type": "code",
   "execution_count": 97,
   "id": "68029e87",
   "metadata": {},
   "outputs": [
    {
     "data": {
      "text/plain": [
       "False"
      ]
     },
     "execution_count": 97,
     "metadata": {},
     "output_type": "execute_result"
    }
   ],
   "source": [
    "#bileşim\n",
    "a.union(b)\n",
    "a | b #union ile aynı\n",
    "\n",
    "#kesişim\n",
    "a.intersection(b)\n",
    "a & b\n",
    "\n",
    "#a fark b. a'da olup b'de olmayanlar.\n",
    "a.difference(b)\n",
    "a - b\n",
    "\n",
    "#--------\n",
    "c = a & b #kesişim\n",
    "c #{4, 5}\n",
    "#--------\n",
    "c.issubset(b) #True c, b'nin alt kümesi mi? içeriyor mu?\n",
    "c<=b\n",
    "\n",
    "#\n",
    "a.issuperset(b) #False, a, b'nin üst kümesi mi?\n",
    "a>=b"
   ]
  },
  {
   "cell_type": "markdown",
   "id": "583c3ed8",
   "metadata": {},
   "source": [
    "## Dict\n",
    "![alt text](dict.png)\n"
   ]
  },
  {
   "cell_type": "code",
   "execution_count": null,
   "id": "46ffc0f6",
   "metadata": {},
   "outputs": [
    {
     "data": {
      "text/plain": [
       "{'ad': 'Ali', 'yas': 33, 'maas': 131.31}"
      ]
     },
     "execution_count": 98,
     "metadata": {},
     "output_type": "execute_result"
    }
   ],
   "source": [
    "p = {\"ad\":\"Ali\",\n",
    "     \"yas\":33}\n",
    "\n",
    "p[\"ad\"]\n",
    "\n",
    "#\n",
    "#p[\"maas\"] #KeyError\n",
    "p[\"maas\"] = 131.31 #yeni key:value eklemek.\n",
    "\n",
    "p"
   ]
  },
  {
   "cell_type": "code",
   "execution_count": null,
   "id": "5c8665ab",
   "metadata": {},
   "outputs": [
    {
     "name": "stdout",
     "output_type": "stream",
     "text": [
      "Key : ad ---- Value: Ali\n",
      "Key : yas ---- Value: 33\n",
      "Key : maas ---- Value: 131.31\n",
      "Key : ad ---- Value: Ali\n",
      "Key : yas ---- Value: 33\n",
      "Key : maas ---- Value: 131.31\n"
     ]
    }
   ],
   "source": [
    "p.keys()\n",
    "p.values()\n",
    "p.items()\n",
    "\n",
    "#-------------\n",
    "for kv in p.items():\n",
    "    #print(p)\n",
    "    print(f\"Key : {kv[0]} ---- Value: {kv[1]}\")\n",
    "\n",
    "#(key,value) , (key,value), (key,value)\n",
    "#unpacking gelen her bir tupleın ilk eleman k, ikinci elemanı v olsun\n",
    "for k,v in p.items():\n",
    "    #print(p)\n",
    "    print(f\"Key : {k} ---- Value: {v}\")"
   ]
  },
  {
   "cell_type": "code",
   "execution_count": 106,
   "id": "f8edf6ef",
   "metadata": {},
   "outputs": [
    {
     "data": {
      "text/plain": [
       "131.31"
      ]
     },
     "execution_count": 106,
     "metadata": {},
     "output_type": "execute_result"
    }
   ],
   "source": [
    "#soru: #son keye ait value nedir?\n",
    "#p.keys()[-1] #hata index desteklemeyen bir tip\n",
    "list(p.keys())  #list tipine çevirdik\n",
    "list(p.keys())[-1] #son key maas\n",
    "\n",
    "#\n",
    "key = list(p.keys())[-1]\n",
    "p[key]"
   ]
  }
 ],
 "metadata": {
  "kernelspec": {
   "display_name": "Python 3 (ipykernel)",
   "language": "python",
   "name": "python3"
  },
  "language_info": {
   "codemirror_mode": {
    "name": "ipython",
    "version": 3
   },
   "file_extension": ".py",
   "mimetype": "text/x-python",
   "name": "python",
   "nbconvert_exporter": "python",
   "pygments_lexer": "ipython3",
   "version": "3.11.3"
  }
 },
 "nbformat": 4,
 "nbformat_minor": 5
}
