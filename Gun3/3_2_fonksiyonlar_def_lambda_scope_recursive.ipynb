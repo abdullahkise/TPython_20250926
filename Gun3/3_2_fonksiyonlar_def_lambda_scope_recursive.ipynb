{
 "cells": [
  {
   "cell_type": "markdown",
   "id": "93066612",
   "metadata": {},
   "source": [
    "# Fonksiyonlar\n",
    "![alt text](Fonksiyonlar.png)"
   ]
  },
  {
   "cell_type": "code",
   "execution_count": 4,
   "id": "67e7662e",
   "metadata": {},
   "outputs": [
    {
     "data": {
      "text/plain": [
       "'Normal'"
      ]
     },
     "execution_count": 4,
     "metadata": {},
     "output_type": "execute_result"
    }
   ],
   "source": [
    "#varsayılan değer alan parametreler parametre listesinde sonda tanımlanır\n",
    "#kilo: int ile kilo parametresini int olacağını belirttik. Bu bilgi amaçlıdır. yine farklı tip gönderilebilir.\n",
    "def obeziteSeviyesi(kilo:int, boy:float=1.75) -> str:\n",
    "    \"\"\"\n",
    "        Bu fonksiyon boy ve kilo bilgisini alıp geriye obezite seviyesini döndürür.\n",
    "\n",
    "        Parametreler:\n",
    "        ---------------------\n",
    "        kilo : int cinsinden kilonuz\n",
    "        boy : float cinsin boyunuz\n",
    "\n",
    "        return: str cinsinden obezite seviyeniz\n",
    "    \"\"\"\n",
    "\n",
    "    #fonskiyon için\n",
    "    bki = kilo / boy**2\n",
    "\n",
    "    #\n",
    "    if bki>=40:\n",
    "        return \"3. Seviye obez\"\n",
    "    elif bki >=35:\n",
    "        return \"2. Seviye obez\"\n",
    "    elif bki >=30:\n",
    "        return \"1. Seviye obez\"\n",
    "    elif bki >=25:\n",
    "        return \"Hafif Şişman\"\n",
    "    elif bki >=18.5:\n",
    "        return \"Normal\"\n",
    "    elif bki >=17:\n",
    "        return \"Hafif düzeyde zayıf\"\n",
    "    elif bki >=16:\n",
    "        return \"Orta düzeyde zayıf\"\n",
    "    else:\n",
    "        return \"Ağır düzeyde zayıf\"\n",
    "#---------------------\n",
    "#FONKSİYONUN DIŞI\n",
    "obeziteSeviyesi(70, 1.50) #() ile fonksiyonu çalıştırıyoruz.\n",
    "obeziteSeviyesi(boy=1.82, kilo=82) #parametre adı kullanılırsa parametre sırasına uymak zorunda değil.\n",
    "obeziteSeviyesi(70) #kilo 70, boy varsayılan değer olur"
   ]
  },
  {
   "cell_type": "code",
   "execution_count": 5,
   "id": "cebbe190",
   "metadata": {},
   "outputs": [
    {
     "name": "stdout",
     "output_type": "stream",
     "text": [
      "\n",
      "        Bu fonksiyon boy ve kilo bilgisini alıp geriye obezite seviyesini döndürür.\n",
      "\n",
      "        Parametreler:\n",
      "        ---------------------\n",
      "        kilo : int cinsinden kilonuz\n",
      "        boy : float cinsin boyunuz\n",
      "\n",
      "        return: str cinsinden obezite seviyeniz\n",
      "    \n",
      "Bu __doc__ ile eklenmiş bir metin.\n"
     ]
    }
   ],
   "source": [
    "#help(obeziteSeviyesi)\n",
    "\n",
    "\"\"\"\n",
    "    1. fonksiyon tanımı\n",
    "    2. fonkiyon üzerindeki # ile yazılan yorum satırı\n",
    "    3. Fonksiyon tanımı altındaki metin helpte görünür.\n",
    "    4. __doc__ attributene metin atamak.\n",
    "\"\"\"\n",
    "\n",
    "#print(obeziteSeviyesi.__doc__)\n",
    "#sonradan helpe metin ekleyebiliriz.\n",
    "obeziteSeviyesi.__doc__ += \"\\nBu __doc__ ile eklenmiş bir metin.\"\n",
    "print(obeziteSeviyesi.__doc__)\n",
    "\n",
    "#parametre tiplerini bilgi amaçlı olarak belirtebiliriz.\n",
    "#python dynamic type özelliğine sahiptir. Doğal bir tip güvenliği sağlamaz.\n",
    "#tip güvenliği developera aittir."
   ]
  },
  {
   "cell_type": "markdown",
   "id": "3c07aa6f",
   "metadata": {},
   "source": [
    "## Fonksiyon Parametreleri sınırsız değer alabilir.\n",
    "1. `*parametre` sınırsız değer alıyor. içeride tuple olarak tutulur.\n",
    "2. `**parametre` sınırsız key:value şeklinde gönderilebilir. içeride dict olarak tutulur."
   ]
  },
  {
   "cell_type": "code",
   "execution_count": 6,
   "id": "ba7b3261",
   "metadata": {},
   "outputs": [],
   "source": [
    "def fnk_sinirsizParametre(*sinirsizValue , **sinirsizKeyValue):\n",
    "    print(\"Sınırsız Değerli Parametre :\", sinirsizValue)\n",
    "    print(\"Sınırsız Key Value Parametre :\", sinirsizKeyValue)"
   ]
  },
  {
   "cell_type": "code",
   "execution_count": 9,
   "id": "b09b53ad",
   "metadata": {},
   "outputs": [
    {
     "name": "stdout",
     "output_type": "stream",
     "text": [
      "Sınırsız Değerli Parametre : (1, 2, 3, 4, 5)\n",
      "Sınırsız Key Value Parametre : {'ad': 'ali', 'soyad': 'uçan'}\n"
     ]
    }
   ],
   "source": [
    "fnk_sinirsizParametre(1,2,3,4,5,ad=\"ali\",soyad=\"uçan\")"
   ]
  },
  {
   "cell_type": "code",
   "execution_count": null,
   "id": "a4113054",
   "metadata": {},
   "outputs": [
    {
     "data": {
      "text/plain": [
       "[8, 76]"
      ]
     },
     "execution_count": 20,
     "metadata": {},
     "output_type": "execute_result"
    }
   ],
   "source": [
    "#soru:\n",
    "#verilen sayılardan 4'e tam bölünenlerin sum, max, min, len, listesini döndüren fonksiyon\n",
    "def fnk_TamBolunenler(*sayilar):\n",
    "    \n",
    "    #1.yöntem\n",
    "    \"\"\"\n",
    "    #tam bölünenleri listede toplayalım.\n",
    "    lst_tamBolunenler=[]\n",
    "\n",
    "    \n",
    "    for s in set(sayilar): #set tekil tutar. tekrarlı sayılardan kurtulduk.\n",
    "        if s%4==0:\n",
    "            lst_tamBolunenler.append(s)\n",
    "    \"\"\"\n",
    "\n",
    "    #2.yöntem(list comprehension)\n",
    "    lst_tamBolunenler = [s for s in set(sayilar) if s%4==0]\n",
    "\n",
    "    #return lst_tamBolunenler, sum(lst_tamBolunenler), len(lst_tamBolunenler) #tuple\n",
    "    return {\n",
    "            \"tambolunenler\":lst_tamBolunenler,\n",
    "            \"toplam\":sum(lst_tamBolunenler),\n",
    "            \"uzunluk\":len(lst_tamBolunenler)\n",
    "    }\n",
    "\n",
    "#-----------------------------\n",
    "fnk_TamBolunenler(1,2,3,5,45,65,76,8,8,8,433)\n",
    "fnk_TamBolunenler(1,2,3,5,45,65,76,8,8,8,433)[\"toplam\"]\n",
    "\n",
    "#\n",
    "sonuc= fnk_TamBolunenler(1,2,3,5,45,65,76,8,8,8,433)\n",
    "sonuc[\"tambolunenler\"]"
   ]
  },
  {
   "cell_type": "markdown",
   "id": "82d3e006",
   "metadata": {},
   "source": [
    "## lambda (İsimsiz, gövdesiz fonksiyon tanımı)\n",
    "![alt text](lambda.png)"
   ]
  },
  {
   "cell_type": "code",
   "execution_count": 22,
   "id": "f6ad9aeb",
   "metadata": {},
   "outputs": [
    {
     "data": {
      "text/plain": [
       "50.0"
      ]
     },
     "execution_count": 22,
     "metadata": {},
     "output_type": "execute_result"
    }
   ],
   "source": [
    "#klasik yöntem\n",
    "def c2f(c):\n",
    "    return c*1.8 + 32\n",
    "#----\n",
    "c2f(10)"
   ]
  },
  {
   "cell_type": "code",
   "execution_count": 24,
   "id": "e8bd7bfe",
   "metadata": {},
   "outputs": [
    {
     "data": {
      "text/plain": [
       "50.0"
      ]
     },
     "execution_count": 24,
     "metadata": {},
     "output_type": "execute_result"
    }
   ],
   "source": [
    "#lambda\n",
    "lambda c:c*1.8 + 32 #fonksiyon nesnesi\n",
    "\n",
    "#(lambda c:c*1.8 + 32)(10)\n",
    "c2f = lambda c:c*1.8 + 32 #fonksiyon nesnesini değişkene atadık.\n",
    "c2f(10)"
   ]
  }
 ],
 "metadata": {
  "kernelspec": {
   "display_name": "Python 3 (ipykernel)",
   "language": "python",
   "name": "python3"
  },
  "language_info": {
   "codemirror_mode": {
    "name": "ipython",
    "version": 3
   },
   "file_extension": ".py",
   "mimetype": "text/x-python",
   "name": "python",
   "nbconvert_exporter": "python",
   "pygments_lexer": "ipython3",
   "version": "3.11.3"
  }
 },
 "nbformat": 4,
 "nbformat_minor": 5
}
