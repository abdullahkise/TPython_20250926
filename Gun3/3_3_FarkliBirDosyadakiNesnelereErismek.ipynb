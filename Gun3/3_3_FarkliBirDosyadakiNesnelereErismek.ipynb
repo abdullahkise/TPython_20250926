{
 "cells": [
  {
   "cell_type": "markdown",
   "id": "a756c8c2",
   "metadata": {},
   "source": [
    "# Farklı dosyadaki nesnelere erişmek\n",
    "\n",
    "## Önce paket yapısını oluşturalım"
   ]
  },
  {
   "cell_type": "code",
   "execution_count": 1,
   "id": "66a24c40",
   "metadata": {},
   "outputs": [],
   "source": [
    "myKutuphane = \"kutuphanem\""
   ]
  },
  {
   "cell_type": "code",
   "execution_count": 7,
   "id": "abe4ea7f",
   "metadata": {},
   "outputs": [],
   "source": [
    "import os #işletim sistemi işleri\n",
    "\n",
    "#os.getcwd()\n",
    "os.makedirs(myKutuphane, exist_ok=True) #klasor oluştursub varsa hata vermesin\n",
    "#!mkdir myKutuphane #terminal komutu ile de olur."
   ]
  },
  {
   "cell_type": "code",
   "execution_count": 3,
   "id": "5ac71ad4",
   "metadata": {},
   "outputs": [
    {
     "name": "stdout",
     "output_type": "stream",
     "text": [
      "Overwriting kutuphanem/nesnelerim.py\n"
     ]
    }
   ],
   "source": [
    "%%writefile $myKutuphane/nesnelerim.py\n",
    "#notebook özel komutudur. bu içeriğini belirten yolda bir dosyaya yazmak.\n",
    "#dosya/klasor yolunu $ ile değişkenden alabiliriz.\n",
    "def c2f(c:int)->float:\n",
    "    \"\"\"\n",
    "        int tipinden C alır. F'yi hesaplar\n",
    "    \"\"\"\n",
    "    return c*1.8 + 32"
   ]
  },
  {
   "cell_type": "markdown",
   "id": "a09e15c3",
   "metadata": {},
   "source": [
    "## Paketi Çalışma Ortamına Çağıralım"
   ]
  },
  {
   "cell_type": "code",
   "execution_count": 10,
   "id": "c1d745f0",
   "metadata": {},
   "outputs": [
    {
     "data": {
      "text/plain": [
       "['C:\\\\forSpark\\\\spark\\\\python\\\\lib',\n",
       " 'c:\\\\Users\\\\Abdullah\\\\AppData\\\\Local\\\\Programs\\\\Python\\\\Python311\\\\python311.zip',\n",
       " 'c:\\\\Users\\\\Abdullah\\\\AppData\\\\Local\\\\Programs\\\\Python\\\\Python311\\\\DLLs',\n",
       " 'c:\\\\Users\\\\Abdullah\\\\AppData\\\\Local\\\\Programs\\\\Python\\\\Python311\\\\Lib',\n",
       " 'c:\\\\Users\\\\Abdullah\\\\AppData\\\\Local\\\\Programs\\\\Python\\\\Python311',\n",
       " '',\n",
       " 'C:\\\\Users\\\\Abdullah\\\\AppData\\\\Roaming\\\\Python\\\\Python311\\\\site-packages',\n",
       " 'c:\\\\Users\\\\Abdullah\\\\AppData\\\\Local\\\\Programs\\\\Python\\\\Python311\\\\Lib\\\\site-packages',\n",
       " 'c:\\\\Users\\\\Abdullah\\\\AppData\\\\Local\\\\Programs\\\\Python\\\\Python311\\\\Lib\\\\site-packages\\\\win32',\n",
       " 'c:\\\\Users\\\\Abdullah\\\\AppData\\\\Local\\\\Programs\\\\Python\\\\Python311\\\\Lib\\\\site-packages\\\\win32\\\\lib',\n",
       " 'c:\\\\Users\\\\Abdullah\\\\AppData\\\\Local\\\\Programs\\\\Python\\\\Python311\\\\Lib\\\\site-packages\\\\Pythonwin']"
      ]
     },
     "execution_count": 10,
     "metadata": {},
     "output_type": "execute_result"
    }
   ],
   "source": [
    "#pythonon dikkate aldığı yollar var. bu yollardaki kütüphaneleri import edebiliriz.\n",
    "import sys\n",
    "\n",
    "sys.path #pythonın dikkate aldığı yolların listesi\n",
    "#sys.path[0] #çalışma yolunu dikkate alır. import edilebilir"
   ]
  },
  {
   "cell_type": "code",
   "execution_count": 12,
   "id": "49dec73d",
   "metadata": {},
   "outputs": [],
   "source": [
    "#import kutuphanem #package import edelim.\n",
    "#klasor adını yazarsam için __init__.py dosyasını arar.\n",
    "\n",
    "#doğrudan modulu çağırabilir.\n",
    "#import kutuphanem.nesnelerim\n",
    "from kutuphanem import nesnelerim as nsn #takma ad verdik"
   ]
  },
  {
   "cell_type": "code",
   "execution_count": 14,
   "id": "922b750a",
   "metadata": {},
   "outputs": [
    {
     "data": {
      "text/plain": [
       "50.0"
      ]
     },
     "execution_count": 14,
     "metadata": {},
     "output_type": "execute_result"
    }
   ],
   "source": [
    "dir(nsn)\n",
    "\n",
    "nsn.c2f(10)"
   ]
  },
  {
   "cell_type": "markdown",
   "id": "cabeb3da",
   "metadata": {},
   "source": [
    "## Kütüphanede Değişiklikler Yapalım"
   ]
  },
  {
   "cell_type": "code",
   "execution_count": 16,
   "id": "1a216580",
   "metadata": {},
   "outputs": [
    {
     "name": "stdout",
     "output_type": "stream",
     "text": [
      "Overwriting kutuphanem/nesnelerim.py\n"
     ]
    }
   ],
   "source": [
    "%%writefile $myKutuphane/nesnelerim.py\n",
    "#notebook özel komutudur. bu içeriğini belirten yolda bir dosyaya yazmak.\n",
    "#dosya/klasor yolunu $ ile değişkenden alabiliriz.\n",
    "def c2f(c:int)->float:\n",
    "    \"\"\"\n",
    "        int tipinden C alır. F'yi hesaplar\n",
    "    \"\"\"\n",
    "    return c*1.8 + 32\n",
    "\n",
    "#--yeni değişkenler--\n",
    "yazar = \"Abdullah Kise\"\n",
    "mail = \"abdullahkise@hotmail.com\""
   ]
  },
  {
   "cell_type": "code",
   "execution_count": 20,
   "id": "6c1ead39",
   "metadata": {},
   "outputs": [
    {
     "ename": "AttributeError",
     "evalue": "module 'kutuphanem.nesnelerim' has no attribute 'yazar'",
     "output_type": "error",
     "traceback": [
      "\u001b[1;31m---------------------------------------------------------------------------\u001b[0m",
      "\u001b[1;31mAttributeError\u001b[0m                            Traceback (most recent call last)",
      "Cell \u001b[1;32mIn[20], line 7\u001b[0m\n\u001b[0;32m      4\u001b[0m \u001b[38;5;28;01mfrom\u001b[39;00m\u001b[38;5;250m \u001b[39m\u001b[38;5;21;01mkutuphanem\u001b[39;00m\u001b[38;5;250m \u001b[39m\u001b[38;5;28;01mimport\u001b[39;00m nesnelerim \u001b[38;5;28;01mas\u001b[39;00m nsn\n\u001b[0;32m      5\u001b[0m \u001b[38;5;66;03m#bu şekilde import edersek değişiklikler gelmez.\u001b[39;00m\n\u001b[1;32m----> 7\u001b[0m \u001b[43mnsn\u001b[49m\u001b[38;5;241;43m.\u001b[39;49m\u001b[43myazar\u001b[49m\n",
      "\u001b[1;31mAttributeError\u001b[0m: module 'kutuphanem.nesnelerim' has no attribute 'yazar'"
     ]
    }
   ],
   "source": [
    "dir(nsn) # kütphane içeriyi daha önce import edildiği için değişiklikler görünmez.\n",
    "\n",
    "#\n",
    "from kutuphanem import nesnelerim as nsn\n",
    "#bu şekilde import edersek değişiklikler gelmez.\n",
    "\n",
    "nsn.yazar"
   ]
  },
  {
   "cell_type": "markdown",
   "id": "466d8b74",
   "metadata": {},
   "source": [
    "## Değişikliklerin yansıması için"
   ]
  },
  {
   "cell_type": "code",
   "execution_count": 21,
   "id": "3db24dfc",
   "metadata": {},
   "outputs": [
    {
     "data": {
      "text/plain": [
       "<module 'kutuphanem.nesnelerim' from 'c:\\\\Users\\\\Abdullah\\\\Documents\\\\GitHub\\\\TPython_20250926\\\\Gun3\\\\kutuphanem\\\\nesnelerim.py'>"
      ]
     },
     "execution_count": 21,
     "metadata": {},
     "output_type": "execute_result"
    }
   ],
   "source": [
    "import importlib\n",
    "\n",
    "importlib.reload(nsn) #bu kütüphaneyi güncel hali ile yeniden ortama al"
   ]
  },
  {
   "cell_type": "code",
   "execution_count": 22,
   "id": "3373aa9f",
   "metadata": {},
   "outputs": [
    {
     "data": {
      "text/plain": [
       "'Abdullah Kise'"
      ]
     },
     "execution_count": 22,
     "metadata": {},
     "output_type": "execute_result"
    }
   ],
   "source": [
    "nsn.yazar"
   ]
  }
 ],
 "metadata": {
  "kernelspec": {
   "display_name": "Python 3 (ipykernel)",
   "language": "python",
   "name": "python3"
  },
  "language_info": {
   "codemirror_mode": {
    "name": "ipython",
    "version": 3
   },
   "file_extension": ".py",
   "mimetype": "text/x-python",
   "name": "python",
   "nbconvert_exporter": "python",
   "pygments_lexer": "ipython3",
   "version": "3.11.3"
  }
 },
 "nbformat": 4,
 "nbformat_minor": 5
}
